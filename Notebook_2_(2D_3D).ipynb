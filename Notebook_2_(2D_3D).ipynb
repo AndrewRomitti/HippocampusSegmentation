{
  "cells": [
    {
      "cell_type": "markdown",
      "metadata": {
        "id": "view-in-github",
        "colab_type": "text"
      },
      "source": [
        "<a href=\"https://colab.research.google.com/github/AndrewRomitti/HippocampusSegmentation/blob/main/Notebook_2_(2D_3D).ipynb\" target=\"_parent\"><img src=\"https://colab.research.google.com/assets/colab-badge.svg\" alt=\"Open In Colab\"/></a>"
      ]
    },
    {
      "cell_type": "markdown",
      "source": [
        "#3D Volumetric UNET Model for Hippocampus Segmentation"
      ],
      "metadata": {
        "id": "8D4VoCuhbmkK"
      }
    },
    {
      "cell_type": "code",
      "execution_count": null,
      "metadata": {
        "colab": {
          "base_uri": "https://localhost:8080/"
        },
        "id": "52ItsLpzXCj7",
        "outputId": "cc9937b4-dbbe-47c5-a3e1-781672c0ddbd"
      },
      "outputs": [
        {
          "name": "stdout",
          "output_type": "stream",
          "text": [
            "Starting Notebook\n"
          ]
        }
      ],
      "source": [
        "print(\"Starting Notebook\")"
      ]
    },
    {
      "cell_type": "code",
      "execution_count": null,
      "metadata": {
        "id": "ts5Q2DaOO3_r"
      },
      "outputs": [],
      "source": [
        "import os"
      ]
    },
    {
      "cell_type": "code",
      "execution_count": null,
      "metadata": {
        "colab": {
          "base_uri": "https://localhost:8080/"
        },
        "id": "ujSAsJORXHwg",
        "outputId": "ce5155e1-3ce6-4d18-c826-99fc1b52a819"
      },
      "outputs": [
        {
          "name": "stdout",
          "output_type": "stream",
          "text": [
            "Mounted at /content/gdrive\n"
          ]
        }
      ],
      "source": [
        "from google.colab import drive\n",
        "drive.mount('/content/gdrive')"
      ]
    },
    {
      "cell_type": "code",
      "execution_count": null,
      "metadata": {
        "colab": {
          "base_uri": "https://localhost:8080/",
          "height": 73
        },
        "id": "bMH_lIdgXKwE",
        "outputId": "65b1c8fe-61b3-4f2a-874b-a6973eaa55e9"
      },
      "outputs": [
        {
          "data": {
            "text/html": [
              "\n",
              "     <input type=\"file\" id=\"files-d7844e22-ca7e-4e0b-92b3-3c8f0d97f815\" name=\"files[]\" multiple disabled\n",
              "        style=\"border:none\" />\n",
              "     <output id=\"result-d7844e22-ca7e-4e0b-92b3-3c8f0d97f815\">\n",
              "      Upload widget is only available when the cell has been executed in the\n",
              "      current browser session. Please rerun this cell to enable.\n",
              "      </output>\n",
              "      <script>// Copyright 2017 Google LLC\n",
              "//\n",
              "// Licensed under the Apache License, Version 2.0 (the \"License\");\n",
              "// you may not use this file except in compliance with the License.\n",
              "// You may obtain a copy of the License at\n",
              "//\n",
              "//      http://www.apache.org/licenses/LICENSE-2.0\n",
              "//\n",
              "// Unless required by applicable law or agreed to in writing, software\n",
              "// distributed under the License is distributed on an \"AS IS\" BASIS,\n",
              "// WITHOUT WARRANTIES OR CONDITIONS OF ANY KIND, either express or implied.\n",
              "// See the License for the specific language governing permissions and\n",
              "// limitations under the License.\n",
              "\n",
              "/**\n",
              " * @fileoverview Helpers for google.colab Python module.\n",
              " */\n",
              "(function(scope) {\n",
              "function span(text, styleAttributes = {}) {\n",
              "  const element = document.createElement('span');\n",
              "  element.textContent = text;\n",
              "  for (const key of Object.keys(styleAttributes)) {\n",
              "    element.style[key] = styleAttributes[key];\n",
              "  }\n",
              "  return element;\n",
              "}\n",
              "\n",
              "// Max number of bytes which will be uploaded at a time.\n",
              "const MAX_PAYLOAD_SIZE = 100 * 1024;\n",
              "\n",
              "function _uploadFiles(inputId, outputId) {\n",
              "  const steps = uploadFilesStep(inputId, outputId);\n",
              "  const outputElement = document.getElementById(outputId);\n",
              "  // Cache steps on the outputElement to make it available for the next call\n",
              "  // to uploadFilesContinue from Python.\n",
              "  outputElement.steps = steps;\n",
              "\n",
              "  return _uploadFilesContinue(outputId);\n",
              "}\n",
              "\n",
              "// This is roughly an async generator (not supported in the browser yet),\n",
              "// where there are multiple asynchronous steps and the Python side is going\n",
              "// to poll for completion of each step.\n",
              "// This uses a Promise to block the python side on completion of each step,\n",
              "// then passes the result of the previous step as the input to the next step.\n",
              "function _uploadFilesContinue(outputId) {\n",
              "  const outputElement = document.getElementById(outputId);\n",
              "  const steps = outputElement.steps;\n",
              "\n",
              "  const next = steps.next(outputElement.lastPromiseValue);\n",
              "  return Promise.resolve(next.value.promise).then((value) => {\n",
              "    // Cache the last promise value to make it available to the next\n",
              "    // step of the generator.\n",
              "    outputElement.lastPromiseValue = value;\n",
              "    return next.value.response;\n",
              "  });\n",
              "}\n",
              "\n",
              "/**\n",
              " * Generator function which is called between each async step of the upload\n",
              " * process.\n",
              " * @param {string} inputId Element ID of the input file picker element.\n",
              " * @param {string} outputId Element ID of the output display.\n",
              " * @return {!Iterable<!Object>} Iterable of next steps.\n",
              " */\n",
              "function* uploadFilesStep(inputId, outputId) {\n",
              "  const inputElement = document.getElementById(inputId);\n",
              "  inputElement.disabled = false;\n",
              "\n",
              "  const outputElement = document.getElementById(outputId);\n",
              "  outputElement.innerHTML = '';\n",
              "\n",
              "  const pickedPromise = new Promise((resolve) => {\n",
              "    inputElement.addEventListener('change', (e) => {\n",
              "      resolve(e.target.files);\n",
              "    });\n",
              "  });\n",
              "\n",
              "  const cancel = document.createElement('button');\n",
              "  inputElement.parentElement.appendChild(cancel);\n",
              "  cancel.textContent = 'Cancel upload';\n",
              "  const cancelPromise = new Promise((resolve) => {\n",
              "    cancel.onclick = () => {\n",
              "      resolve(null);\n",
              "    };\n",
              "  });\n",
              "\n",
              "  // Wait for the user to pick the files.\n",
              "  const files = yield {\n",
              "    promise: Promise.race([pickedPromise, cancelPromise]),\n",
              "    response: {\n",
              "      action: 'starting',\n",
              "    }\n",
              "  };\n",
              "\n",
              "  cancel.remove();\n",
              "\n",
              "  // Disable the input element since further picks are not allowed.\n",
              "  inputElement.disabled = true;\n",
              "\n",
              "  if (!files) {\n",
              "    return {\n",
              "      response: {\n",
              "        action: 'complete',\n",
              "      }\n",
              "    };\n",
              "  }\n",
              "\n",
              "  for (const file of files) {\n",
              "    const li = document.createElement('li');\n",
              "    li.append(span(file.name, {fontWeight: 'bold'}));\n",
              "    li.append(span(\n",
              "        `(${file.type || 'n/a'}) - ${file.size} bytes, ` +\n",
              "        `last modified: ${\n",
              "            file.lastModifiedDate ? file.lastModifiedDate.toLocaleDateString() :\n",
              "                                    'n/a'} - `));\n",
              "    const percent = span('0% done');\n",
              "    li.appendChild(percent);\n",
              "\n",
              "    outputElement.appendChild(li);\n",
              "\n",
              "    const fileDataPromise = new Promise((resolve) => {\n",
              "      const reader = new FileReader();\n",
              "      reader.onload = (e) => {\n",
              "        resolve(e.target.result);\n",
              "      };\n",
              "      reader.readAsArrayBuffer(file);\n",
              "    });\n",
              "    // Wait for the data to be ready.\n",
              "    let fileData = yield {\n",
              "      promise: fileDataPromise,\n",
              "      response: {\n",
              "        action: 'continue',\n",
              "      }\n",
              "    };\n",
              "\n",
              "    // Use a chunked sending to avoid message size limits. See b/62115660.\n",
              "    let position = 0;\n",
              "    do {\n",
              "      const length = Math.min(fileData.byteLength - position, MAX_PAYLOAD_SIZE);\n",
              "      const chunk = new Uint8Array(fileData, position, length);\n",
              "      position += length;\n",
              "\n",
              "      const base64 = btoa(String.fromCharCode.apply(null, chunk));\n",
              "      yield {\n",
              "        response: {\n",
              "          action: 'append',\n",
              "          file: file.name,\n",
              "          data: base64,\n",
              "        },\n",
              "      };\n",
              "\n",
              "      let percentDone = fileData.byteLength === 0 ?\n",
              "          100 :\n",
              "          Math.round((position / fileData.byteLength) * 100);\n",
              "      percent.textContent = `${percentDone}% done`;\n",
              "\n",
              "    } while (position < fileData.byteLength);\n",
              "  }\n",
              "\n",
              "  // All done.\n",
              "  yield {\n",
              "    response: {\n",
              "      action: 'complete',\n",
              "    }\n",
              "  };\n",
              "}\n",
              "\n",
              "scope.google = scope.google || {};\n",
              "scope.google.colab = scope.google.colab || {};\n",
              "scope.google.colab._files = {\n",
              "  _uploadFiles,\n",
              "  _uploadFilesContinue,\n",
              "};\n",
              "})(self);\n",
              "</script> "
            ],
            "text/plain": [
              "<IPython.core.display.HTML object>"
            ]
          },
          "metadata": {},
          "output_type": "display_data"
        },
        {
          "name": "stdout",
          "output_type": "stream",
          "text": [
            "Saving kaggle (7).json to kaggle (7).json\n"
          ]
        }
      ],
      "source": [
        "from google.colab import files\n",
        "input_file = files.upload()"
      ]
    },
    {
      "cell_type": "code",
      "execution_count": null,
      "metadata": {
        "id": "uwtMBW1TXMKw"
      },
      "outputs": [],
      "source": [
        "!pip install -q kaggle > /dev/null 2>&1"
      ]
    },
    {
      "cell_type": "code",
      "execution_count": null,
      "metadata": {
        "id": "7fdo2ovzXNWC"
      },
      "outputs": [],
      "source": [
        "!mkdir -p ~/.kaggle\n",
        "!cp kaggle.json ~/.kaggle/"
      ]
    },
    {
      "cell_type": "code",
      "execution_count": null,
      "metadata": {
        "id": "T_HdrGp-XOnp"
      },
      "outputs": [],
      "source": [
        "!chmod 600 /root/.kaggle/kaggle.json"
      ]
    },
    {
      "cell_type": "code",
      "execution_count": null,
      "metadata": {
        "colab": {
          "base_uri": "https://localhost:8080/"
        },
        "id": "Qv2BQqPnXPwH",
        "outputId": "3cc85e32-a5ec-44de-f35c-262451055516"
      },
      "outputs": [
        {
          "name": "stdout",
          "output_type": "stream",
          "text": [
            "Downloading hippocampus-segmentation-in-mri-images.zip to /content\n",
            " 98% 793M/806M [00:09<00:00, 101MB/s]\n",
            "100% 806M/806M [00:09<00:00, 85.1MB/s]\n"
          ]
        }
      ],
      "source": [
        "!kaggle datasets download -d andrewmvd/hippocampus-segmentation-in-mri-images"
      ]
    },
    {
      "cell_type": "code",
      "execution_count": null,
      "metadata": {
        "id": "o_TaWjm8XQ6y"
      },
      "outputs": [],
      "source": [
        "!unzip /content/hippocampus-segmentation-in-mri-images.zip > /dev/null 2>$1"
      ]
    },
    {
      "cell_type": "code",
      "execution_count": null,
      "metadata": {
        "id": "iMffmwKirbUM"
      },
      "outputs": [],
      "source": [
        "import nibabel as nb\n",
        "\n",
        "def prepare_img(image):\n",
        "  img_data = image.get_fdata()\n",
        "  img_data_np = np.array(img_data)\n",
        "  return img_data_np"
      ]
    },
    {
      "cell_type": "code",
      "execution_count": null,
      "metadata": {
        "id": "NBjelx9lF-QV"
      },
      "outputs": [],
      "source": [
        "from sklearn.preprocessing import MinMaxScaler"
      ]
    },
    {
      "cell_type": "code",
      "execution_count": null,
      "metadata": {
        "id": "_kjgS9PEGLn-"
      },
      "outputs": [],
      "source": [
        "scaler=MinMaxScaler()"
      ]
    },
    {
      "cell_type": "code",
      "execution_count": null,
      "metadata": {
        "id": "ct4NFScdGwwk"
      },
      "outputs": [],
      "source": [
        "img = nb.load(\"/content/Train/HFH_001.img\").get_fdata()\n",
        "img=scaler.fit_transform(img.reshape(-1, img.shape[-1])).reshape(img.shape) #Line of code taken from https://github.com/bnsreenu/python_for_microscopists/blob/master/231_234_BraTa2020_Unet_segmentation/232_brats2020_get_data_ready.py"
      ]
    },
    {
      "cell_type": "code",
      "execution_count": null,
      "metadata": {
        "colab": {
          "base_uri": "https://localhost:8080/"
        },
        "id": "DTbI5E7jPR-C",
        "outputId": "5687f878-665e-4cd6-a302-7dc0df64ee3f"
      },
      "outputs": [
        {
          "data": {
            "text/plain": [
              "(256, 128, 256, 1)"
            ]
          },
          "execution_count": 115,
          "metadata": {},
          "output_type": "execute_result"
        }
      ],
      "source": [
        "blank_img = np.zeros((256,10,256,1))\n",
        "\n",
        "new_img = np.concatenate((blank_img, img),axis=1)\n",
        "new_img.shape"
      ]
    },
    {
      "cell_type": "code",
      "execution_count": null,
      "metadata": {
        "id": "ZdrOGh_lQZKj"
      },
      "outputs": [],
      "source": []
    },
    {
      "cell_type": "code",
      "execution_count": null,
      "metadata": {
        "id": "5V5Vnw-IB4rD"
      },
      "outputs": [],
      "source": [
        "mask = prepare_img(nb.load(\"/content/Train/Labels/HFH_001_Hipp_Labels.img\"))[78:190,0:112,78:190,:]"
      ]
    },
    {
      "cell_type": "code",
      "execution_count": null,
      "metadata": {
        "colab": {
          "base_uri": "https://localhost:8080/"
        },
        "id": "ZChaPHOxMA04",
        "outputId": "9993b65e-7bff-43a0-a5cb-554163e42968"
      },
      "outputs": [
        {
          "data": {
            "text/plain": [
              "(112, 112, 112, 1)"
            ]
          },
          "execution_count": 100,
          "metadata": {},
          "output_type": "execute_result"
        }
      ],
      "source": [
        "mask.shape"
      ]
    },
    {
      "cell_type": "code",
      "execution_count": null,
      "metadata": {
        "colab": {
          "base_uri": "https://localhost:8080/",
          "height": 452
        },
        "id": "sCulKKWIHQPv",
        "outputId": "2247a887-4d78-4664-8717-e5182a7d1bbd"
      },
      "outputs": [
        {
          "data": {
            "text/plain": [
              "<matplotlib.image.AxesImage at 0x7ea983f0af80>"
            ]
          },
          "execution_count": 70,
          "metadata": {},
          "output_type": "execute_result"
        },
        {
          "data": {
            "image/png": "[encoded data removed]",
            "text/plain": [
              "<Figure size 640x480 with 1 Axes>"
            ]
          },
          "metadata": {},
          "output_type": "display_data"
        }
      ],
      "source": [
        "plt.imshow(mask[90,:,:,:])"
      ]
    },
    {
      "cell_type": "code",
      "execution_count": null,
      "metadata": {
        "colab": {
          "base_uri": "https://localhost:8080/"
        },
        "id": "kFryDpIxFzpa",
        "outputId": "04d1d223-e629-419d-d247-bfb93a53bf7f"
      },
      "outputs": [
        {
          "data": {
            "text/plain": [
              "array([0., 1., 2.])"
            ]
          },
          "execution_count": 52,
          "metadata": {},
          "output_type": "execute_result"
        }
      ],
      "source": [
        "np.unique(mask)"
      ]
    },
    {
      "cell_type": "code",
      "execution_count": null,
      "metadata": {
        "id": "dHkPreLUIl8S"
      },
      "outputs": [],
      "source": [
        "from tensorflow.keras.utils import to_categorical\n",
        "mask = to_categorical(mask,3)"
      ]
    },
    {
      "cell_type": "code",
      "execution_count": null,
      "metadata": {
        "colab": {
          "base_uri": "https://localhost:8080/"
        },
        "id": "vcU_a37nIutv",
        "outputId": "ff4f91da-9f2e-406f-bd82-9f2aae30abae"
      },
      "outputs": [
        {
          "data": {
            "text/plain": [
              "(124, 124, 124, 3)"
            ]
          },
          "execution_count": 81,
          "metadata": {},
          "output_type": "execute_result"
        }
      ],
      "source": [
        "mask.shape"
      ]
    },
    {
      "cell_type": "code",
      "execution_count": null,
      "metadata": {
        "id": "6ftuqUbKJEAl"
      },
      "outputs": [],
      "source": [
        "#CREDIT FOR THE IDEA TO USE SCALER,CROPPING, AND SAVE IMAGES AS .NPY: https://github.com/bnsreenu/python_for_microscopists/blob/master/231_234_BraTa2020_Unet_segmentation/232_brats2020_get_data_ready.py\n",
        "#CREDIT FOR DATAGEN, MY CODE IS A MODIFIED VERSION OF THIS: https://github.com/bnsreenu/python_for_microscopists/blob/master/231_234_BraTa2020_Unet_segmentation/233_custom_datagen.py\n",
        "\n",
        "import tqdm\n",
        "import nibabel as nb\n",
        "from sklearn.preprocessing import MinMaxScaler\n",
        "from tensorflow.keras.utils import to_categorical\n",
        "import numpy as np\n",
        "\n",
        "def create_dataset(TRAIN_PATH=\"/content/Train\", TRAIN_LABEL_PATH=\"/content/Train/Labels\", DEST_IMG=\"/content/gdrive/MyDrive/HippoDs/Dataset/Images/Train\", DEST_LABEL='/content/gdrive/MyDrive/HippoDs/Dataset/Labels/Train'):\n",
        "\n",
        "  scaler = MinMaxScaler()\n",
        "  for file in tqdm.tqdm(sorted(os.listdir(TRAIN_PATH))[:30]): #up to 31 only because image sizes change\n",
        "    if file==\"Labels\" or os.path.splitext(file)[1]==\".hdr\":\n",
        "      continue\n",
        "    else:\n",
        "      img = nb.load(os.path.join(TRAIN_PATH,file))\n",
        "      img = img.get_fdata()\n",
        "      img = scaler.fit_transform(img.reshape(-1, img.shape[-1])).reshape(img.shape)\n",
        "\n",
        "      blank_10 = np.zeros((256,20,256,1))\n",
        "      img = np.concatenate((blank_10, img),axis=1)\n",
        "\n",
        "      img = img[70:198,0:128,70:198,:] #making sizes 128x128x128\n",
        "\n",
        "      mask = nb.load(os.path.join(TRAIN_LABEL_PATH,os.path.splitext(file)[0]+\"_Hipp_Labels.img\"))\n",
        "      mask = mask.get_fdata()\n",
        "\n",
        "      blank_masks = np.zeros((256,20,256,1))\n",
        "      mask = np.concatenate((blank_masks, mask),axis=1)\n",
        "      mask = mask[70:198,0:128,70:198,:]\n",
        "      mask = to_categorical(mask,3)\n",
        "\n",
        "      np.save(os.path.join(DEST_IMG, str(file)+\".npy\"),img)\n",
        "      np.save(os.path.join(DEST_LABEL, str(file)+\"_L_.npy\"),mask)"
      ]
    },
    {
      "cell_type": "code",
      "execution_count": null,
      "metadata": {
        "colab": {
          "base_uri": "https://localhost:8080/"
        },
        "id": "FWT6hSsOLYDa",
        "outputId": "4d94d562-99b1-47b1-9a0f-4716edf1fc79"
      },
      "outputs": [
        {
          "name": "stderr",
          "output_type": "stream",
          "text": [
            "100%|██████████| 30/30 [00:16<00:00,  1.86it/s]\n"
          ]
        }
      ],
      "source": [
        "create_dataset()"
      ]
    },
    {
      "cell_type": "code",
      "execution_count": null,
      "metadata": {
        "colab": {
          "base_uri": "https://localhost:8080/"
        },
        "id": "DMeL3rJiIpJ2",
        "outputId": "0fc3f4c2-f507-4258-ccb7-955ba4b40992"
      },
      "outputs": [
        {
          "output_type": "stream",
          "name": "stdout",
          "text": [
            "Mounted at /content/gdrive\n"
          ]
        }
      ],
      "source": [
        "from google.colab import drive\n",
        "drive.mount('/content/gdrive')"
      ]
    },
    {
      "cell_type": "code",
      "execution_count": null,
      "metadata": {
        "id": "PtrrSlU5MlJL"
      },
      "outputs": [],
      "source": [
        "dataset_reals_path = \"/content/gdrive/MyDrive/HippoDs/Dataset/Images/Train\"\n",
        "dataset_labels_path = \"/content/gdrive/MyDrive/HippoDs/Dataset/Labels/Train\"\n",
        "\n",
        "dataset_reals_test = \"/content/gdrive/MyDrive/HippoDs/Dataset/Images/Test\"\n",
        "dataset_labels_test =\"/content/gdrive/MyDrive/HippoDs/Dataset/Labels/Test\""
      ]
    },
    {
      "cell_type": "code",
      "execution_count": null,
      "metadata": {
        "colab": {
          "base_uri": "https://localhost:8080/"
        },
        "id": "rxIH6tJYRNr9",
        "outputId": "11b0be8e-ed53-4cb6-e8be-09acdf8398a8"
      },
      "outputs": [
        {
          "name": "stdout",
          "output_type": "stream",
          "text": [
            "No GPU available\n"
          ]
        }
      ],
      "source": [
        "#import tensorflow as tf\n",
        "\n",
        "#if tf.config.list_physical_devices('GPU'):\n",
        "#  print('GPU available')\n",
        "#else:\n",
        "#  print('No GPU available')"
      ]
    },
    {
      "cell_type": "code",
      "execution_count": null,
      "metadata": {
        "id": "fX-zfRm-JEl4"
      },
      "outputs": [],
      "source": [
        "import os\n",
        "import numpy as np\n",
        "\n",
        "def data_loader(real_path=dataset_reals_path, mask_path=dataset_labels_path, bs=3):\n",
        "\n",
        "  while True:\n",
        "    c_b_idx=0\n",
        "    while c_b_idx+bs <= len(os.listdir(real_path)):\n",
        "      imgs=[]\n",
        "      msks=[]\n",
        "      for file in sorted(os.listdir(real_path)[c_b_idx:c_b_idx+bs]):\n",
        "        X = np.load(os.path.join(real_path, file))\n",
        "        X = np.repeat(X, 3, axis=3)\n",
        "        Y = np.load(os.path.join(mask_path,os.path.splitext(file)[0]+\"_L_.npy\"))\n",
        "        imgs.append(X)\n",
        "        msks.append(Y)\n",
        "\n",
        "      imgs = np.array(imgs)\n",
        "      msks = np.array(msks)\n",
        "      c_b_idx+=bs\n",
        "      yield(tf.convert_to_tensor(imgs, np.float32), tf.convert_to_tensor(msks, np.float32))\n",
        "\n",
        "\n",
        "\n",
        "    print(\"Completed\")\n",
        "\n",
        "def test_data_loader(real_path=dataset_reals_test, mask_path=dataset_labels_test, bs=3):\n",
        "    while True:\n",
        "      c_b_idx=0\n",
        "      while c_b_idx+bs <= len(os.listdir(real_path)):\n",
        "        imgs=[]\n",
        "        msks=[]\n",
        "        for file in sorted(os.listdir(real_path)[c_b_idx:c_b_idx+bs]):\n",
        "          X = np.load(os.path.join(real_path, file))\n",
        "          X = np.repeat(X, 3, axis=3)\n",
        "          Y = np.load(os.path.join(mask_path,os.path.splitext(file)[0]+\"_L_.npy\"))\n",
        "          imgs.append(X)\n",
        "          msks.append(Y)\n",
        "\n",
        "        imgs = np.array(imgs)\n",
        "        msks = np.array(msks)\n",
        "        c_b_idx+=bs\n",
        "        yield(tf.convert_to_tensor(imgs, np.float32), tf.convert_to_tensor(msks, np.float32))\n",
        "\n",
        "\n"
      ]
    },
    {
      "cell_type": "code",
      "execution_count": null,
      "metadata": {
        "colab": {
          "base_uri": "https://localhost:8080/"
        },
        "id": "oifgygfTicaf",
        "outputId": "834f534a-31b7-4a40-ccf3-b6647fda3cb9"
      },
      "outputs": [
        {
          "data": {
            "text/plain": [
              "3"
            ]
          },
          "execution_count": 10,
          "metadata": {},
          "output_type": "execute_result"
        }
      ],
      "source": [
        "len(sorted(os.listdir(dataset_reals_test)))"
      ]
    },
    {
      "cell_type": "code",
      "execution_count": null,
      "metadata": {
        "id": "NsFqmD5WRQz9"
      },
      "outputs": [],
      "source": [
        "img.shape"
      ]
    },
    {
      "cell_type": "code",
      "execution_count": null,
      "metadata": {
        "id": "csKy1LfjMzUJ"
      },
      "outputs": [],
      "source": [
        "!pip install -U -q segmentation-models-3D"
      ]
    },
    {
      "cell_type": "code",
      "execution_count": null,
      "metadata": {
        "id": "YSyU9EF8JFnD"
      },
      "outputs": [],
      "source": [
        "import os\n",
        "from tensorflow import keras\n",
        "os.environ[\"SM_FRAMEWORK\"] = \"tf.keras\""
      ]
    },
    {
      "cell_type": "code",
      "execution_count": null,
      "metadata": {
        "colab": {
          "base_uri": "https://localhost:8080/"
        },
        "id": "N_q-ff_HGiWF",
        "outputId": "cba8e180-7d83-4b3f-8e56-0ff40aec801b"
      },
      "outputs": [
        {
          "output_type": "stream",
          "name": "stdout",
          "text": [
            "Segmentation Models: using `tf.keras` framework.\n"
          ]
        }
      ],
      "source": [
        "import tensorflow as tf\n",
        "import segmentation_models_3D as sm"
      ]
    },
    {
      "cell_type": "code",
      "execution_count": null,
      "metadata": {
        "id": "ElDWxfNLBx7l"
      },
      "outputs": [],
      "source": [
        "dataset = tf.data.Dataset.from_generator(data_loader,\n",
        "                                         output_types=(tf.float32, tf.float32))\n",
        "\n",
        "dataset_test = tf.data.Dataset.from_generator(test_data_loader,\n",
        "                                         output_types=(tf.float32, tf.float32))\n",
        "\n",
        "img, mask = next(iter(dataset))"
      ]
    },
    {
      "cell_type": "code",
      "execution_count": null,
      "metadata": {
        "id": "uxLbYd5Khazc"
      },
      "outputs": [],
      "source": [
        "img, mask = next(iter(dataset_test))"
      ]
    },
    {
      "cell_type": "code",
      "execution_count": null,
      "metadata": {
        "colab": {
          "base_uri": "https://localhost:8080/"
        },
        "id": "3fQ7ZTZNhhCl",
        "outputId": "c2bdf243-b069-4e16-82cf-523233cc5a53"
      },
      "outputs": [
        {
          "data": {
            "text/plain": [
              "TensorShape([3, 128, 128, 128, 3])"
            ]
          },
          "execution_count": 20,
          "metadata": {},
          "output_type": "execute_result"
        }
      ],
      "source": [
        "img.shape"
      ]
    },
    {
      "cell_type": "code",
      "execution_count": null,
      "metadata": {
        "id": "4IuFVY8sNFze"
      },
      "outputs": [],
      "source": [
        "model = sm.Unet(\"resnet34\",input_shape=(128,128,128,3), encoder_weights=None,classes=3)\n",
        "loss = sm.losses.DiceLoss()\n",
        "metric = sm.metrics.FScore()\n",
        "model.compile('Adam', loss=loss, metrics=[metric])"
      ]
    },
    {
      "cell_type": "code",
      "execution_count": null,
      "metadata": {
        "colab": {
          "base_uri": "https://localhost:8080/"
        },
        "id": "R-dBf4cnSnZx",
        "outputId": "e8c83134-6550-448d-bc1c-9e07328232a4"
      },
      "outputs": [
        {
          "output_type": "stream",
          "name": "stdout",
          "text": [
            "Epoch 1/160\n",
            "4/4 [==============================] - 553s 130s/step - loss: 0.7641 - f1-score: 0.2359 - val_loss: 1.0000 - val_f1-score: 2.0596e-05\n",
            "Epoch 2/160\n",
            "Completed\n",
            "4/4 [==============================] - 503s 130s/step - loss: 0.7218 - f1-score: 0.2782 - val_loss: 0.9950 - val_f1-score: 0.0050\n",
            "Epoch 3/160\n",
            "Completed\n",
            "4/4 [==============================] - 501s 130s/step - loss: 0.7010 - f1-score: 0.2990 - val_loss: 0.9945 - val_f1-score: 0.0055\n",
            "Epoch 4/160\n",
            "Completed\n",
            "4/4 [==============================] - 458s 114s/step - loss: 0.6812 - f1-score: 0.3188 - val_loss: 0.9819 - val_f1-score: 0.0181\n",
            "Epoch 5/160\n",
            "Completed\n",
            "4/4 [==============================] - 500s 122s/step - loss: 0.6721 - f1-score: 0.3279 - val_loss: 0.7207 - val_f1-score: 0.2793\n",
            "Epoch 6/160\n",
            "Completed\n",
            "4/4 [==============================] - 498s 129s/step - loss: 0.6682 - f1-score: 0.3318 - val_loss: 0.6691 - val_f1-score: 0.3309\n",
            "Epoch 7/160\n",
            "Completed\n",
            "4/4 [==============================] - 503s 128s/step - loss: 0.6660 - f1-score: 0.3340 - val_loss: 0.6676 - val_f1-score: 0.3324\n",
            "Epoch 8/160\n",
            "Completed\n",
            "4/4 [==============================] - 463s 117s/step - loss: 0.6650 - f1-score: 0.3350 - val_loss: 0.6675 - val_f1-score: 0.3325\n",
            "Epoch 9/160\n",
            "Completed\n",
            "4/4 [==============================] - 499s 120s/step - loss: 0.6642 - f1-score: 0.3358 - val_loss: 0.6672 - val_f1-score: 0.3328\n",
            "Epoch 10/160\n",
            "Completed\n",
            "4/4 [==============================] - 493s 128s/step - loss: 0.6631 - f1-score: 0.3369 - val_loss: 0.6671 - val_f1-score: 0.3329\n",
            "Epoch 11/160\n",
            "Completed\n",
            "4/4 [==============================] - 483s 124s/step - loss: 0.6611 - f1-score: 0.3389 - val_loss: 0.6670 - val_f1-score: 0.3330\n",
            "Epoch 12/160\n",
            "Completed\n",
            "4/4 [==============================] - 460s 115s/step - loss: 0.6566 - f1-score: 0.3434 - val_loss: 0.6670 - val_f1-score: 0.3330\n",
            "Epoch 13/160\n",
            "Completed\n",
            "4/4 [==============================] - 494s 128s/step - loss: 0.6516 - f1-score: 0.3484 - val_loss: 0.6670 - val_f1-score: 0.3330\n",
            "Epoch 14/160\n",
            "Completed\n",
            "4/4 [==============================] - 489s 126s/step - loss: 0.6564 - f1-score: 0.3436 - val_loss: 0.6670 - val_f1-score: 0.3330\n",
            "Epoch 15/160\n",
            "Completed\n",
            "4/4 [==============================] - 482s 124s/step - loss: 0.6640 - f1-score: 0.3360 - val_loss: 0.6675 - val_f1-score: 0.3325\n",
            "Epoch 16/160\n",
            "Completed\n",
            "4/4 [==============================] - 485s 115s/step - loss: 0.6538 - f1-score: 0.3462 - val_loss: 0.6679 - val_f1-score: 0.3321\n",
            "Epoch 17/160\n",
            "Completed\n",
            "4/4 [==============================] - 497s 129s/step - loss: 0.6506 - f1-score: 0.3494 - val_loss: 0.6677 - val_f1-score: 0.3323\n",
            "Epoch 18/160\n",
            "Completed\n",
            "4/4 [==============================] - 493s 128s/step - loss: 0.6309 - f1-score: 0.3691 - val_loss: 0.6672 - val_f1-score: 0.3328\n",
            "Epoch 19/160\n",
            "Completed\n",
            "4/4 [==============================] - 452s 114s/step - loss: 0.6420 - f1-score: 0.3580 - val_loss: 0.6670 - val_f1-score: 0.3330\n",
            "Epoch 20/160\n",
            "Completed\n",
            "4/4 [==============================] - 507s 121s/step - loss: 0.6527 - f1-score: 0.3473 - val_loss: 0.6670 - val_f1-score: 0.3330\n",
            "Epoch 21/160\n",
            "Completed\n",
            "4/4 [==============================] - 500s 130s/step - loss: 0.6653 - f1-score: 0.3347 - val_loss: 0.6670 - val_f1-score: 0.3330\n",
            "Epoch 22/160\n",
            "Completed\n",
            "4/4 [==============================] - 482s 124s/step - loss: 0.6627 - f1-score: 0.3373 - val_loss: 0.6670 - val_f1-score: 0.3330\n",
            "Epoch 23/160\n",
            "Completed\n",
            "4/4 [==============================] - 457s 114s/step - loss: 0.6576 - f1-score: 0.3424 - val_loss: 0.6670 - val_f1-score: 0.3330\n",
            "Epoch 24/160\n",
            "Completed\n",
            "4/4 [==============================] - 502s 126s/step - loss: 0.6484 - f1-score: 0.3516 - val_loss: 0.6670 - val_f1-score: 0.3330\n",
            "Epoch 25/160\n",
            "Completed\n",
            "4/4 [==============================] - 486s 125s/step - loss: 0.6289 - f1-score: 0.3711 - val_loss: 0.6670 - val_f1-score: 0.3330\n",
            "Epoch 26/160\n",
            "Completed\n",
            "4/4 [==============================] - 467s 119s/step - loss: 0.6236 - f1-score: 0.3764 - val_loss: 0.6671 - val_f1-score: 0.3329\n",
            "Epoch 27/160\n",
            "Completed\n",
            "4/4 [==============================] - 495s 120s/step - loss: 0.6369 - f1-score: 0.3631 - val_loss: 0.6670 - val_f1-score: 0.3330\n",
            "Epoch 28/160\n",
            "Completed\n",
            "4/4 [==============================] - 484s 125s/step - loss: 0.6670 - f1-score: 0.3330 - val_loss: 0.6670 - val_f1-score: 0.3330\n",
            "Epoch 29/160\n",
            "Completed\n",
            "4/4 [==============================] - 504s 131s/step - loss: 0.6670 - f1-score: 0.3330 - val_loss: 0.6670 - val_f1-score: 0.3330\n",
            "Epoch 30/160\n",
            "Completed\n",
            "4/4 [==============================] - 460s 116s/step - loss: 0.6670 - f1-score: 0.3330 - val_loss: 0.6670 - val_f1-score: 0.3330\n",
            "Epoch 31/160\n",
            "Completed\n",
            "4/4 [==============================] - 493s 118s/step - loss: 0.6669 - f1-score: 0.3331 - val_loss: 0.6671 - val_f1-score: 0.3329\n",
            "Epoch 32/160\n",
            "Completed\n",
            "4/4 [==============================] - 503s 131s/step - loss: 0.6668 - f1-score: 0.3332 - val_loss: 0.6671 - val_f1-score: 0.3329\n",
            "Epoch 33/160\n",
            "Completed\n",
            "4/4 [==============================] - 508s 133s/step - loss: 0.6629 - f1-score: 0.3371 - val_loss: 0.6671 - val_f1-score: 0.3329\n",
            "Epoch 34/160\n",
            "Completed\n",
            "4/4 [==============================] - 475s 121s/step - loss: 0.6656 - f1-score: 0.3344 - val_loss: 0.6672 - val_f1-score: 0.3328\n",
            "Epoch 35/160\n",
            "Completed\n",
            "4/4 [==============================] - 505s 121s/step - loss: 0.6557 - f1-score: 0.3443 - val_loss: 0.6683 - val_f1-score: 0.3317\n",
            "Epoch 36/160\n",
            "Completed\n",
            "4/4 [==============================] - 485s 125s/step - loss: 0.6653 - f1-score: 0.3347 - val_loss: 0.6695 - val_f1-score: 0.3305\n",
            "Epoch 37/160\n",
            "Completed\n",
            "4/4 [==============================] - 473s 121s/step - loss: 0.6511 - f1-score: 0.3489 - val_loss: 0.6725 - val_f1-score: 0.3275\n",
            "Epoch 38/160\n",
            "Completed\n",
            "4/4 [==============================] - 479s 122s/step - loss: 0.6551 - f1-score: 0.3449 - val_loss: 0.6738 - val_f1-score: 0.3262\n",
            "Epoch 39/160\n",
            "Completed\n",
            "4/4 [==============================] - 495s 120s/step - loss: 0.6356 - f1-score: 0.3644 - val_loss: 0.6705 - val_f1-score: 0.3295\n",
            "Epoch 40/160\n",
            "Completed\n",
            "4/4 [==============================] - 496s 128s/step - loss: 0.5914 - f1-score: 0.4086 - val_loss: 0.6657 - val_f1-score: 0.3343\n",
            "Epoch 41/160\n",
            "Completed\n",
            "4/4 [==============================] - 481s 124s/step - loss: 0.6377 - f1-score: 0.3623 - val_loss: 0.6652 - val_f1-score: 0.3348\n",
            "Epoch 42/160\n",
            "Completed\n",
            "4/4 [==============================] - 458s 114s/step - loss: 0.6443 - f1-score: 0.3557 - val_loss: 0.6650 - val_f1-score: 0.3350\n",
            "Epoch 43/160\n",
            "Completed\n",
            "4/4 [==============================] - 491s 127s/step - loss: 0.6413 - f1-score: 0.3587 - val_loss: 0.6673 - val_f1-score: 0.3327\n",
            "Epoch 44/160\n",
            "Completed\n",
            "4/4 [==============================] - 487s 126s/step - loss: 0.5966 - f1-score: 0.4034 - val_loss: 0.6667 - val_f1-score: 0.3333\n",
            "Epoch 45/160\n",
            "Completed\n",
            "4/4 [==============================] - 471s 120s/step - loss: 0.6661 - f1-score: 0.3339 - val_loss: 0.6670 - val_f1-score: 0.3330\n",
            "Epoch 46/160\n",
            "Completed\n",
            "4/4 [==============================] - 485s 114s/step - loss: 0.6670 - f1-score: 0.3330 - val_loss: 0.6670 - val_f1-score: 0.3330\n",
            "Epoch 47/160\n",
            "Completed\n",
            "4/4 [==============================] - 487s 126s/step - loss: 0.6670 - f1-score: 0.3330 - val_loss: 0.6670 - val_f1-score: 0.3330\n",
            "Epoch 48/160\n",
            "Completed\n",
            "4/4 [==============================] - 488s 126s/step - loss: 0.6670 - f1-score: 0.3330 - val_loss: 0.6670 - val_f1-score: 0.3330\n",
            "Epoch 49/160\n",
            "Completed\n",
            "4/4 [==============================] - 475s 121s/step - loss: 0.6670 - f1-score: 0.3330 - val_loss: 0.6670 - val_f1-score: 0.3330\n",
            "Epoch 50/160\n",
            "Completed\n",
            "4/4 [==============================] - 490s 116s/step - loss: 0.6670 - f1-score: 0.3330 - val_loss: 0.6670 - val_f1-score: 0.3330\n",
            "Epoch 51/160\n",
            "Completed\n",
            "4/4 [==============================] - 497s 129s/step - loss: 0.6670 - f1-score: 0.3330 - val_loss: 0.6670 - val_f1-score: 0.3330\n",
            "Epoch 52/160\n",
            "Completed\n",
            "4/4 [==============================] - 492s 127s/step - loss: 0.6670 - f1-score: 0.3330 - val_loss: 0.6670 - val_f1-score: 0.3330\n",
            "Epoch 53/160\n",
            "Completed\n",
            "4/4 [==============================] - 459s 114s/step - loss: 0.6669 - f1-score: 0.3331 - val_loss: 0.6670 - val_f1-score: 0.3330\n",
            "Epoch 54/160\n",
            "Completed\n",
            "4/4 [==============================] - 489s 124s/step - loss: 0.6668 - f1-score: 0.3332 - val_loss: 0.6670 - val_f1-score: 0.3330\n",
            "Epoch 55/160\n",
            "Completed\n",
            "4/4 [==============================] - 499s 130s/step - loss: 0.6648 - f1-score: 0.3352 - val_loss: 0.6670 - val_f1-score: 0.3330\n",
            "Epoch 56/160\n",
            "Completed\n",
            "4/4 [==============================] - 482s 124s/step - loss: 0.6624 - f1-score: 0.3376 - val_loss: 0.6670 - val_f1-score: 0.3330\n",
            "Epoch 57/160\n",
            "Completed\n",
            "4/4 [==============================] - 474s 115s/step - loss: 0.6342 - f1-score: 0.3658 - val_loss: 0.6671 - val_f1-score: 0.3329\n",
            "Epoch 58/160\n",
            "Completed\n",
            "4/4 [==============================] - 496s 128s/step - loss: 0.6159 - f1-score: 0.3841 - val_loss: 0.6667 - val_f1-score: 0.3333\n",
            "Epoch 59/160\n",
            "Completed\n",
            "4/4 [==============================] - 491s 127s/step - loss: 0.6162 - f1-score: 0.3838 - val_loss: 0.6657 - val_f1-score: 0.3343\n",
            "Epoch 60/160\n",
            "Completed\n",
            "4/4 [==============================] - 463s 117s/step - loss: 0.6294 - f1-score: 0.3706 - val_loss: 0.6655 - val_f1-score: 0.3345\n",
            "Epoch 61/160\n",
            "Completed\n",
            "4/4 [==============================] - 484s 116s/step - loss: 0.6053 - f1-score: 0.3947 - val_loss: 0.6656 - val_f1-score: 0.3344\n",
            "Epoch 62/160\n",
            "Completed\n",
            "4/4 [==============================] - 453s 114s/step - loss: 0.6089 - f1-score: 0.3911 - val_loss: 0.6657 - val_f1-score: 0.3343\n",
            "Epoch 63/160\n",
            "Completed\n",
            "4/4 [==============================] - 462s 114s/step - loss: 0.5955 - f1-score: 0.4045 - val_loss: 0.6670 - val_f1-score: 0.3330\n",
            "Epoch 64/160\n",
            "Completed\n",
            "4/4 [==============================] - 453s 114s/step - loss: 0.5944 - f1-score: 0.4056 - val_loss: 0.6619 - val_f1-score: 0.3381\n",
            "Epoch 65/160\n",
            "Completed\n",
            "4/4 [==============================] - 453s 114s/step - loss: 0.5806 - f1-score: 0.4194 - val_loss: 0.6636 - val_f1-score: 0.3364\n",
            "Epoch 66/160\n",
            "Completed\n",
            "4/4 [==============================] - 454s 115s/step - loss: 0.6031 - f1-score: 0.3969 - val_loss: 0.6644 - val_f1-score: 0.3356\n",
            "Epoch 67/160\n",
            "Completed\n",
            "4/4 [==============================] - 467s 119s/step - loss: 0.5820 - f1-score: 0.4180 - val_loss: 0.6651 - val_f1-score: 0.3349\n",
            "Epoch 68/160\n",
            "Completed\n",
            "4/4 [==============================] - 455s 115s/step - loss: 0.5599 - f1-score: 0.4401 - val_loss: 0.6651 - val_f1-score: 0.3349\n",
            "Epoch 69/160\n",
            "Completed\n",
            "4/4 [==============================] - 452s 114s/step - loss: 0.5663 - f1-score: 0.4337 - val_loss: 0.6647 - val_f1-score: 0.3353\n",
            "Epoch 70/160\n",
            "Completed\n",
            "4/4 [==============================] - 454s 114s/step - loss: 0.5896 - f1-score: 0.4104 - val_loss: 0.6653 - val_f1-score: 0.3347\n",
            "Epoch 71/160\n",
            "Completed\n",
            "4/4 [==============================] - 451s 114s/step - loss: 0.5882 - f1-score: 0.4118 - val_loss: 0.6641 - val_f1-score: 0.3359\n",
            "Epoch 72/160\n",
            "Completed\n",
            "4/4 [==============================] - 452s 114s/step - loss: 0.5726 - f1-score: 0.4274 - val_loss: 0.6644 - val_f1-score: 0.3356\n",
            "Epoch 73/160\n",
            "Completed\n",
            "4/4 [==============================] - 464s 118s/step - loss: 0.5629 - f1-score: 0.4371 - val_loss: 0.6585 - val_f1-score: 0.3415\n",
            "Epoch 74/160\n",
            "Completed\n",
            "4/4 [==============================] - 462s 117s/step - loss: 0.5445 - f1-score: 0.4555 - val_loss: 0.6576 - val_f1-score: 0.3424\n",
            "Epoch 75/160\n",
            "Completed\n",
            "4/4 [==============================] - 454s 115s/step - loss: 0.5319 - f1-score: 0.4681 - val_loss: 0.6559 - val_f1-score: 0.3441\n",
            "Epoch 76/160\n",
            "Completed\n",
            "4/4 [==============================] - 464s 118s/step - loss: 0.5184 - f1-score: 0.4816 - val_loss: 0.6553 - val_f1-score: 0.3447\n",
            "Epoch 77/160\n",
            "Completed\n",
            "4/4 [==============================] - 462s 117s/step - loss: 0.5095 - f1-score: 0.4905 - val_loss: 0.6582 - val_f1-score: 0.3418\n",
            "Epoch 78/160\n",
            "Completed\n",
            "4/4 [==============================] - 456s 115s/step - loss: 0.4904 - f1-score: 0.5096 - val_loss: 0.6600 - val_f1-score: 0.3400\n",
            "Epoch 79/160\n",
            "Completed\n",
            "4/4 [==============================] - 464s 117s/step - loss: 0.4905 - f1-score: 0.5095 - val_loss: 0.6582 - val_f1-score: 0.3418\n",
            "Epoch 80/160\n",
            "Completed\n",
            "4/4 [==============================] - 454s 114s/step - loss: 0.4854 - f1-score: 0.5146 - val_loss: 0.6557 - val_f1-score: 0.3443\n",
            "Epoch 81/160\n",
            "Completed\n",
            "4/4 [==============================] - 461s 117s/step - loss: 0.5071 - f1-score: 0.4929 - val_loss: 0.6550 - val_f1-score: 0.3450\n",
            "Epoch 82/160\n",
            "Completed\n",
            "4/4 [==============================] - 461s 114s/step - loss: 0.4848 - f1-score: 0.5152 - val_loss: 0.6543 - val_f1-score: 0.3457\n",
            "Epoch 83/160\n",
            "Completed\n",
            "4/4 [==============================] - 457s 115s/step - loss: 0.4771 - f1-score: 0.5229 - val_loss: 0.6570 - val_f1-score: 0.3430\n",
            "Epoch 84/160\n",
            "Completed\n",
            "4/4 [==============================] - 473s 120s/step - loss: 0.4870 - f1-score: 0.5130 - val_loss: 0.6536 - val_f1-score: 0.3464\n",
            "Epoch 85/160\n",
            "Completed\n",
            "4/4 [==============================] - 453s 114s/step - loss: 0.4838 - f1-score: 0.5162 - val_loss: 0.6584 - val_f1-score: 0.3416\n",
            "Epoch 86/160\n",
            "Completed\n",
            "4/4 [==============================] - 455s 115s/step - loss: 0.4756 - f1-score: 0.5244 - val_loss: 0.6542 - val_f1-score: 0.3458\n",
            "Epoch 87/160\n",
            "Completed\n",
            "4/4 [==============================] - 456s 115s/step - loss: 0.4571 - f1-score: 0.5429 - val_loss: 0.6482 - val_f1-score: 0.3518\n",
            "Epoch 88/160\n",
            "Completed\n",
            "4/4 [==============================] - 459s 114s/step - loss: 0.4293 - f1-score: 0.5707 - val_loss: 0.6219 - val_f1-score: 0.3781\n",
            "Epoch 89/160\n",
            "Completed\n",
            "4/4 [==============================] - 469s 120s/step - loss: 0.4151 - f1-score: 0.5849 - val_loss: 0.5890 - val_f1-score: 0.4110\n",
            "Epoch 90/160\n",
            "Completed\n",
            "4/4 [==============================] - 454s 114s/step - loss: 0.4004 - f1-score: 0.5996 - val_loss: 0.5876 - val_f1-score: 0.4124\n",
            "Epoch 91/160\n",
            "Completed\n",
            "4/4 [==============================] - 456s 115s/step - loss: 0.3909 - f1-score: 0.6091 - val_loss: 0.5975 - val_f1-score: 0.4025\n",
            "Epoch 92/160\n",
            "Completed\n",
            "4/4 [==============================] - 453s 114s/step - loss: 0.3843 - f1-score: 0.6157 - val_loss: 0.5819 - val_f1-score: 0.4181\n",
            "Epoch 93/160\n",
            "Completed\n",
            "4/4 [==============================] - 466s 119s/step - loss: 0.3790 - f1-score: 0.6210 - val_loss: 0.6094 - val_f1-score: 0.3906\n",
            "Epoch 94/160\n",
            "Completed\n",
            "4/4 [==============================] - 455s 115s/step - loss: 0.3814 - f1-score: 0.6186 - val_loss: 0.5596 - val_f1-score: 0.4404\n",
            "Epoch 95/160\n",
            "Completed\n",
            "4/4 [==============================] - 465s 118s/step - loss: 0.3797 - f1-score: 0.6203 - val_loss: 0.5972 - val_f1-score: 0.4028\n",
            "Epoch 96/160\n",
            "Completed\n",
            "4/4 [==============================] - 485s 125s/step - loss: 0.3715 - f1-score: 0.6285 - val_loss: 0.5854 - val_f1-score: 0.4146\n",
            "Epoch 97/160\n",
            "Completed\n",
            "4/4 [==============================] - 463s 118s/step - loss: 0.4131 - f1-score: 0.5869 - val_loss: 0.5948 - val_f1-score: 0.4052\n",
            "Epoch 98/160\n",
            "Completed\n",
            "4/4 [==============================] - 452s 114s/step - loss: 0.4266 - f1-score: 0.5734 - val_loss: 0.5918 - val_f1-score: 0.4082\n",
            "Epoch 99/160\n",
            "Completed\n",
            "4/4 [==============================] - 453s 114s/step - loss: 0.4117 - f1-score: 0.5883 - val_loss: 0.5629 - val_f1-score: 0.4371\n",
            "Epoch 100/160\n",
            "Completed\n",
            "4/4 [==============================] - 461s 117s/step - loss: 0.4080 - f1-score: 0.5920 - val_loss: 0.5573 - val_f1-score: 0.4427\n",
            "Epoch 101/160\n",
            "Completed\n",
            "4/4 [==============================] - 462s 117s/step - loss: 0.4293 - f1-score: 0.5707 - val_loss: 0.5803 - val_f1-score: 0.4197\n",
            "Epoch 102/160\n",
            "Completed\n",
            "4/4 [==============================] - 462s 117s/step - loss: 0.3914 - f1-score: 0.6086 - val_loss: 0.6533 - val_f1-score: 0.3467\n",
            "Epoch 103/160\n",
            "Completed\n",
            "4/4 [==============================] - 467s 119s/step - loss: 0.4096 - f1-score: 0.5904 - val_loss: 0.6290 - val_f1-score: 0.3710\n",
            "Epoch 104/160\n",
            "Completed\n",
            "4/4 [==============================] - 462s 117s/step - loss: 0.3694 - f1-score: 0.6306 - val_loss: 0.6094 - val_f1-score: 0.3906\n",
            "Epoch 105/160\n",
            "Completed\n",
            "4/4 [==============================] - 455s 115s/step - loss: 0.3595 - f1-score: 0.6405 - val_loss: 0.5518 - val_f1-score: 0.4482\n",
            "Epoch 106/160\n",
            "Completed\n",
            "4/4 [==============================] - 478s 122s/step - loss: 0.3356 - f1-score: 0.6644 - val_loss: 0.5719 - val_f1-score: 0.4281\n",
            "Epoch 107/160\n",
            "Completed\n",
            "4/4 [==============================] - 455s 115s/step - loss: 0.3272 - f1-score: 0.6728 - val_loss: 0.5949 - val_f1-score: 0.4051\n",
            "Epoch 108/160\n",
            "Completed\n",
            "4/4 [==============================] - 453s 114s/step - loss: 0.2909 - f1-score: 0.7091 - val_loss: 0.6000 - val_f1-score: 0.4000\n",
            "Epoch 109/160\n",
            "Completed\n",
            "4/4 [==============================] - 477s 117s/step - loss: 0.2587 - f1-score: 0.7413 - val_loss: 0.6064 - val_f1-score: 0.3936\n",
            "Epoch 110/160\n",
            "Completed\n",
            "4/4 [==============================] - 453s 114s/step - loss: 0.2442 - f1-score: 0.7558 - val_loss: 0.6030 - val_f1-score: 0.3970\n",
            "Epoch 111/160\n",
            "Completed\n",
            "4/4 [==============================] - 455s 115s/step - loss: 0.2656 - f1-score: 0.7344 - val_loss: 0.6504 - val_f1-score: 0.3496\n",
            "Epoch 112/160\n",
            "Completed\n",
            "4/4 [==============================] - 453s 114s/step - loss: 0.2710 - f1-score: 0.7290 - val_loss: 0.6375 - val_f1-score: 0.3625\n",
            "Epoch 113/160\n",
            "Completed\n",
            "4/4 [==============================] - 462s 117s/step - loss: 0.2778 - f1-score: 0.7222 - val_loss: 0.6081 - val_f1-score: 0.3919\n",
            "Epoch 114/160\n",
            "Completed\n",
            "4/4 [==============================] - 463s 118s/step - loss: 0.2636 - f1-score: 0.7364 - val_loss: 0.6225 - val_f1-score: 0.3775\n",
            "Epoch 115/160\n",
            "Completed\n",
            "4/4 [==============================] - 462s 117s/step - loss: 0.2445 - f1-score: 0.7555 - val_loss: 0.6169 - val_f1-score: 0.3831\n",
            "Epoch 116/160\n",
            "Completed\n",
            "4/4 [==============================] - 452s 114s/step - loss: 0.2259 - f1-score: 0.7741 - val_loss: 0.6192 - val_f1-score: 0.3808\n",
            "Epoch 117/160\n",
            "Completed\n",
            "4/4 [==============================] - 468s 119s/step - loss: 0.2196 - f1-score: 0.7804 - val_loss: 0.6475 - val_f1-score: 0.3525\n",
            "Epoch 118/160\n",
            "Completed\n",
            "4/4 [==============================] - 452s 114s/step - loss: 0.2223 - f1-score: 0.7777 - val_loss: 0.6610 - val_f1-score: 0.3390\n",
            "Epoch 119/160\n",
            "Completed\n",
            "4/4 [==============================] - 451s 114s/step - loss: 0.2095 - f1-score: 0.7905 - val_loss: 0.6154 - val_f1-score: 0.3846\n",
            "Epoch 120/160\n",
            "Completed\n",
            "4/4 [==============================] - 466s 119s/step - loss: 0.2043 - f1-score: 0.7957 - val_loss: 0.6482 - val_f1-score: 0.3518\n",
            "Epoch 121/160\n",
            "Completed\n",
            "4/4 [==============================] - 453s 114s/step - loss: 0.1982 - f1-score: 0.8018 - val_loss: 0.6214 - val_f1-score: 0.3786\n",
            "Epoch 122/160\n",
            "Completed\n",
            "4/4 [==============================] - 462s 117s/step - loss: 0.1951 - f1-score: 0.8049 - val_loss: 0.6318 - val_f1-score: 0.3682\n",
            "Epoch 123/160\n",
            "Completed\n",
            "4/4 [==============================] - 456s 115s/step - loss: 0.2015 - f1-score: 0.7985 - val_loss: 0.6628 - val_f1-score: 0.3372\n",
            "Epoch 124/160\n",
            "Completed\n",
            "4/4 [==============================] - 465s 118s/step - loss: 0.2006 - f1-score: 0.7994 - val_loss: 0.6158 - val_f1-score: 0.3842\n",
            "Epoch 125/160\n",
            "Completed\n",
            "4/4 [==============================] - 454s 114s/step - loss: 0.1953 - f1-score: 0.8047 - val_loss: 0.6636 - val_f1-score: 0.3364\n",
            "Epoch 126/160\n",
            "Completed\n",
            "4/4 [==============================] - 474s 120s/step - loss: 0.1929 - f1-score: 0.8071 - val_loss: 0.5664 - val_f1-score: 0.4336\n",
            "Epoch 127/160\n",
            "Completed\n",
            "4/4 [==============================] - 472s 120s/step - loss: 0.1887 - f1-score: 0.8113 - val_loss: 0.6533 - val_f1-score: 0.3467\n",
            "Epoch 128/160\n",
            "Completed\n",
            "4/4 [==============================] - 463s 117s/step - loss: 0.1910 - f1-score: 0.8090 - val_loss: 0.6325 - val_f1-score: 0.3675\n",
            "Epoch 129/160\n",
            "Completed\n",
            "4/4 [==============================] - 454s 114s/step - loss: 0.1786 - f1-score: 0.8214 - val_loss: 0.6612 - val_f1-score: 0.3388\n",
            "Epoch 130/160\n",
            "Completed\n",
            "4/4 [==============================] - 462s 117s/step - loss: 0.1770 - f1-score: 0.8230 - val_loss: 0.6397 - val_f1-score: 0.3603\n",
            "Epoch 131/160\n",
            "Completed\n",
            "4/4 [==============================] - 465s 118s/step - loss: 0.1719 - f1-score: 0.8281 - val_loss: 0.6518 - val_f1-score: 0.3482\n",
            "Epoch 132/160\n",
            "Completed\n",
            "4/4 [==============================] - 451s 114s/step - loss: 0.1708 - f1-score: 0.8292 - val_loss: 0.6647 - val_f1-score: 0.3353\n",
            "Epoch 133/160\n",
            "Completed\n",
            "4/4 [==============================] - 462s 117s/step - loss: 0.1699 - f1-score: 0.8301 - val_loss: 0.6593 - val_f1-score: 0.3407\n",
            "Epoch 134/160\n",
            "Completed\n",
            "4/4 [==============================] - 454s 115s/step - loss: 0.1703 - f1-score: 0.8297 - val_loss: 0.6578 - val_f1-score: 0.3422\n",
            "Epoch 135/160\n",
            "Completed\n",
            "4/4 [==============================] - 469s 119s/step - loss: 0.1716 - f1-score: 0.8284 - val_loss: 0.6632 - val_f1-score: 0.3368\n",
            "Epoch 136/160\n",
            "Completed\n",
            "4/4 [==============================] - 455s 115s/step - loss: 0.1730 - f1-score: 0.8270 - val_loss: 0.6028 - val_f1-score: 0.3972\n",
            "Epoch 137/160\n",
            "Completed\n",
            "4/4 [==============================] - 452s 114s/step - loss: 0.1837 - f1-score: 0.8163 - val_loss: 0.6667 - val_f1-score: 0.3333\n",
            "Epoch 138/160\n",
            "Completed\n",
            "4/4 [==============================] - 463s 117s/step - loss: 0.1748 - f1-score: 0.8252 - val_loss: 0.6165 - val_f1-score: 0.3835\n",
            "Epoch 139/160\n",
            "Completed\n",
            "4/4 [==============================] - 452s 114s/step - loss: 0.1785 - f1-score: 0.8215 - val_loss: 0.6474 - val_f1-score: 0.3526\n",
            "Epoch 140/160\n",
            "Completed\n",
            "4/4 [==============================] - 465s 118s/step - loss: 0.1700 - f1-score: 0.8300 - val_loss: 0.6398 - val_f1-score: 0.3602\n",
            "Epoch 141/160\n",
            "Completed\n",
            "4/4 [==============================] - 465s 118s/step - loss: 0.1625 - f1-score: 0.8375 - val_loss: 0.6236 - val_f1-score: 0.3764\n",
            "Epoch 142/160\n",
            "Completed\n",
            "4/4 [==============================] - 475s 120s/step - loss: 0.1630 - f1-score: 0.8370 - val_loss: 0.6434 - val_f1-score: 0.3566\n",
            "Epoch 143/160\n",
            "Completed\n",
            "4/4 [==============================] - 454s 114s/step - loss: 0.1556 - f1-score: 0.8444 - val_loss: 0.6206 - val_f1-score: 0.3794\n",
            "Epoch 144/160\n",
            "Completed\n",
            "4/4 [==============================] - 455s 115s/step - loss: 0.1552 - f1-score: 0.8448 - val_loss: 0.6454 - val_f1-score: 0.3546\n",
            "Epoch 145/160\n",
            "Completed\n",
            "4/4 [==============================] - 466s 119s/step - loss: 0.1500 - f1-score: 0.8500 - val_loss: 0.6357 - val_f1-score: 0.3643\n",
            "Epoch 146/160\n",
            "Completed\n",
            "4/4 [==============================] - 455s 115s/step - loss: 0.1486 - f1-score: 0.8514 - val_loss: 0.6151 - val_f1-score: 0.3849\n",
            "Epoch 147/160\n",
            "Completed\n",
            "4/4 [==============================] - 454s 115s/step - loss: 0.1465 - f1-score: 0.8535 - val_loss: 0.5890 - val_f1-score: 0.4110\n",
            "Epoch 148/160\n",
            "Completed\n",
            "4/4 [==============================] - 463s 118s/step - loss: 0.1509 - f1-score: 0.8491 - val_loss: 0.5662 - val_f1-score: 0.4338\n",
            "Epoch 149/160\n",
            "Completed\n",
            "4/4 [==============================] - 454s 114s/step - loss: 0.1591 - f1-score: 0.8409 - val_loss: 0.6418 - val_f1-score: 0.3582\n",
            "Epoch 150/160\n",
            "Completed\n",
            "4/4 [==============================] - 474s 121s/step - loss: 0.1647 - f1-score: 0.8353 - val_loss: 0.6467 - val_f1-score: 0.3533\n",
            "Epoch 151/160\n",
            "Completed\n",
            "4/4 [==============================] - 453s 114s/step - loss: 0.1565 - f1-score: 0.8435 - val_loss: 0.6468 - val_f1-score: 0.3532\n",
            "Epoch 152/160\n",
            "Completed\n",
            "4/4 [==============================] - 454s 114s/step - loss: 0.1558 - f1-score: 0.8442 - val_loss: 0.5865 - val_f1-score: 0.4135\n",
            "Epoch 153/160\n",
            "Completed\n",
            "4/4 [==============================] - 455s 115s/step - loss: 0.1511 - f1-score: 0.8489 - val_loss: 0.6627 - val_f1-score: 0.3373\n",
            "Epoch 154/160\n",
            "Completed\n",
            "4/4 [==============================] - 453s 114s/step - loss: 0.1556 - f1-score: 0.8444 - val_loss: 0.4922 - val_f1-score: 0.5078\n",
            "Epoch 155/160\n",
            "Completed\n",
            "4/4 [==============================] - 462s 117s/step - loss: 0.1592 - f1-score: 0.8408 - val_loss: 0.6234 - val_f1-score: 0.3766\n",
            "Epoch 156/160\n",
            "Completed\n",
            "4/4 [==============================] - 463s 118s/step - loss: 0.1593 - f1-score: 0.8407 - val_loss: 0.5701 - val_f1-score: 0.4299\n",
            "Epoch 157/160\n",
            "Completed\n",
            "4/4 [==============================] - 453s 114s/step - loss: 0.1597 - f1-score: 0.8403 - val_loss: 0.6143 - val_f1-score: 0.3857\n",
            "Epoch 158/160\n",
            "Completed\n",
            "4/4 [==============================] - 463s 118s/step - loss: 0.1566 - f1-score: 0.8434 - val_loss: 0.5750 - val_f1-score: 0.4250\n",
            "Epoch 159/160\n",
            "Completed\n",
            "4/4 [==============================] - 453s 114s/step - loss: 0.1595 - f1-score: 0.8405 - val_loss: 0.6158 - val_f1-score: 0.3842\n",
            "Epoch 160/160\n",
            "Completed\n",
            "4/4 [==============================] - 474s 121s/step - loss: 0.1607 - f1-score: 0.8393 - val_loss: 0.4179 - val_f1-score: 0.5821\n"
          ]
        },
        {
          "output_type": "execute_result",
          "data": {
            "text/plain": [
              "<keras.callbacks.History at 0x7ddb5e1f0f40>"
            ]
          },
          "metadata": {},
          "execution_count": 8
        }
      ],
      "source": [
        "model.fit(\n",
        "    dataset,\n",
        "    batch_size=3,\n",
        "    validation_data=dataset_test,\n",
        "    steps_per_epoch=4,\n",
        "    validation_steps=1,\n",
        "    validation_batch_size=3,\n",
        "    epochs=160\n",
        ")"
      ]
    },
    {
      "cell_type": "code",
      "execution_count": null,
      "metadata": {
        "id": "KOlYPYnJMqX8"
      },
      "outputs": [],
      "source": [
        "#CREDIT FOR 3D UNET MODEL: https://github.com/bnsreenu/python_for_microscopists/blob/master/231_234_BraTa2020_Unet_segmentation/simple_3d_unet.py\n",
        "\n",
        "from keras.models import *\n",
        "from keras.layers import *\n",
        "from keras.optimizers import *\n",
        "from keras import backend as keras\n",
        "from keras.preprocessing.image import ImageDataGenerator\n",
        "from keras.callbacks import ModelCheckpoint, LearningRateScheduler\n",
        "\n",
        "kernel_initializer =  'he_uniform'\n",
        "\n",
        "def dice_coef(y_true, y_pred):\n",
        "    y_true_f = keras.flatten(y_true)\n",
        "    y_pred_f = keras.flatten(y_pred)\n",
        "    intersection = keras.sum(y_true_f * y_pred_f)\n",
        "    return (2. * intersection + 1) / (keras.sum(y_true_f) + keras.sum(y_pred_f) + 1)\n",
        "\n",
        "def dice_coef_loss(y_true, y_pred):\n",
        "    return 1 - dice_coef(y_true, y_pred)\n",
        "\n",
        "def unet(input_size=(128,128,128,3),n_classes=3):\n",
        "    inputs = Input(input_size)\n",
        "\n",
        "    s = inputs\n",
        "\n",
        "    #Contraction path\n",
        "    c1 = Conv3D(16, (3, 3, 3), activation='relu', kernel_initializer=kernel_initializer, padding='same')(s)\n",
        "    c1 = Dropout(0.1)(c1)\n",
        "    c1 = Conv3D(16, (3, 3, 3), activation='relu', kernel_initializer=kernel_initializer, padding='same')(c1)\n",
        "    p1 = MaxPooling3D((2, 2, 2))(c1)\n",
        "\n",
        "    c2 = Conv3D(32, (3, 3, 3), activation='relu', kernel_initializer=kernel_initializer, padding='same')(p1)\n",
        "    c2 = Dropout(0.1)(c2)\n",
        "    c2 = Conv3D(32, (3, 3, 3), activation='relu', kernel_initializer=kernel_initializer, padding='same')(c2)\n",
        "    p2 = MaxPooling3D((2, 2, 2))(c2)\n",
        "\n",
        "    c3 = Conv3D(64, (3, 3, 3), activation='relu', kernel_initializer=kernel_initializer, padding='same')(p2)\n",
        "    c3 = Dropout(0.2)(c3)\n",
        "    c3 = Conv3D(64, (3, 3, 3), activation='relu', kernel_initializer=kernel_initializer, padding='same')(c3)\n",
        "    p3 = MaxPooling3D((2, 2, 2))(c3)\n",
        "\n",
        "    c4 = Conv3D(128, (3, 3, 3), activation='relu', kernel_initializer=kernel_initializer, padding='same')(p3)\n",
        "    c4 = Dropout(0.2)(c4)\n",
        "    c4 = Conv3D(128, (3, 3, 3), activation='relu', kernel_initializer=kernel_initializer, padding='same')(c4)\n",
        "    p4 = MaxPooling3D(pool_size=(2, 2, 2))(c4)\n",
        "\n",
        "    c5 = Conv3D(256, (3, 3, 3), activation='relu', kernel_initializer=kernel_initializer, padding='same')(p4)\n",
        "    c5 = Dropout(0.3)(c5)\n",
        "    c5 = Conv3D(256, (3, 3, 3), activation='relu', kernel_initializer=kernel_initializer, padding='same')(c5)\n",
        "\n",
        "    #Expansive path\n",
        "    u6 = Conv3DTranspose(128, (2, 2, 2), strides=(2, 2, 2), padding='same')(c5)\n",
        "    u6 = concatenate([u6, c4])\n",
        "    c6 = Conv3D(128, (3, 3, 3), activation='relu', kernel_initializer=kernel_initializer, padding='same')(u6)\n",
        "    c6 = Dropout(0.2)(c6)\n",
        "    c6 = Conv3D(128, (3, 3, 3), activation='relu', kernel_initializer=kernel_initializer, padding='same')(c6)\n",
        "\n",
        "    u7 = Conv3DTranspose(64, (2, 2, 2), strides=(2, 2, 2), padding='same')(c6)\n",
        "    u7 = concatenate([u7, c3])\n",
        "    c7 = Conv3D(64, (3, 3, 3), activation='relu', kernel_initializer=kernel_initializer, padding='same')(u7)\n",
        "    c7 = Dropout(0.2)(c7)\n",
        "    c7 = Conv3D(64, (3, 3, 3), activation='relu', kernel_initializer=kernel_initializer, padding='same')(c7)\n",
        "\n",
        "    u8 = Conv3DTranspose(32, (2, 2, 2), strides=(2, 2, 2), padding='same')(c7)\n",
        "    u8 = concatenate([u8, c2])\n",
        "    c8 = Conv3D(32, (3, 3, 3), activation='relu', kernel_initializer=kernel_initializer, padding='same')(u8)\n",
        "    c8 = Dropout(0.1)(c8)\n",
        "    c8 = Conv3D(32, (3, 3, 3), activation='relu', kernel_initializer=kernel_initializer, padding='same')(c8)\n",
        "\n",
        "    u9 = Conv3DTranspose(16, (2, 2, 2), strides=(2, 2, 2), padding='same')(c8)\n",
        "    u9 = concatenate([u9, c1])\n",
        "    c9 = Conv3D(16, (3, 3, 3), activation='relu', kernel_initializer=kernel_initializer, padding='same')(u9)\n",
        "    c9 = Dropout(0.1)(c9)\n",
        "    c9 = Conv3D(16, (3, 3, 3), activation='relu', kernel_initializer=kernel_initializer, padding='same')(c9)\n",
        "\n",
        "    outputs = Conv3D(n_classes, (1, 1, 1), activation='softmax')(c9)\n",
        "\n",
        "    model = Model(inputs=[inputs], outputs=[outputs])\n",
        "    #compile model outside of this function to make it flexible.\n",
        "    model.summary()\n",
        "\n",
        "    return model"
      ]
    },
    {
      "cell_type": "code",
      "execution_count": null,
      "metadata": {
        "colab": {
          "base_uri": "https://localhost:8080/"
        },
        "id": "0yoZcFxwNgBq",
        "outputId": "fb95b4b4-ec87-41fd-b0bd-2f5d0ba67287"
      },
      "outputs": [
        {
          "name": "stdout",
          "output_type": "stream",
          "text": [
            "Model: \"model\"\n",
            "__________________________________________________________________________________________________\n",
            " Layer (type)                Output Shape                 Param #   Connected to                  \n",
            "==================================================================================================\n",
            " input_1 (InputLayer)        [(None, 128, 128, 128, 3)]   0         []                            \n",
            "                                                                                                  \n",
            " conv3d (Conv3D)             (None, 128, 128, 128, 16)    1312      ['input_1[0][0]']             \n",
            "                                                                                                  \n",
            " dropout (Dropout)           (None, 128, 128, 128, 16)    0         ['conv3d[0][0]']              \n",
            "                                                                                                  \n",
            " conv3d_1 (Conv3D)           (None, 128, 128, 128, 16)    6928      ['dropout[0][0]']             \n",
            "                                                                                                  \n",
            " max_pooling3d (MaxPooling3  (None, 64, 64, 64, 16)       0         ['conv3d_1[0][0]']            \n",
            " D)                                                                                               \n",
            "                                                                                                  \n",
            " conv3d_2 (Conv3D)           (None, 64, 64, 64, 32)       13856     ['max_pooling3d[0][0]']       \n",
            "                                                                                                  \n",
            " dropout_1 (Dropout)         (None, 64, 64, 64, 32)       0         ['conv3d_2[0][0]']            \n",
            "                                                                                                  \n",
            " conv3d_3 (Conv3D)           (None, 64, 64, 64, 32)       27680     ['dropout_1[0][0]']           \n",
            "                                                                                                  \n",
            " max_pooling3d_1 (MaxPoolin  (None, 32, 32, 32, 32)       0         ['conv3d_3[0][0]']            \n",
            " g3D)                                                                                             \n",
            "                                                                                                  \n",
            " conv3d_4 (Conv3D)           (None, 32, 32, 32, 64)       55360     ['max_pooling3d_1[0][0]']     \n",
            "                                                                                                  \n",
            " dropout_2 (Dropout)         (None, 32, 32, 32, 64)       0         ['conv3d_4[0][0]']            \n",
            "                                                                                                  \n",
            " conv3d_5 (Conv3D)           (None, 32, 32, 32, 64)       110656    ['dropout_2[0][0]']           \n",
            "                                                                                                  \n",
            " max_pooling3d_2 (MaxPoolin  (None, 16, 16, 16, 64)       0         ['conv3d_5[0][0]']            \n",
            " g3D)                                                                                             \n",
            "                                                                                                  \n",
            " conv3d_6 (Conv3D)           (None, 16, 16, 16, 128)      221312    ['max_pooling3d_2[0][0]']     \n",
            "                                                                                                  \n",
            " dropout_3 (Dropout)         (None, 16, 16, 16, 128)      0         ['conv3d_6[0][0]']            \n",
            "                                                                                                  \n",
            " conv3d_7 (Conv3D)           (None, 16, 16, 16, 128)      442496    ['dropout_3[0][0]']           \n",
            "                                                                                                  \n",
            " max_pooling3d_3 (MaxPoolin  (None, 8, 8, 8, 128)         0         ['conv3d_7[0][0]']            \n",
            " g3D)                                                                                             \n",
            "                                                                                                  \n",
            " conv3d_8 (Conv3D)           (None, 8, 8, 8, 256)         884992    ['max_pooling3d_3[0][0]']     \n",
            "                                                                                                  \n",
            " dropout_4 (Dropout)         (None, 8, 8, 8, 256)         0         ['conv3d_8[0][0]']            \n",
            "                                                                                                  \n",
            " conv3d_9 (Conv3D)           (None, 8, 8, 8, 256)         1769728   ['dropout_4[0][0]']           \n",
            "                                                                                                  \n",
            " conv3d_transpose (Conv3DTr  (None, 16, 16, 16, 128)      262272    ['conv3d_9[0][0]']            \n",
            " anspose)                                                                                         \n",
            "                                                                                                  \n",
            " concatenate (Concatenate)   (None, 16, 16, 16, 256)      0         ['conv3d_transpose[0][0]',    \n",
            "                                                                     'conv3d_7[0][0]']            \n",
            "                                                                                                  \n",
            " conv3d_10 (Conv3D)          (None, 16, 16, 16, 128)      884864    ['concatenate[0][0]']         \n",
            "                                                                                                  \n",
            " dropout_5 (Dropout)         (None, 16, 16, 16, 128)      0         ['conv3d_10[0][0]']           \n",
            "                                                                                                  \n",
            " conv3d_11 (Conv3D)          (None, 16, 16, 16, 128)      442496    ['dropout_5[0][0]']           \n",
            "                                                                                                  \n",
            " conv3d_transpose_1 (Conv3D  (None, 32, 32, 32, 64)       65600     ['conv3d_11[0][0]']           \n",
            " Transpose)                                                                                       \n",
            "                                                                                                  \n",
            " concatenate_1 (Concatenate  (None, 32, 32, 32, 128)      0         ['conv3d_transpose_1[0][0]',  \n",
            " )                                                                   'conv3d_5[0][0]']            \n",
            "                                                                                                  \n",
            " conv3d_12 (Conv3D)          (None, 32, 32, 32, 64)       221248    ['concatenate_1[0][0]']       \n",
            "                                                                                                  \n",
            " dropout_6 (Dropout)         (None, 32, 32, 32, 64)       0         ['conv3d_12[0][0]']           \n",
            "                                                                                                  \n",
            " conv3d_13 (Conv3D)          (None, 32, 32, 32, 64)       110656    ['dropout_6[0][0]']           \n",
            "                                                                                                  \n",
            " conv3d_transpose_2 (Conv3D  (None, 64, 64, 64, 32)       16416     ['conv3d_13[0][0]']           \n",
            " Transpose)                                                                                       \n",
            "                                                                                                  \n",
            " concatenate_2 (Concatenate  (None, 64, 64, 64, 64)       0         ['conv3d_transpose_2[0][0]',  \n",
            " )                                                                   'conv3d_3[0][0]']            \n",
            "                                                                                                  \n",
            " conv3d_14 (Conv3D)          (None, 64, 64, 64, 32)       55328     ['concatenate_2[0][0]']       \n",
            "                                                                                                  \n",
            " dropout_7 (Dropout)         (None, 64, 64, 64, 32)       0         ['conv3d_14[0][0]']           \n",
            "                                                                                                  \n",
            " conv3d_15 (Conv3D)          (None, 64, 64, 64, 32)       27680     ['dropout_7[0][0]']           \n",
            "                                                                                                  \n",
            " conv3d_transpose_3 (Conv3D  (None, 128, 128, 128, 16)    4112      ['conv3d_15[0][0]']           \n",
            " Transpose)                                                                                       \n",
            "                                                                                                  \n",
            " concatenate_3 (Concatenate  (None, 128, 128, 128, 32)    0         ['conv3d_transpose_3[0][0]',  \n",
            " )                                                                   'conv3d_1[0][0]']            \n",
            "                                                                                                  \n",
            " conv3d_16 (Conv3D)          (None, 128, 128, 128, 16)    13840     ['concatenate_3[0][0]']       \n",
            "                                                                                                  \n",
            " dropout_8 (Dropout)         (None, 128, 128, 128, 16)    0         ['conv3d_16[0][0]']           \n",
            "                                                                                                  \n",
            " conv3d_17 (Conv3D)          (None, 128, 128, 128, 16)    6928      ['dropout_8[0][0]']           \n",
            "                                                                                                  \n",
            " conv3d_18 (Conv3D)          (None, 128, 128, 128, 3)     51        ['conv3d_17[0][0]']           \n",
            "                                                                                                  \n",
            "==================================================================================================\n",
            "Total params: 5645811 (21.54 MB)\n",
            "Trainable params: 5645811 (21.54 MB)\n",
            "Non-trainable params: 0 (0.00 Byte)\n",
            "__________________________________________________________________________________________________\n"
          ]
        }
      ],
      "source": [
        "model = unet((128,128,128,3),3)\n",
        "model.compile(tf.keras.optimizers.Adam(learning_rate=1e-5),\n",
        "              loss=dice_coef_loss,\n",
        "              metrics=[dice_coef,\n",
        "                       'binary_accuracy'])"
      ]
    },
    {
      "cell_type": "code",
      "execution_count": null,
      "metadata": {
        "id": "sj-BUGACbTi8"
      },
      "outputs": [],
      "source": [
        "!rm -rf `find -type d -name .ipynb_checkpoints`"
      ]
    },
    {
      "cell_type": "code",
      "execution_count": null,
      "metadata": {
        "colab": {
          "base_uri": "https://localhost:8080/",
          "height": 644
        },
        "id": "Iwp6Ty6cNqIm",
        "outputId": "e1f8b330-5248-49a6-b671-899ce990d507"
      },
      "outputs": [
        {
          "name": "stdout",
          "output_type": "stream",
          "text": [
            "Epoch 1/50\n",
            "      3/Unknown - 6s 2s/step - loss: 0.0027 - dice_coef: 0.9973 - binary_accuracy: 0.9983Completed\n",
            "      7/Unknown - 13s 2s/step - loss: 0.0027 - dice_coef: 0.9973 - binary_accuracy: 0.9983Completed\n",
            "     11/Unknown - 20s 2s/step - loss: 0.0026 - dice_coef: 0.9974 - binary_accuracy: 0.9983Completed\n",
            "     15/Unknown - 28s 2s/step - loss: 0.0026 - dice_coef: 0.9974 - binary_accuracy: 0.9983Completed\n",
            "     19/Unknown - 35s 2s/step - loss: 0.0026 - dice_coef: 0.9974 - binary_accuracy: 0.9983Completed\n",
            "     23/Unknown - 43s 2s/step - loss: 0.0026 - dice_coef: 0.9974 - binary_accuracy: 0.9983Completed\n",
            "     27/Unknown - 50s 2s/step - loss: 0.0026 - dice_coef: 0.9974 - binary_accuracy: 0.9983Completed\n",
            "     31/Unknown - 58s 2s/step - loss: 0.0026 - dice_coef: 0.9974 - binary_accuracy: 0.9983Completed\n",
            "     35/Unknown - 65s 2s/step - loss: 0.0026 - dice_coef: 0.9974 - binary_accuracy: 0.9983Completed\n",
            "     39/Unknown - 73s 2s/step - loss: 0.0026 - dice_coef: 0.9974 - binary_accuracy: 0.9983Completed\n",
            "     43/Unknown - 80s 2s/step - loss: 0.0026 - dice_coef: 0.9974 - binary_accuracy: 0.9983Completed\n",
            "     47/Unknown - 88s 2s/step - loss: 0.0026 - dice_coef: 0.9974 - binary_accuracy: 0.9983Completed\n",
            "     48/Unknown - 90s 2s/step - loss: 0.0026 - dice_coef: 0.9974 - binary_accuracy: 0.9983"
          ]
        },
        {
          "ename": "KeyboardInterrupt",
          "evalue": "ignored",
          "output_type": "error",
          "traceback": [
            "\u001b[0;31m---------------------------------------------------------------------------\u001b[0m",
            "\u001b[0;31mKeyboardInterrupt\u001b[0m                         Traceback (most recent call last)",
            "\u001b[0;32m<ipython-input-152-243116678a86>\u001b[0m in \u001b[0;36m<cell line: 1>\u001b[0;34m()\u001b[0m\n\u001b[0;32m----> 1\u001b[0;31m loss_history = model.fit(dataset,\n\u001b[0m\u001b[1;32m      2\u001b[0m                   \u001b[0mepochs\u001b[0m \u001b[0;34m=\u001b[0m \u001b[0;36m50\u001b[0m\u001b[0;34m,\u001b[0m\u001b[0;34m\u001b[0m\u001b[0;34m\u001b[0m\u001b[0m\n\u001b[1;32m      3\u001b[0m                   validation_data =(dataset_test))\n",
            "\u001b[0;32m/usr/local/lib/python3.10/dist-packages/keras/src/utils/traceback_utils.py\u001b[0m in \u001b[0;36merror_handler\u001b[0;34m(*args, **kwargs)\u001b[0m\n\u001b[1;32m     63\u001b[0m         \u001b[0mfiltered_tb\u001b[0m \u001b[0;34m=\u001b[0m \u001b[0;32mNone\u001b[0m\u001b[0;34m\u001b[0m\u001b[0;34m\u001b[0m\u001b[0m\n\u001b[1;32m     64\u001b[0m         \u001b[0;32mtry\u001b[0m\u001b[0;34m:\u001b[0m\u001b[0;34m\u001b[0m\u001b[0;34m\u001b[0m\u001b[0m\n\u001b[0;32m---> 65\u001b[0;31m             \u001b[0;32mreturn\u001b[0m \u001b[0mfn\u001b[0m\u001b[0;34m(\u001b[0m\u001b[0;34m*\u001b[0m\u001b[0margs\u001b[0m\u001b[0;34m,\u001b[0m \u001b[0;34m**\u001b[0m\u001b[0mkwargs\u001b[0m\u001b[0;34m)\u001b[0m\u001b[0;34m\u001b[0m\u001b[0;34m\u001b[0m\u001b[0m\n\u001b[0m\u001b[1;32m     66\u001b[0m         \u001b[0;32mexcept\u001b[0m \u001b[0mException\u001b[0m \u001b[0;32mas\u001b[0m \u001b[0me\u001b[0m\u001b[0;34m:\u001b[0m\u001b[0;34m\u001b[0m\u001b[0;34m\u001b[0m\u001b[0m\n\u001b[1;32m     67\u001b[0m             \u001b[0mfiltered_tb\u001b[0m \u001b[0;34m=\u001b[0m \u001b[0m_process_traceback_frames\u001b[0m\u001b[0;34m(\u001b[0m\u001b[0me\u001b[0m\u001b[0;34m.\u001b[0m\u001b[0m__traceback__\u001b[0m\u001b[0;34m)\u001b[0m\u001b[0;34m\u001b[0m\u001b[0;34m\u001b[0m\u001b[0m\n",
            "\u001b[0;32m/usr/local/lib/python3.10/dist-packages/keras/src/engine/training.py\u001b[0m in \u001b[0;36mfit\u001b[0;34m(self, x, y, batch_size, epochs, verbose, callbacks, validation_split, validation_data, shuffle, class_weight, sample_weight, initial_epoch, steps_per_epoch, validation_steps, validation_batch_size, validation_freq, max_queue_size, workers, use_multiprocessing)\u001b[0m\n\u001b[1;32m   1805\u001b[0m                         ):\n\u001b[1;32m   1806\u001b[0m                             \u001b[0mcallbacks\u001b[0m\u001b[0;34m.\u001b[0m\u001b[0mon_train_batch_begin\u001b[0m\u001b[0;34m(\u001b[0m\u001b[0mstep\u001b[0m\u001b[0;34m)\u001b[0m\u001b[0;34m\u001b[0m\u001b[0;34m\u001b[0m\u001b[0m\n\u001b[0;32m-> 1807\u001b[0;31m                             \u001b[0mtmp_logs\u001b[0m \u001b[0;34m=\u001b[0m \u001b[0mself\u001b[0m\u001b[0;34m.\u001b[0m\u001b[0mtrain_function\u001b[0m\u001b[0;34m(\u001b[0m\u001b[0miterator\u001b[0m\u001b[0;34m)\u001b[0m\u001b[0;34m\u001b[0m\u001b[0;34m\u001b[0m\u001b[0m\n\u001b[0m\u001b[1;32m   1808\u001b[0m                             \u001b[0;32mif\u001b[0m \u001b[0mdata_handler\u001b[0m\u001b[0;34m.\u001b[0m\u001b[0mshould_sync\u001b[0m\u001b[0;34m:\u001b[0m\u001b[0;34m\u001b[0m\u001b[0;34m\u001b[0m\u001b[0m\n\u001b[1;32m   1809\u001b[0m                                 \u001b[0mcontext\u001b[0m\u001b[0;34m.\u001b[0m\u001b[0masync_wait\u001b[0m\u001b[0;34m(\u001b[0m\u001b[0;34m)\u001b[0m\u001b[0;34m\u001b[0m\u001b[0;34m\u001b[0m\u001b[0m\n",
            "\u001b[0;32m/usr/local/lib/python3.10/dist-packages/tensorflow/python/util/traceback_utils.py\u001b[0m in \u001b[0;36merror_handler\u001b[0;34m(*args, **kwargs)\u001b[0m\n\u001b[1;32m    148\u001b[0m     \u001b[0mfiltered_tb\u001b[0m \u001b[0;34m=\u001b[0m \u001b[0;32mNone\u001b[0m\u001b[0;34m\u001b[0m\u001b[0;34m\u001b[0m\u001b[0m\n\u001b[1;32m    149\u001b[0m     \u001b[0;32mtry\u001b[0m\u001b[0;34m:\u001b[0m\u001b[0;34m\u001b[0m\u001b[0;34m\u001b[0m\u001b[0m\n\u001b[0;32m--> 150\u001b[0;31m       \u001b[0;32mreturn\u001b[0m \u001b[0mfn\u001b[0m\u001b[0;34m(\u001b[0m\u001b[0;34m*\u001b[0m\u001b[0margs\u001b[0m\u001b[0;34m,\u001b[0m \u001b[0;34m**\u001b[0m\u001b[0mkwargs\u001b[0m\u001b[0;34m)\u001b[0m\u001b[0;34m\u001b[0m\u001b[0;34m\u001b[0m\u001b[0m\n\u001b[0m\u001b[1;32m    151\u001b[0m     \u001b[0;32mexcept\u001b[0m \u001b[0mException\u001b[0m \u001b[0;32mas\u001b[0m \u001b[0me\u001b[0m\u001b[0;34m:\u001b[0m\u001b[0;34m\u001b[0m\u001b[0;34m\u001b[0m\u001b[0m\n\u001b[1;32m    152\u001b[0m       \u001b[0mfiltered_tb\u001b[0m \u001b[0;34m=\u001b[0m \u001b[0m_process_traceback_frames\u001b[0m\u001b[0;34m(\u001b[0m\u001b[0me\u001b[0m\u001b[0;34m.\u001b[0m\u001b[0m__traceback__\u001b[0m\u001b[0;34m)\u001b[0m\u001b[0;34m\u001b[0m\u001b[0;34m\u001b[0m\u001b[0m\n",
            "\u001b[0;32m/usr/local/lib/python3.10/dist-packages/tensorflow/python/eager/polymorphic_function/polymorphic_function.py\u001b[0m in \u001b[0;36m__call__\u001b[0;34m(self, *args, **kwds)\u001b[0m\n\u001b[1;32m    830\u001b[0m \u001b[0;34m\u001b[0m\u001b[0m\n\u001b[1;32m    831\u001b[0m       \u001b[0;32mwith\u001b[0m \u001b[0mOptionalXlaContext\u001b[0m\u001b[0;34m(\u001b[0m\u001b[0mself\u001b[0m\u001b[0;34m.\u001b[0m\u001b[0m_jit_compile\u001b[0m\u001b[0;34m)\u001b[0m\u001b[0;34m:\u001b[0m\u001b[0;34m\u001b[0m\u001b[0;34m\u001b[0m\u001b[0m\n\u001b[0;32m--> 832\u001b[0;31m         \u001b[0mresult\u001b[0m \u001b[0;34m=\u001b[0m \u001b[0mself\u001b[0m\u001b[0;34m.\u001b[0m\u001b[0m_call\u001b[0m\u001b[0;34m(\u001b[0m\u001b[0;34m*\u001b[0m\u001b[0margs\u001b[0m\u001b[0;34m,\u001b[0m \u001b[0;34m**\u001b[0m\u001b[0mkwds\u001b[0m\u001b[0;34m)\u001b[0m\u001b[0;34m\u001b[0m\u001b[0;34m\u001b[0m\u001b[0m\n\u001b[0m\u001b[1;32m    833\u001b[0m \u001b[0;34m\u001b[0m\u001b[0m\n\u001b[1;32m    834\u001b[0m       \u001b[0mnew_tracing_count\u001b[0m \u001b[0;34m=\u001b[0m \u001b[0mself\u001b[0m\u001b[0;34m.\u001b[0m\u001b[0mexperimental_get_tracing_count\u001b[0m\u001b[0;34m(\u001b[0m\u001b[0;34m)\u001b[0m\u001b[0;34m\u001b[0m\u001b[0;34m\u001b[0m\u001b[0m\n",
            "\u001b[0;32m/usr/local/lib/python3.10/dist-packages/tensorflow/python/eager/polymorphic_function/polymorphic_function.py\u001b[0m in \u001b[0;36m_call\u001b[0;34m(self, *args, **kwds)\u001b[0m\n\u001b[1;32m    866\u001b[0m       \u001b[0;31m# In this case we have created variables on the first call, so we run the\u001b[0m\u001b[0;34m\u001b[0m\u001b[0;34m\u001b[0m\u001b[0m\n\u001b[1;32m    867\u001b[0m       \u001b[0;31m# defunned version which is guaranteed to never create variables.\u001b[0m\u001b[0;34m\u001b[0m\u001b[0;34m\u001b[0m\u001b[0m\n\u001b[0;32m--> 868\u001b[0;31m       return tracing_compilation.call_function(\n\u001b[0m\u001b[1;32m    869\u001b[0m           \u001b[0margs\u001b[0m\u001b[0;34m,\u001b[0m \u001b[0mkwds\u001b[0m\u001b[0;34m,\u001b[0m \u001b[0mself\u001b[0m\u001b[0;34m.\u001b[0m\u001b[0m_no_variable_creation_config\u001b[0m\u001b[0;34m\u001b[0m\u001b[0;34m\u001b[0m\u001b[0m\n\u001b[1;32m    870\u001b[0m       )\n",
            "\u001b[0;32m/usr/local/lib/python3.10/dist-packages/tensorflow/python/eager/polymorphic_function/tracing_compilation.py\u001b[0m in \u001b[0;36mcall_function\u001b[0;34m(args, kwargs, tracing_options)\u001b[0m\n\u001b[1;32m    137\u001b[0m   \u001b[0mbound_args\u001b[0m \u001b[0;34m=\u001b[0m \u001b[0mfunction\u001b[0m\u001b[0;34m.\u001b[0m\u001b[0mfunction_type\u001b[0m\u001b[0;34m.\u001b[0m\u001b[0mbind\u001b[0m\u001b[0;34m(\u001b[0m\u001b[0;34m*\u001b[0m\u001b[0margs\u001b[0m\u001b[0;34m,\u001b[0m \u001b[0;34m**\u001b[0m\u001b[0mkwargs\u001b[0m\u001b[0;34m)\u001b[0m\u001b[0;34m\u001b[0m\u001b[0;34m\u001b[0m\u001b[0m\n\u001b[1;32m    138\u001b[0m   \u001b[0mflat_inputs\u001b[0m \u001b[0;34m=\u001b[0m \u001b[0mfunction\u001b[0m\u001b[0;34m.\u001b[0m\u001b[0mfunction_type\u001b[0m\u001b[0;34m.\u001b[0m\u001b[0munpack_inputs\u001b[0m\u001b[0;34m(\u001b[0m\u001b[0mbound_args\u001b[0m\u001b[0;34m)\u001b[0m\u001b[0;34m\u001b[0m\u001b[0;34m\u001b[0m\u001b[0m\n\u001b[0;32m--> 139\u001b[0;31m   return function._call_flat(  # pylint: disable=protected-access\n\u001b[0m\u001b[1;32m    140\u001b[0m       \u001b[0mflat_inputs\u001b[0m\u001b[0;34m,\u001b[0m \u001b[0mcaptured_inputs\u001b[0m\u001b[0;34m=\u001b[0m\u001b[0mfunction\u001b[0m\u001b[0;34m.\u001b[0m\u001b[0mcaptured_inputs\u001b[0m\u001b[0;34m\u001b[0m\u001b[0;34m\u001b[0m\u001b[0m\n\u001b[1;32m    141\u001b[0m   )\n",
            "\u001b[0;32m/usr/local/lib/python3.10/dist-packages/tensorflow/python/eager/polymorphic_function/concrete_function.py\u001b[0m in \u001b[0;36m_call_flat\u001b[0;34m(self, tensor_inputs, captured_inputs)\u001b[0m\n\u001b[1;32m   1321\u001b[0m         and executing_eagerly):\n\u001b[1;32m   1322\u001b[0m       \u001b[0;31m# No tape is watching; skip to running the function.\u001b[0m\u001b[0;34m\u001b[0m\u001b[0;34m\u001b[0m\u001b[0m\n\u001b[0;32m-> 1323\u001b[0;31m       \u001b[0;32mreturn\u001b[0m \u001b[0mself\u001b[0m\u001b[0;34m.\u001b[0m\u001b[0m_inference_function\u001b[0m\u001b[0;34m.\u001b[0m\u001b[0mcall_preflattened\u001b[0m\u001b[0;34m(\u001b[0m\u001b[0margs\u001b[0m\u001b[0;34m)\u001b[0m\u001b[0;34m\u001b[0m\u001b[0;34m\u001b[0m\u001b[0m\n\u001b[0m\u001b[1;32m   1324\u001b[0m     forward_backward = self._select_forward_and_backward_functions(\n\u001b[1;32m   1325\u001b[0m         \u001b[0margs\u001b[0m\u001b[0;34m,\u001b[0m\u001b[0;34m\u001b[0m\u001b[0;34m\u001b[0m\u001b[0m\n",
            "\u001b[0;32m/usr/local/lib/python3.10/dist-packages/tensorflow/python/eager/polymorphic_function/atomic_function.py\u001b[0m in \u001b[0;36mcall_preflattened\u001b[0;34m(self, args)\u001b[0m\n\u001b[1;32m    214\u001b[0m   \u001b[0;32mdef\u001b[0m \u001b[0mcall_preflattened\u001b[0m\u001b[0;34m(\u001b[0m\u001b[0mself\u001b[0m\u001b[0;34m,\u001b[0m \u001b[0margs\u001b[0m\u001b[0;34m:\u001b[0m \u001b[0mSequence\u001b[0m\u001b[0;34m[\u001b[0m\u001b[0mcore\u001b[0m\u001b[0;34m.\u001b[0m\u001b[0mTensor\u001b[0m\u001b[0;34m]\u001b[0m\u001b[0;34m)\u001b[0m \u001b[0;34m->\u001b[0m \u001b[0mAny\u001b[0m\u001b[0;34m:\u001b[0m\u001b[0;34m\u001b[0m\u001b[0;34m\u001b[0m\u001b[0m\n\u001b[1;32m    215\u001b[0m     \u001b[0;34m\"\"\"Calls with flattened tensor inputs and returns the structured output.\"\"\"\u001b[0m\u001b[0;34m\u001b[0m\u001b[0;34m\u001b[0m\u001b[0m\n\u001b[0;32m--> 216\u001b[0;31m     \u001b[0mflat_outputs\u001b[0m \u001b[0;34m=\u001b[0m \u001b[0mself\u001b[0m\u001b[0;34m.\u001b[0m\u001b[0mcall_flat\u001b[0m\u001b[0;34m(\u001b[0m\u001b[0;34m*\u001b[0m\u001b[0margs\u001b[0m\u001b[0;34m)\u001b[0m\u001b[0;34m\u001b[0m\u001b[0;34m\u001b[0m\u001b[0m\n\u001b[0m\u001b[1;32m    217\u001b[0m     \u001b[0;32mreturn\u001b[0m \u001b[0mself\u001b[0m\u001b[0;34m.\u001b[0m\u001b[0mfunction_type\u001b[0m\u001b[0;34m.\u001b[0m\u001b[0mpack_output\u001b[0m\u001b[0;34m(\u001b[0m\u001b[0mflat_outputs\u001b[0m\u001b[0;34m)\u001b[0m\u001b[0;34m\u001b[0m\u001b[0;34m\u001b[0m\u001b[0m\n\u001b[1;32m    218\u001b[0m \u001b[0;34m\u001b[0m\u001b[0m\n",
            "\u001b[0;32m/usr/local/lib/python3.10/dist-packages/tensorflow/python/eager/polymorphic_function/atomic_function.py\u001b[0m in \u001b[0;36mcall_flat\u001b[0;34m(self, *args)\u001b[0m\n\u001b[1;32m    249\u001b[0m         \u001b[0;32mwith\u001b[0m \u001b[0mrecord\u001b[0m\u001b[0;34m.\u001b[0m\u001b[0mstop_recording\u001b[0m\u001b[0;34m(\u001b[0m\u001b[0;34m)\u001b[0m\u001b[0;34m:\u001b[0m\u001b[0;34m\u001b[0m\u001b[0;34m\u001b[0m\u001b[0m\n\u001b[1;32m    250\u001b[0m           \u001b[0;32mif\u001b[0m \u001b[0mself\u001b[0m\u001b[0;34m.\u001b[0m\u001b[0m_bound_context\u001b[0m\u001b[0;34m.\u001b[0m\u001b[0mexecuting_eagerly\u001b[0m\u001b[0;34m(\u001b[0m\u001b[0;34m)\u001b[0m\u001b[0;34m:\u001b[0m\u001b[0;34m\u001b[0m\u001b[0;34m\u001b[0m\u001b[0m\n\u001b[0;32m--> 251\u001b[0;31m             outputs = self._bound_context.call_function(\n\u001b[0m\u001b[1;32m    252\u001b[0m                 \u001b[0mself\u001b[0m\u001b[0;34m.\u001b[0m\u001b[0mname\u001b[0m\u001b[0;34m,\u001b[0m\u001b[0;34m\u001b[0m\u001b[0;34m\u001b[0m\u001b[0m\n\u001b[1;32m    253\u001b[0m                 \u001b[0mlist\u001b[0m\u001b[0;34m(\u001b[0m\u001b[0margs\u001b[0m\u001b[0;34m)\u001b[0m\u001b[0;34m,\u001b[0m\u001b[0;34m\u001b[0m\u001b[0;34m\u001b[0m\u001b[0m\n",
            "\u001b[0;32m/usr/local/lib/python3.10/dist-packages/tensorflow/python/eager/context.py\u001b[0m in \u001b[0;36mcall_function\u001b[0;34m(self, name, tensor_inputs, num_outputs)\u001b[0m\n\u001b[1;32m   1484\u001b[0m     \u001b[0mcancellation_context\u001b[0m \u001b[0;34m=\u001b[0m \u001b[0mcancellation\u001b[0m\u001b[0;34m.\u001b[0m\u001b[0mcontext\u001b[0m\u001b[0;34m(\u001b[0m\u001b[0;34m)\u001b[0m\u001b[0;34m\u001b[0m\u001b[0;34m\u001b[0m\u001b[0m\n\u001b[1;32m   1485\u001b[0m     \u001b[0;32mif\u001b[0m \u001b[0mcancellation_context\u001b[0m \u001b[0;32mis\u001b[0m \u001b[0;32mNone\u001b[0m\u001b[0;34m:\u001b[0m\u001b[0;34m\u001b[0m\u001b[0;34m\u001b[0m\u001b[0m\n\u001b[0;32m-> 1486\u001b[0;31m       outputs = execute.execute(\n\u001b[0m\u001b[1;32m   1487\u001b[0m           \u001b[0mname\u001b[0m\u001b[0;34m.\u001b[0m\u001b[0mdecode\u001b[0m\u001b[0;34m(\u001b[0m\u001b[0;34m\"utf-8\"\u001b[0m\u001b[0;34m)\u001b[0m\u001b[0;34m,\u001b[0m\u001b[0;34m\u001b[0m\u001b[0;34m\u001b[0m\u001b[0m\n\u001b[1;32m   1488\u001b[0m           \u001b[0mnum_outputs\u001b[0m\u001b[0;34m=\u001b[0m\u001b[0mnum_outputs\u001b[0m\u001b[0;34m,\u001b[0m\u001b[0;34m\u001b[0m\u001b[0;34m\u001b[0m\u001b[0m\n",
            "\u001b[0;32m/usr/local/lib/python3.10/dist-packages/tensorflow/python/eager/execute.py\u001b[0m in \u001b[0;36mquick_execute\u001b[0;34m(op_name, num_outputs, inputs, attrs, ctx, name)\u001b[0m\n\u001b[1;32m     51\u001b[0m   \u001b[0;32mtry\u001b[0m\u001b[0;34m:\u001b[0m\u001b[0;34m\u001b[0m\u001b[0;34m\u001b[0m\u001b[0m\n\u001b[1;32m     52\u001b[0m     \u001b[0mctx\u001b[0m\u001b[0;34m.\u001b[0m\u001b[0mensure_initialized\u001b[0m\u001b[0;34m(\u001b[0m\u001b[0;34m)\u001b[0m\u001b[0;34m\u001b[0m\u001b[0;34m\u001b[0m\u001b[0m\n\u001b[0;32m---> 53\u001b[0;31m     tensors = pywrap_tfe.TFE_Py_Execute(ctx._handle, device_name, op_name,\n\u001b[0m\u001b[1;32m     54\u001b[0m                                         inputs, attrs, num_outputs)\n\u001b[1;32m     55\u001b[0m   \u001b[0;32mexcept\u001b[0m \u001b[0mcore\u001b[0m\u001b[0;34m.\u001b[0m\u001b[0m_NotOkStatusException\u001b[0m \u001b[0;32mas\u001b[0m \u001b[0me\u001b[0m\u001b[0;34m:\u001b[0m\u001b[0;34m\u001b[0m\u001b[0;34m\u001b[0m\u001b[0m\n",
            "\u001b[0;31mKeyboardInterrupt\u001b[0m: "
          ]
        }
      ],
      "source": [
        "loss_history = model.fit(dataset,\n",
        "                  epochs = 50,\n",
        "                  validation_data =(dataset_test))"
      ]
    },
    {
      "cell_type": "code",
      "execution_count": null,
      "metadata": {
        "id": "DDF7VEAcNVTt"
      },
      "outputs": [],
      "source": [
        "print(model.summary())"
      ]
    },
    {
      "cell_type": "code",
      "execution_count": null,
      "metadata": {
        "colab": {
          "base_uri": "https://localhost:8080/"
        },
        "id": "RTJvzlTNefRn",
        "outputId": "b34a5c5d-2b27-4d6c-bc4e-67a0d0c86344"
      },
      "outputs": [
        {
          "name": "stdout",
          "output_type": "stream",
          "text": [
            "1/1 [==============================] - 0s 260ms/step\n"
          ]
        }
      ],
      "source": [
        "test_imgs, test_labels = next(iter(dataset))\n",
        "predictions = model.predict(test_imgs)"
      ]
    },
    {
      "cell_type": "code",
      "execution_count": null,
      "metadata": {
        "id": "-7pur_KdgqUM"
      },
      "outputs": [],
      "source": [
        "predictions = np.expand_dims(predictions,axis=4)"
      ]
    },
    {
      "cell_type": "code",
      "execution_count": null,
      "metadata": {
        "id": "artDtjXMqFyx"
      },
      "outputs": [],
      "source": [
        "predictions = np.argmax(predictions,axis=4)"
      ]
    },
    {
      "cell_type": "code",
      "execution_count": null,
      "metadata": {
        "colab": {
          "base_uri": "https://localhost:8080/"
        },
        "id": "YTA3YOLoqPbT",
        "outputId": "6027a610-8922-451a-aa52-5d2b3933e969"
      },
      "outputs": [
        {
          "data": {
            "text/plain": [
              "(3, 128, 128, 128)"
            ]
          },
          "execution_count": 127,
          "metadata": {},
          "output_type": "execute_result"
        }
      ],
      "source": [
        "predictions.shape"
      ]
    },
    {
      "cell_type": "code",
      "execution_count": null,
      "metadata": {
        "colab": {
          "base_uri": "https://localhost:8080/"
        },
        "id": "nj-5_-UyoRH5",
        "outputId": "271c2460-d624-41af-a824-e173298b9f31"
      },
      "outputs": [
        {
          "data": {
            "text/plain": [
              "(array([], dtype=int64), array([], dtype=int64))"
            ]
          },
          "execution_count": 76,
          "metadata": {},
          "output_type": "execute_result"
        }
      ],
      "source": [
        "np.where(predictions[0][50]==2)"
      ]
    },
    {
      "cell_type": "code",
      "execution_count": null,
      "metadata": {
        "colab": {
          "base_uri": "https://localhost:8080/"
        },
        "id": "Hgkg07aXppms",
        "outputId": "2ff10e09-361f-476b-a4d3-732d24f4134a"
      },
      "outputs": [
        {
          "data": {
            "text/plain": [
              "(128, 128)"
            ]
          },
          "execution_count": 75,
          "metadata": {},
          "output_type": "execute_result"
        }
      ],
      "source": [
        "predictions[0][50].shape"
      ]
    },
    {
      "cell_type": "code",
      "execution_count": null,
      "metadata": {
        "colab": {
          "base_uri": "https://localhost:8080/",
          "height": 452
        },
        "id": "P10C0_bhpNqi",
        "outputId": "4550d714-397c-425f-f323-e82185b69f98"
      },
      "outputs": [
        {
          "data": {
            "text/plain": [
              "<matplotlib.image.AxesImage at 0x7bc7508c97b0>"
            ]
          },
          "execution_count": 72,
          "metadata": {},
          "output_type": "execute_result"
        },
        {
          "data": {
            "image/png": "[encoded data removed]",
            "text/plain": [
              "<Figure size 640x480 with 1 Axes>"
            ]
          },
          "metadata": {},
          "output_type": "display_data"
        }
      ],
      "source": [
        "plt.imshow(test_imgs[0][60])"
      ]
    },
    {
      "cell_type": "code",
      "execution_count": null,
      "metadata": {
        "colab": {
          "base_uri": "https://localhost:8080/"
        },
        "id": "0IENV9H1rj4h",
        "outputId": "ad670dee-dd4a-48e0-e504-cb43a1471ad7"
      },
      "outputs": [
        {
          "name": "stdout",
          "output_type": "stream",
          "text": [
            "(1, 127, 0)\n",
            "(2, 123, 127)\n",
            "(7, 126, 127)\n",
            "(7, 127, 0)\n",
            "(17, 127, 0)\n",
            "(19, 126, 127)\n",
            "(23, 126, 127)\n",
            "(35, 126, 127)\n",
            "(51, 126, 127)\n",
            "(67, 126, 127)\n",
            "(83, 126, 127)\n",
            "(99, 126, 127)\n",
            "(107, 126, 127)\n",
            "(112, 126, 125)\n",
            "(120, 126, 125)\n",
            "(125, 127, 127)\n",
            "(126, 6, 0)\n",
            "(126, 52, 0)\n",
            "(126, 68, 0)\n",
            "(126, 76, 0)\n",
            "(126, 84, 0)\n",
            "(126, 88, 0)\n",
            "(126, 92, 0)\n",
            "(126, 100, 0)\n",
            "(126, 104, 0)\n",
            "(126, 108, 0)\n",
            "(126, 116, 0)\n",
            "(126, 120, 0)\n",
            "(126, 124, 0)\n",
            "(126, 127, 2)\n",
            "(127, 1, 3)\n",
            "(127, 5, 1)\n",
            "(127, 6, 127)\n",
            "(127, 8, 0)\n",
            "(127, 13, 1)\n",
            "(127, 14, 127)\n",
            "(127, 16, 0)\n",
            "(127, 17, 1)\n",
            "(127, 21, 1)\n",
            "(127, 22, 127)\n",
            "(127, 23, 1)\n",
            "(127, 24, 0)\n",
            "(127, 25, 1)\n",
            "(127, 29, 1)\n",
            "(127, 30, 127)\n",
            "(127, 32, 0)\n",
            "(127, 33, 1)\n",
            "(127, 37, 1)\n",
            "(127, 38, 127)\n",
            "(127, 39, 1)\n",
            "(127, 40, 0)\n",
            "(127, 41, 1)\n",
            "(127, 45, 1)\n",
            "(127, 46, 127)\n",
            "(127, 48, 0)\n",
            "(127, 49, 1)\n",
            "(127, 53, 1)\n",
            "(127, 54, 127)\n",
            "(127, 55, 1)\n",
            "(127, 56, 0)\n",
            "(127, 57, 1)\n",
            "(127, 61, 1)\n",
            "(127, 63, 1)\n",
            "(127, 64, 0)\n",
            "(127, 65, 1)\n",
            "(127, 69, 1)\n",
            "(127, 70, 127)\n",
            "(127, 71, 1)\n",
            "(127, 72, 0)\n",
            "(127, 72, 127)\n",
            "(127, 73, 1)\n",
            "(127, 77, 1)\n",
            "(127, 78, 127)\n",
            "(127, 79, 1)\n",
            "(127, 80, 0)\n",
            "(127, 81, 1)\n",
            "(127, 85, 1)\n",
            "(127, 85, 5)\n",
            "(127, 86, 127)\n",
            "(127, 87, 1)\n",
            "(127, 88, 0)\n",
            "(127, 89, 1)\n",
            "(127, 93, 1)\n",
            "(127, 94, 127)\n",
            "(127, 95, 1)\n",
            "(127, 96, 0)\n",
            "(127, 96, 127)\n",
            "(127, 97, 1)\n",
            "(127, 101, 1)\n",
            "(127, 101, 5)\n",
            "(127, 102, 127)\n",
            "(127, 103, 1)\n",
            "(127, 104, 0)\n",
            "(127, 104, 127)\n",
            "(127, 105, 1)\n",
            "(127, 109, 1)\n",
            "(127, 110, 127)\n",
            "(127, 111, 1)\n",
            "(127, 112, 0)\n",
            "(127, 112, 127)\n",
            "(127, 113, 1)\n",
            "(127, 115, 1)\n",
            "(127, 117, 1)\n",
            "(127, 117, 5)\n",
            "(127, 117, 15)\n",
            "(127, 117, 31)\n",
            "(127, 117, 63)\n",
            "(127, 118, 127)\n",
            "(127, 119, 1)\n",
            "(127, 119, 3)\n",
            "(127, 120, 0)\n",
            "(127, 120, 127)\n",
            "(127, 121, 1)\n",
            "(127, 123, 1)\n",
            "(127, 125, 1)\n",
            "(127, 125, 5)\n",
            "(127, 125, 9)\n",
            "(127, 125, 13)\n",
            "(127, 125, 17)\n",
            "(127, 125, 127)\n",
            "(127, 126, 0)\n",
            "(127, 126, 117)\n",
            "(127, 126, 125)\n",
            "(127, 126, 126)\n",
            "(127, 127, 1)\n",
            "(127, 127, 3)\n",
            "(127, 127, 5)\n",
            "(127, 127, 7)\n",
            "(127, 127, 9)\n",
            "(127, 127, 11)\n",
            "(127, 127, 13)\n",
            "(127, 127, 17)\n",
            "(127, 127, 19)\n",
            "(127, 127, 21)\n",
            "(127, 127, 25)\n",
            "(127, 127, 27)\n",
            "(127, 127, 29)\n",
            "(127, 127, 33)\n",
            "(127, 127, 35)\n",
            "(127, 127, 37)\n",
            "(127, 127, 41)\n",
            "(127, 127, 43)\n",
            "(127, 127, 45)\n",
            "(127, 127, 49)\n",
            "(127, 127, 51)\n",
            "(127, 127, 53)\n",
            "(127, 127, 57)\n",
            "(127, 127, 59)\n",
            "(127, 127, 61)\n",
            "(127, 127, 65)\n",
            "(127, 127, 67)\n",
            "(127, 127, 69)\n",
            "(127, 127, 73)\n",
            "(127, 127, 75)\n",
            "(127, 127, 77)\n",
            "(127, 127, 81)\n",
            "(127, 127, 83)\n",
            "(127, 127, 85)\n",
            "(127, 127, 89)\n",
            "(127, 127, 91)\n",
            "(127, 127, 97)\n",
            "(127, 127, 99)\n",
            "(127, 127, 101)\n",
            "(127, 127, 105)\n",
            "(127, 127, 107)\n",
            "(127, 127, 113)\n",
            "(127, 127, 115)\n",
            "(127, 127, 121)\n",
            "(127, 127, 127)\n"
          ]
        }
      ],
      "source": [
        "for idx, val in np.ndenumerate(predictions[2]):\n",
        "  if val==1 or val==2:\n",
        "    print(idx)"
      ]
    },
    {
      "cell_type": "code",
      "execution_count": null,
      "metadata": {
        "colab": {
          "base_uri": "https://localhost:8080/",
          "height": 452
        },
        "id": "5jotwkr3si08",
        "outputId": "73b900ec-974f-4083-f111-10c26fd3c7d7"
      },
      "outputs": [
        {
          "data": {
            "text/plain": [
              "<matplotlib.image.AxesImage at 0x7bc7411ca9e0>"
            ]
          },
          "execution_count": 151,
          "metadata": {},
          "output_type": "execute_result"
        },
        {
          "data": {
            "image/png": "[encoded data removed]",
            "text/plain": [
              "<Figure size 640x480 with 1 Axes>"
            ]
          },
          "metadata": {},
          "output_type": "display_data"
        }
      ],
      "source": [
        "plt.imshow(predictions[2][127])"
      ]
    },
    {
      "cell_type": "code",
      "execution_count": null,
      "metadata": {
        "colab": {
          "base_uri": "https://localhost:8080/",
          "height": 751
        },
        "id": "rMT2wxMosIIC",
        "outputId": "6a0c1028-6402-45a1-a072-1d1ff62ecab6"
      },
      "outputs": [
        {
          "ename": "TypeError",
          "evalue": "ignored",
          "output_type": "error",
          "traceback": [
            "\u001b[0;31m---------------------------------------------------------------------------\u001b[0m",
            "\u001b[0;31mTypeError\u001b[0m                                 Traceback (most recent call last)",
            "\u001b[0;32m<ipython-input-140-7cd71f45c658>\u001b[0m in \u001b[0;36m<cell line: 1>\u001b[0;34m()\u001b[0m\n\u001b[0;32m----> 1\u001b[0;31m \u001b[0mplt\u001b[0m\u001b[0;34m.\u001b[0m\u001b[0mimshow\u001b[0m\u001b[0;34m(\u001b[0m\u001b[0mpredictions\u001b[0m\u001b[0;34m[\u001b[0m\u001b[0;36m0\u001b[0m\u001b[0;34m]\u001b[0m\u001b[0;34m[\u001b[0m\u001b[0;36m17\u001b[0m\u001b[0;34m,\u001b[0m\u001b[0;36m127\u001b[0m\u001b[0;34m,\u001b[0m\u001b[0;36m0\u001b[0m\u001b[0;34m]\u001b[0m\u001b[0;34m)\u001b[0m\u001b[0;34m\u001b[0m\u001b[0;34m\u001b[0m\u001b[0m\n\u001b[0m",
            "\u001b[0;32m/usr/local/lib/python3.10/dist-packages/matplotlib/pyplot.py\u001b[0m in \u001b[0;36mimshow\u001b[0;34m(X, cmap, norm, aspect, interpolation, alpha, vmin, vmax, origin, extent, interpolation_stage, filternorm, filterrad, resample, url, data, **kwargs)\u001b[0m\n\u001b[1;32m   2693\u001b[0m         \u001b[0minterpolation_stage\u001b[0m\u001b[0;34m=\u001b[0m\u001b[0;32mNone\u001b[0m\u001b[0;34m,\u001b[0m \u001b[0mfilternorm\u001b[0m\u001b[0;34m=\u001b[0m\u001b[0;32mTrue\u001b[0m\u001b[0;34m,\u001b[0m \u001b[0mfilterrad\u001b[0m\u001b[0;34m=\u001b[0m\u001b[0;36m4.0\u001b[0m\u001b[0;34m,\u001b[0m\u001b[0;34m\u001b[0m\u001b[0;34m\u001b[0m\u001b[0m\n\u001b[1;32m   2694\u001b[0m         resample=None, url=None, data=None, **kwargs):\n\u001b[0;32m-> 2695\u001b[0;31m     __ret = gca().imshow(\n\u001b[0m\u001b[1;32m   2696\u001b[0m         \u001b[0mX\u001b[0m\u001b[0;34m,\u001b[0m \u001b[0mcmap\u001b[0m\u001b[0;34m=\u001b[0m\u001b[0mcmap\u001b[0m\u001b[0;34m,\u001b[0m \u001b[0mnorm\u001b[0m\u001b[0;34m=\u001b[0m\u001b[0mnorm\u001b[0m\u001b[0;34m,\u001b[0m \u001b[0maspect\u001b[0m\u001b[0;34m=\u001b[0m\u001b[0maspect\u001b[0m\u001b[0;34m,\u001b[0m\u001b[0;34m\u001b[0m\u001b[0;34m\u001b[0m\u001b[0m\n\u001b[1;32m   2697\u001b[0m         \u001b[0minterpolation\u001b[0m\u001b[0;34m=\u001b[0m\u001b[0minterpolation\u001b[0m\u001b[0;34m,\u001b[0m \u001b[0malpha\u001b[0m\u001b[0;34m=\u001b[0m\u001b[0malpha\u001b[0m\u001b[0;34m,\u001b[0m \u001b[0mvmin\u001b[0m\u001b[0;34m=\u001b[0m\u001b[0mvmin\u001b[0m\u001b[0;34m,\u001b[0m\u001b[0;34m\u001b[0m\u001b[0;34m\u001b[0m\u001b[0m\n",
            "\u001b[0;32m/usr/local/lib/python3.10/dist-packages/matplotlib/__init__.py\u001b[0m in \u001b[0;36minner\u001b[0;34m(ax, data, *args, **kwargs)\u001b[0m\n\u001b[1;32m   1440\u001b[0m     \u001b[0;32mdef\u001b[0m \u001b[0minner\u001b[0m\u001b[0;34m(\u001b[0m\u001b[0max\u001b[0m\u001b[0;34m,\u001b[0m \u001b[0;34m*\u001b[0m\u001b[0margs\u001b[0m\u001b[0;34m,\u001b[0m \u001b[0mdata\u001b[0m\u001b[0;34m=\u001b[0m\u001b[0;32mNone\u001b[0m\u001b[0;34m,\u001b[0m \u001b[0;34m**\u001b[0m\u001b[0mkwargs\u001b[0m\u001b[0;34m)\u001b[0m\u001b[0;34m:\u001b[0m\u001b[0;34m\u001b[0m\u001b[0;34m\u001b[0m\u001b[0m\n\u001b[1;32m   1441\u001b[0m         \u001b[0;32mif\u001b[0m \u001b[0mdata\u001b[0m \u001b[0;32mis\u001b[0m \u001b[0;32mNone\u001b[0m\u001b[0;34m:\u001b[0m\u001b[0;34m\u001b[0m\u001b[0;34m\u001b[0m\u001b[0m\n\u001b[0;32m-> 1442\u001b[0;31m             \u001b[0;32mreturn\u001b[0m \u001b[0mfunc\u001b[0m\u001b[0;34m(\u001b[0m\u001b[0max\u001b[0m\u001b[0;34m,\u001b[0m \u001b[0;34m*\u001b[0m\u001b[0mmap\u001b[0m\u001b[0;34m(\u001b[0m\u001b[0msanitize_sequence\u001b[0m\u001b[0;34m,\u001b[0m \u001b[0margs\u001b[0m\u001b[0;34m)\u001b[0m\u001b[0;34m,\u001b[0m \u001b[0;34m**\u001b[0m\u001b[0mkwargs\u001b[0m\u001b[0;34m)\u001b[0m\u001b[0;34m\u001b[0m\u001b[0;34m\u001b[0m\u001b[0m\n\u001b[0m\u001b[1;32m   1443\u001b[0m \u001b[0;34m\u001b[0m\u001b[0m\n\u001b[1;32m   1444\u001b[0m         \u001b[0mbound\u001b[0m \u001b[0;34m=\u001b[0m \u001b[0mnew_sig\u001b[0m\u001b[0;34m.\u001b[0m\u001b[0mbind\u001b[0m\u001b[0;34m(\u001b[0m\u001b[0max\u001b[0m\u001b[0;34m,\u001b[0m \u001b[0;34m*\u001b[0m\u001b[0margs\u001b[0m\u001b[0;34m,\u001b[0m \u001b[0;34m**\u001b[0m\u001b[0mkwargs\u001b[0m\u001b[0;34m)\u001b[0m\u001b[0;34m\u001b[0m\u001b[0;34m\u001b[0m\u001b[0m\n",
            "\u001b[0;32m/usr/local/lib/python3.10/dist-packages/matplotlib/axes/_axes.py\u001b[0m in \u001b[0;36mimshow\u001b[0;34m(self, X, cmap, norm, aspect, interpolation, alpha, vmin, vmax, origin, extent, interpolation_stage, filternorm, filterrad, resample, url, **kwargs)\u001b[0m\n\u001b[1;32m   5663\u001b[0m                               **kwargs)\n\u001b[1;32m   5664\u001b[0m \u001b[0;34m\u001b[0m\u001b[0m\n\u001b[0;32m-> 5665\u001b[0;31m         \u001b[0mim\u001b[0m\u001b[0;34m.\u001b[0m\u001b[0mset_data\u001b[0m\u001b[0;34m(\u001b[0m\u001b[0mX\u001b[0m\u001b[0;34m)\u001b[0m\u001b[0;34m\u001b[0m\u001b[0;34m\u001b[0m\u001b[0m\n\u001b[0m\u001b[1;32m   5666\u001b[0m         \u001b[0mim\u001b[0m\u001b[0;34m.\u001b[0m\u001b[0mset_alpha\u001b[0m\u001b[0;34m(\u001b[0m\u001b[0malpha\u001b[0m\u001b[0;34m)\u001b[0m\u001b[0;34m\u001b[0m\u001b[0;34m\u001b[0m\u001b[0m\n\u001b[1;32m   5667\u001b[0m         \u001b[0;32mif\u001b[0m \u001b[0mim\u001b[0m\u001b[0;34m.\u001b[0m\u001b[0mget_clip_path\u001b[0m\u001b[0;34m(\u001b[0m\u001b[0;34m)\u001b[0m \u001b[0;32mis\u001b[0m \u001b[0;32mNone\u001b[0m\u001b[0;34m:\u001b[0m\u001b[0;34m\u001b[0m\u001b[0;34m\u001b[0m\u001b[0m\n",
            "\u001b[0;32m/usr/local/lib/python3.10/dist-packages/matplotlib/image.py\u001b[0m in \u001b[0;36mset_data\u001b[0;34m(self, A)\u001b[0m\n\u001b[1;32m    708\u001b[0m         if not (self._A.ndim == 2\n\u001b[1;32m    709\u001b[0m                 or self._A.ndim == 3 and self._A.shape[-1] in [3, 4]):\n\u001b[0;32m--> 710\u001b[0;31m             raise TypeError(\"Invalid shape {} for image data\"\n\u001b[0m\u001b[1;32m    711\u001b[0m                             .format(self._A.shape))\n\u001b[1;32m    712\u001b[0m \u001b[0;34m\u001b[0m\u001b[0m\n",
            "\u001b[0;31mTypeError\u001b[0m: Invalid shape () for image data"
          ]
        },
        {
          "data": {
            "image/png": "[encoded data removed]",
            "text/plain": [
              "<Figure size 640x480 with 1 Axes>"
            ]
          },
          "metadata": {},
          "output_type": "display_data"
        }
      ],
      "source": [
        "plt.imshow(predictions[0][17,127,0])"
      ]
    },
    {
      "cell_type": "code",
      "execution_count": null,
      "metadata": {
        "colab": {
          "base_uri": "https://localhost:8080/",
          "height": 453
        },
        "id": "JTBe_YFenga7",
        "outputId": "6733fdba-5e01-4eeb-c580-ac27150e1682"
      },
      "outputs": [
        {
          "data": {
            "text/plain": [
              "<matplotlib.image.AxesImage at 0x7bc7454841c0>"
            ]
          },
          "execution_count": 137,
          "metadata": {},
          "output_type": "execute_result"
        },
        {
          "data": {
            "image/png": "[encoded data removed]",
            "text/plain": [
              "<Figure size 640x480 with 9 Axes>"
            ]
          },
          "metadata": {},
          "output_type": "display_data"
        }
      ],
      "source": [
        "import matplotlib.pyplot as plt\n",
        "\n",
        "rand = np.random.randint(0,112)\n",
        "\n",
        "plt.subplot(3,3,1)\n",
        "plt.imshow(np.array(test_imgs)[0][:,rand,:,:])\n",
        "\n",
        "plt.subplot(3,3,2)\n",
        "plt.imshow(np.array(np.argmax(test_labels,axis=4))[0][rand])\n",
        "\n",
        "plt.subplot(3,3,3)\n",
        "plt.imshow(np.array(predictions)[0][rand])\n",
        "\n",
        "plt.subplot(3,3,4)\n",
        "plt.imshow(np.array(test_imgs)[0][rand])\n",
        "\n",
        "plt.subplot(3,3,5)\n",
        "plt.imshow(np.array(np.argmax(test_labels,axis=4))[0][rand])\n",
        "\n",
        "plt.subplot(3,3,6)\n",
        "plt.imshow(np.array(predictions)[0][rand])\n",
        "\n",
        "plt.subplot(3,3,7)\n",
        "plt.imshow(np.array(test_imgs)[0][rand])\n",
        "\n",
        "plt.subplot(3,3,8)\n",
        "plt.imshow(np.array(np.argmax(test_labels,axis=4))[0][rand])\n",
        "\n",
        "plt.subplot(3,3,9)\n",
        "plt.imshow(np.array(predictions)[0][rand])"
      ]
    },
    {
      "cell_type": "code",
      "execution_count": null,
      "metadata": {
        "colab": {
          "base_uri": "https://localhost:8080/",
          "height": 273
        },
        "id": "X0V7bbgpOTE5",
        "outputId": "52d5f3a4-55c7-4dcf-f803-2acde97c8d89"
      },
      "outputs": [
        {
          "ename": "NameError",
          "evalue": "ignored",
          "output_type": "error",
          "traceback": [
            "\u001b[0;31m---------------------------------------------------------------------------\u001b[0m",
            "\u001b[0;31mNameError\u001b[0m                                 Traceback (most recent call last)",
            "\u001b[0;32m<ipython-input-102-728137c44909>\u001b[0m in \u001b[0;36m<cell line: 2>\u001b[0;34m()\u001b[0m\n\u001b[1;32m      1\u001b[0m \u001b[0;32mfrom\u001b[0m \u001b[0mtensorflow\u001b[0m\u001b[0;34m.\u001b[0m\u001b[0mkeras\u001b[0m\u001b[0;34m.\u001b[0m\u001b[0moptimizers\u001b[0m \u001b[0;32mimport\u001b[0m \u001b[0mAdam\u001b[0m\u001b[0;34m\u001b[0m\u001b[0;34m\u001b[0m\u001b[0m\n\u001b[0;32m----> 2\u001b[0;31m \u001b[0moptim\u001b[0m \u001b[0;34m=\u001b[0m \u001b[0mAdam\u001b[0m\u001b[0;34m(\u001b[0m\u001b[0mlearning_rate\u001b[0m\u001b[0;34m=\u001b[0m\u001b[0mlearning_rate\u001b[0m\u001b[0;34m)\u001b[0m\u001b[0;34m\u001b[0m\u001b[0;34m\u001b[0m\u001b[0m\n\u001b[0m\u001b[1;32m      3\u001b[0m \u001b[0;34m\u001b[0m\u001b[0m\n\u001b[1;32m      4\u001b[0m \u001b[0mloss_to_use\u001b[0m \u001b[0;34m=\u001b[0m \u001b[0msm\u001b[0m\u001b[0;34m.\u001b[0m\u001b[0mlosses\u001b[0m\u001b[0;34m.\u001b[0m\u001b[0mbce_jaccard_loss\u001b[0m\u001b[0;34m\u001b[0m\u001b[0;34m\u001b[0m\u001b[0m\n\u001b[1;32m      5\u001b[0m \u001b[0mmodel\u001b[0m\u001b[0;34m.\u001b[0m\u001b[0mcompile\u001b[0m\u001b[0;34m(\u001b[0m\u001b[0moptimizer\u001b[0m\u001b[0;34m=\u001b[0m\u001b[0moptim\u001b[0m\u001b[0;34m,\u001b[0m \u001b[0mloss\u001b[0m\u001b[0;34m=\u001b[0m\u001b[0mloss_to_use\u001b[0m\u001b[0;34m,\u001b[0m \u001b[0mmetrics\u001b[0m\u001b[0;34m=\u001b[0m\u001b[0;34m[\u001b[0m\u001b[0msm\u001b[0m\u001b[0;34m.\u001b[0m\u001b[0mmetrics\u001b[0m\u001b[0;34m.\u001b[0m\u001b[0miou_score\u001b[0m\u001b[0;34m,\u001b[0m \u001b[0msm\u001b[0m\u001b[0;34m.\u001b[0m\u001b[0mmetrics\u001b[0m\u001b[0;34m.\u001b[0m\u001b[0mf1_score\u001b[0m\u001b[0;34m]\u001b[0m\u001b[0;34m)\u001b[0m\u001b[0;34m\u001b[0m\u001b[0;34m\u001b[0m\u001b[0m\n",
            "\u001b[0;31mNameError\u001b[0m: name 'learning_rate' is not defined"
          ]
        }
      ],
      "source": [
        "from tensorflow.keras.optimizers import Adam\n",
        "optim = Adam(learning_rate=learning_rate)\n",
        "\n",
        "loss_to_use = sm.losses.bce_jaccard_loss\n",
        "model.compile(optimizer=optim, loss=loss_to_use, metrics=[sm.metrics.iou_score, sm.metrics.f1_score])"
      ]
    },
    {
      "cell_type": "code",
      "execution_count": null,
      "metadata": {
        "id": "AB7Jbl_vGxAm"
      },
      "outputs": [],
      "source": [
        "img, mask = data_gen.__next__()"
      ]
    },
    {
      "cell_type": "code",
      "execution_count": null,
      "metadata": {
        "colab": {
          "base_uri": "https://localhost:8080/",
          "height": 323
        },
        "id": "K3YmcDNVFKLu",
        "outputId": "0ac98093-e8b1-4109-8390-831dc515acc0"
      },
      "outputs": [
        {
          "data": {
            "text/plain": [
              "<matplotlib.image.AxesImage at 0x7ea983577760>"
            ]
          },
          "execution_count": 82,
          "metadata": {},
          "output_type": "execute_result"
        },
        {
          "data": {
            "image/png": "[encoded data removed]",
            "text/plain": [
              "<Figure size 640x480 with 1 Axes>"
            ]
          },
          "metadata": {},
          "output_type": "display_data"
        }
      ],
      "source": [
        "plt.imshow(prepare_img(nb.load(\"/content/Train/HFH_001.img\"))[72,:,:,:])"
      ]
    },
    {
      "cell_type": "code",
      "execution_count": null,
      "metadata": {
        "colab": {
          "base_uri": "https://localhost:8080/",
          "height": 323
        },
        "id": "HZesOo4NB4hx",
        "outputId": "ffb0782d-4766-4f9f-f14d-eff92afea409"
      },
      "outputs": [
        {
          "data": {
            "text/plain": [
              "<matplotlib.image.AxesImage at 0x7ea986b14940>"
            ]
          },
          "execution_count": 50,
          "metadata": {},
          "output_type": "execute_result"
        },
        {
          "data": {
            "image/png": "[encoded data removed]",
            "text/plain": [
              "<Figure size 640x480 with 1 Axes>"
            ]
          },
          "metadata": {},
          "output_type": "display_data"
        }
      ],
      "source": [
        "plt.imshow(prepare_img(nb.load(\"/content/Train/Labels/HFH_001_Hipp_Labels.img\"))[73,:,:,:])"
      ]
    },
    {
      "cell_type": "markdown",
      "source": [
        "#2D Slice UNET"
      ],
      "metadata": {
        "id": "5pYzCSMDbdwj"
      }
    },
    {
      "cell_type": "code",
      "execution_count": null,
      "metadata": {
        "id": "NRiOUUxtuKMn"
      },
      "outputs": [],
      "source": [
        "import numpy as np\n",
        "import tensorflow as tf\n",
        "import os\n",
        "import matplotlib.pyplot as plt\n",
        "import nibabel as nb\n",
        "import tqdm"
      ]
    },
    {
      "cell_type": "code",
      "execution_count": null,
      "metadata": {
        "id": "KXvZv9arEBcW"
      },
      "outputs": [],
      "source": []
    },
    {
      "cell_type": "code",
      "execution_count": null,
      "metadata": {
        "id": "1FHv7ledojtx"
      },
      "outputs": [],
      "source": [
        "import tqdm\n",
        "\n",
        "def create_train_dataset(TRAIN_PATH=\"/content/Train\", TRAIN_LABEL_PATH=\"/content/Train/Labels\", sizes=256):\n",
        "\n",
        "  print(\"Preparing Real Images\")\n",
        "\n",
        "  train_index = sorted(os.listdir(TRAIN_PATH))[:31] if sizes==256 else sorted(os.listdir(TRAIN_PATH))[31:]\n",
        "  label_index = sorted(os.listdir(TRAIN_LABEL_PATH))[:31] if sizes==256 else sorted(os.listdir(TRAIN_LABEL_PATH))[31:]\n",
        "\n",
        "  train_image_idx=0\n",
        "  for file in tqdm.tqdm(train_index):\n",
        "    if file==\"Labels\" or os.path.splitext(file)[1]==\".hdr\":\n",
        "      continue\n",
        "    elif file==sorted(os.listdir(TRAIN_PATH))[1]:\n",
        "      img = nb.load(os.path.join(TRAIN_PATH,file))\n",
        "      training_set = prepare_img(img)[50:90] #range selected to decrease no-pixel masks\n",
        "    else:\n",
        "\n",
        "      img = nb.load(os.path.join(TRAIN_PATH,file))\n",
        "      if sizes==512 and train_image_idx==0:\n",
        "        training_set = prepare_img(img)[50:90]\n",
        "\n",
        "      temp_train_set = prepare_img(img)[50:90]\n",
        "      if file==\"HFH_025.img\":\n",
        "        temp_train_set = np.expand_dims(temp_train_set, axis=3)\n",
        "\n",
        "      training_set = np.concatenate((training_set, temp_train_set),axis=0)\n",
        "      train_image_idx+=1\n",
        "\n",
        "  print(\"Real Images Initalized. Real Images Shape:\",training_set.shape)\n",
        "  print(\"Number of Training Images:\",training_set.shape[0])\n",
        "\n",
        "  print(\"Preparing Labels\")\n",
        "\n",
        "  label_training_idx=0\n",
        "  for file in tqdm.tqdm(label_index):\n",
        "    if file==\"Labels\" or os.path.splitext(file)[1]==\".hdr\":\n",
        "      continue\n",
        "    elif file==sorted(os.listdir(TRAIN_LABEL_PATH))[1]:\n",
        "      img = nb.load(os.path.join(TRAIN_LABEL_PATH,file))\n",
        "      training_set_l = prepare_img(img)[50:90]\n",
        "    else:\n",
        "\n",
        "      img = nb.load(os.path.join(TRAIN_LABEL_PATH,file))\n",
        "\n",
        "      if sizes==512 and label_training_idx==0:\n",
        "        training_set_l = prepare_img(img)[50:90]\n",
        "\n",
        "      temp_train_set = prepare_img(img)[50:90]\n",
        "      training_set_l = np.concatenate((training_set_l, temp_train_set),axis=0)\n",
        "      label_training_idx+=1\n",
        "\n",
        "  print(\"\\nLabel Images Initalized. Label Images Shape:\",training_set_l.shape)\n",
        "  print(\"Number of Label Images:\",training_set_l.shape[0])\n",
        "\n",
        "  return training_set, training_set_l"
      ]
    },
    {
      "cell_type": "code",
      "execution_count": null,
      "metadata": {
        "id": "R7u9kWIxY77p"
      },
      "outputs": [],
      "source": [
        "def create_validation_dataset(VALID_PATH=\"/content/Test\",sizes=256):\n",
        "\n",
        "  train_index = sorted(os.listdir(VALID_PATH))[:31] if sizes==256 else sorted(os.listdir(VALID_PATH))[31:]\n",
        "  valid_idx=0\n",
        "\n",
        "  for file in tqdm.tqdm(train_index):\n",
        "    if file==\"Labels\" or os.path.splitext(file)[1]==\".hdr\":\n",
        "      continue\n",
        "    elif file==sorted(os.listdir(VALID_PATH))[1]:\n",
        "      img = nb.load(os.path.join(VALID_PATH,file))\n",
        "      training_set = prepare_img(img)\n",
        "    else:\n",
        "      img = nb.load(os.path.join(VALID_PATH,file))\n",
        "\n",
        "      if sizes==512 and valid_idx==0:\n",
        "        training_set = prepare_img(img)\n",
        "\n",
        "      temp_train_set = prepare_img(img)\n",
        "      training_set = np.concatenate((training_set, temp_train_set),axis=0)\n",
        "      valid_idx+=1\n",
        "\n",
        "  return training_set"
      ]
    },
    {
      "cell_type": "code",
      "execution_count": null,
      "metadata": {
        "colab": {
          "base_uri": "https://localhost:8080/"
        },
        "id": "6IdQzAZZs1Ub",
        "outputId": "2c181873-04e5-4a7d-be77-1d4cd94b5d18"
      },
      "outputs": [
        {
          "name": "stdout",
          "output_type": "stream",
          "text": [
            "Preparing Real Images\n"
          ]
        },
        {
          "name": "stderr",
          "output_type": "stream",
          "text": [
            "100%|██████████| 20/20 [00:04<00:00,  4.70it/s]\n"
          ]
        },
        {
          "name": "stdout",
          "output_type": "stream",
          "text": [
            "Real Images Initalized. Real Images Shape: (440, 512, 512, 1)\n",
            "Number of Training Images: 440\n",
            "Preparing Labels\n"
          ]
        },
        {
          "name": "stderr",
          "output_type": "stream",
          "text": [
            "100%|██████████| 19/19 [00:04<00:00,  4.40it/s]\n"
          ]
        },
        {
          "name": "stdout",
          "output_type": "stream",
          "text": [
            "\n",
            "Label Images Initalized. Label Images Shape: (440, 512, 512, 1)\n",
            "Number of Label Images: 440\n",
            "Preparing Real Images\n"
          ]
        },
        {
          "name": "stderr",
          "output_type": "stream",
          "text": [
            "100%|██████████| 31/31 [00:01<00:00, 17.40it/s]\n"
          ]
        },
        {
          "name": "stdout",
          "output_type": "stream",
          "text": [
            "Real Images Initalized. Real Images Shape: (600, 256, 256, 1)\n",
            "Number of Training Images: 600\n",
            "Preparing Labels\n"
          ]
        },
        {
          "name": "stderr",
          "output_type": "stream",
          "text": [
            "100%|██████████| 31/31 [00:01<00:00, 17.15it/s]"
          ]
        },
        {
          "name": "stdout",
          "output_type": "stream",
          "text": [
            "\n",
            "Label Images Initalized. Label Images Shape: (600, 256, 256, 1)\n",
            "Number of Label Images: 600\n"
          ]
        },
        {
          "name": "stderr",
          "output_type": "stream",
          "text": [
            "\n"
          ]
        }
      ],
      "source": [
        "reals_512, labels_512 = create_train_dataset(sizes=512)\n",
        "reals_256, labels_256 = create_train_dataset()"
      ]
    },
    {
      "cell_type": "code",
      "execution_count": null,
      "metadata": {
        "colab": {
          "base_uri": "https://localhost:8080/"
        },
        "id": "bCk6g0eMZO2R",
        "outputId": "229029e8-1206-42bd-cc1b-3f537f140847"
      },
      "outputs": [
        {
          "name": "stderr",
          "output_type": "stream",
          "text": [
            "100%|██████████| 19/19 [00:07<00:00,  2.51it/s]\n",
            "100%|██████████| 31/31 [00:03<00:00,  9.41it/s]\n"
          ]
        }
      ],
      "source": [
        "valid_ds_512 = create_validation_dataset(sizes=512)\n",
        "valid_ds_256 = create_validation_dataset()"
      ]
    },
    {
      "cell_type": "code",
      "execution_count": null,
      "metadata": {
        "id": "CRFV8anJk7yS"
      },
      "outputs": [],
      "source": [
        "from sklearn.model_selection import train_test_split\n",
        "\n",
        "\n",
        "#X_train_512, X_test_512, y_train_512, y_test_512 = train_test_split(reals_512, labels_512, test_size=0.2, random_state=0, shuffle=True)\n",
        "X_train_256, X_test_256, y_train_256, y_test_256 = train_test_split(reals_256, labels_256, test_size=0.2, random_state=0, shuffle=True)"
      ]
    },
    {
      "cell_type": "code",
      "execution_count": null,
      "metadata": {
        "colab": {
          "base_uri": "https://localhost:8080/"
        },
        "id": "ZdA-6sIig3Pj",
        "outputId": "7527e5e5-4f3d-41c6-fb3b-9531b6ac68b6"
      },
      "outputs": [
        {
          "data": {
            "text/plain": [
              "dtype('float64')"
            ]
          },
          "execution_count": 17,
          "metadata": {},
          "output_type": "execute_result"
        }
      ],
      "source": [
        "y_test_256.dtype"
      ]
    },
    {
      "cell_type": "code",
      "execution_count": null,
      "metadata": {
        "id": "wvQh9Ck6j4LT"
      },
      "outputs": [],
      "source": [
        "def resize_images(image, label, slice_idx=0,img_sizes=512):\n",
        "  img = tf.image.resize(image, (img_sizes,img_sizes))\n",
        "  lbl = tf.image.resize(label, (img_sizes,img_sizes))\n",
        "  return tf.cast(img, 'float64'), tf.cast(lbl,'float64')"
      ]
    },
    {
      "cell_type": "code",
      "execution_count": null,
      "metadata": {
        "id": "O6Clajs_vALO"
      },
      "outputs": [],
      "source": [
        "BATCH_SIZE = 8\n",
        "DS_SIZE=1848\n",
        "\n",
        "#dataset_test_512 = tf.data.Dataset.from_tensor_slices((X_test_512, y_test_512))\n",
        "#dataset_test_512 = dataset_test_512.batch(BATCH_SIZE)\n",
        "\n",
        "dataset_test_256 = tf.data.Dataset.from_tensor_slices((X_test_256, y_test_256))\n",
        "dataset_test_256 = dataset_test_256.batch(BATCH_SIZE)\n",
        "dataset_test_256 = dataset_test_256.map(lambda x,y: resize_images(x,y,img_sizes=256))\n",
        "\n",
        "#dataset_train_512 = tf.data.Dataset.from_tensor_slices((X_train_512, y_train_512))\n",
        "#dataset_train_512 = dataset_train_512.batch(BATCH_SIZE)\n",
        "\n",
        "dataset_train_256 = tf.data.Dataset.from_tensor_slices((X_train_256, y_train_256))\n",
        "dataset_train_256 = dataset_train_256.batch(BATCH_SIZE)\n",
        "dataset_train_256 = dataset_train_256.map(lambda x,y: resize_images(x,y,img_sizes=256))\n",
        "\n",
        "#dataset_train = dataset_train_256.concatenate(dataset_train_256)\n",
        "\n",
        "#dataset_test = dataset_test_512.zip(dataset_test_256)\n",
        "\n",
        "#dataset_train = dataset_train.batch(BATCH_SIZE)\n",
        "#dataset_test = dataset_test.batch(BATCH_SIZE)"
      ]
    },
    {
      "cell_type": "code",
      "execution_count": null,
      "metadata": {
        "id": "7ESKgTZouQ50"
      },
      "outputs": [],
      "source": []
    },
    {
      "cell_type": "code",
      "execution_count": null,
      "metadata": {
        "id": "BuWHSqjJrzuc"
      },
      "outputs": [],
      "source": [
        "def normalization(image,label):\n",
        "  img = tf.cast(image, tf.float32)/255.\n",
        "  lbl = tf.where(tf.cast(label, tf.float32)/255. > 0, 1.0, 0.0)\n",
        "  return img, lbl"
      ]
    },
    {
      "cell_type": "code",
      "execution_count": null,
      "metadata": {
        "id": "lR7mJBlfvM9V"
      },
      "outputs": [],
      "source": [
        "dataset_train_256 = dataset_train_256.map(lambda x, y: normalization(x,y))\n",
        "dataset_test_256 = dataset_test_256.map(lambda x, y: normalization(x,y))\n",
        "\n",
        "dataset_train_256 = dataset_train_256.shuffle(1800*10)\n",
        "dataset_train_256 = dataset_train_256.repeat(5)"
      ]
    },
    {
      "cell_type": "code",
      "execution_count": null,
      "metadata": {
        "id": "WlhpC9Warqtb"
      },
      "outputs": [],
      "source": [
        "dataset_test = dataset_test.map(lambda x, y: normalization(x,y)) #normalization\n",
        "dataset_train = dataset_train.map(lambda x, y: normalization(x,y)) #normalization"
      ]
    },
    {
      "cell_type": "code",
      "execution_count": null,
      "metadata": {
        "colab": {
          "base_uri": "https://localhost:8080/"
        },
        "id": "NIbNSsfJnRgR",
        "outputId": "c39c8ae7-c288-495e-e588-993cd0e25233"
      },
      "outputs": [
        {
          "data": {
            "text/plain": [
              "<_MapDataset element_spec=(TensorSpec(shape=(None, None, 512, 512, 1), dtype=tf.float32, name=None), TensorSpec(shape=(None, None, 512, 512, 1), dtype=tf.float32, name=None))>"
            ]
          },
          "execution_count": 21,
          "metadata": {},
          "output_type": "execute_result"
        }
      ],
      "source": [
        "dataset_test"
      ]
    },
    {
      "cell_type": "code",
      "execution_count": null,
      "metadata": {
        "colab": {
          "base_uri": "https://localhost:8080/",
          "height": 453
        },
        "id": "TQod6J878IHl",
        "outputId": "0fb0bfbc-f3b7-4b32-f10c-236062ce72a4"
      },
      "outputs": [
        {
          "data": {
            "text/plain": [
              "<matplotlib.image.AxesImage at 0x795d664d3bb0>"
            ]
          },
          "execution_count": 27,
          "metadata": {},
          "output_type": "execute_result"
        },
        {
          "data": {
            "image/png": "[encoded data removed]",
            "text/plain": [
              "<Figure size 640x480 with 1 Axes>"
            ]
          },
          "metadata": {},
          "output_type": "display_data"
        }
      ],
      "source": [
        "plt.imshow(y_test_512[70])"
      ]
    },
    {
      "cell_type": "code",
      "execution_count": null,
      "metadata": {
        "colab": {
          "base_uri": "https://localhost:8080/",
          "height": 453
        },
        "id": "O77Ec54q790Y",
        "outputId": "cb691d60-4852-4a87-a92b-e5a5fac627b2"
      },
      "outputs": [
        {
          "data": {
            "text/plain": [
              "<matplotlib.image.AxesImage at 0x795d66562800>"
            ]
          },
          "execution_count": 28,
          "metadata": {},
          "output_type": "execute_result"
        },
        {
          "data": {
            "image/png": "[encoded data removed]",
            "text/plain": [
              "<Figure size 640x480 with 1 Axes>"
            ]
          },
          "metadata": {},
          "output_type": "display_data"
        }
      ],
      "source": [
        "plt.imshow(tf.where(tf.cast(y_test_512[70], tf.float32)/255. > 0, 1.0, 0.0))"
      ]
    },
    {
      "cell_type": "code",
      "execution_count": null,
      "metadata": {
        "id": "3hE9t-SQHSHI"
      },
      "outputs": [],
      "source": [
        "from keras.models import *\n",
        "from keras.layers import *\n",
        "from keras.optimizers import *\n",
        "from keras import backend as keras\n",
        "from keras.preprocessing.image import ImageDataGenerator\n",
        "from keras.callbacks import ModelCheckpoint, LearningRateScheduler\n",
        "\n",
        "\n",
        "def dice_coef(y_true, y_pred):\n",
        "    y_true_f = keras.flatten(y_true)\n",
        "    y_pred_f = keras.flatten(y_pred)\n",
        "    intersection = keras.sum(y_true_f * y_pred_f)\n",
        "    return (2. * intersection + 1) / (keras.sum(y_true_f) + keras.sum(y_pred_f) + 1)\n",
        "\n",
        "def dice_coef_loss(y_true, y_pred):\n",
        "    return 1 - dice_coef(y_true, y_pred)\n",
        "\n",
        "def unet(input_size=(256,256,1)):\n",
        "    inputs = Input(input_size)\n",
        "\n",
        "    conv1 = Conv2D(32, (3, 3), activation='relu', padding='same')(inputs)\n",
        "    conv1 = Conv2D(32, (3, 3), activation='relu', padding='same')(conv1)\n",
        "    pool1 = MaxPooling2D(pool_size=(2, 2))(conv1)\n",
        "\n",
        "    conv2 = Conv2D(64, (3, 3), activation='relu', padding='same')(pool1)\n",
        "    conv2 = Conv2D(64, (3, 3), activation='relu', padding='same')(conv2)\n",
        "    pool2 = MaxPooling2D(pool_size=(2, 2))(conv2)\n",
        "\n",
        "    conv3 = Conv2D(128, (3, 3), activation='relu', padding='same')(pool2)\n",
        "    conv3 = Conv2D(128, (3, 3), activation='relu', padding='same')(conv3)\n",
        "    pool3 = MaxPooling2D(pool_size=(2, 2))(conv3)\n",
        "\n",
        "    conv4 = Conv2D(256, (3, 3), activation='relu', padding='same')(pool3)\n",
        "    conv4 = Conv2D(256, (3, 3), activation='relu', padding='same')(conv4)\n",
        "    pool4 = MaxPooling2D(pool_size=(2, 2))(conv4)\n",
        "\n",
        "    conv5 = Conv2D(512, (3, 3), activation='relu', padding='same')(pool4)\n",
        "    conv5 = Conv2D(512, (3, 3), activation='relu', padding='same')(conv5)\n",
        "\n",
        "    up6 = concatenate([Conv2DTranspose(256, (2, 2), strides=(2, 2), padding='same')(conv5), conv4], axis=3)\n",
        "    conv6 = Conv2D(256, (3, 3), activation='relu', padding='same')(up6)\n",
        "    conv6 = Conv2D(256, (3, 3), activation='relu', padding='same')(conv6)\n",
        "\n",
        "    up7 = concatenate([Conv2DTranspose(128, (2, 2), strides=(2, 2), padding='same')(conv6), conv3], axis=3)\n",
        "    conv7 = Conv2D(128, (3, 3), activation='relu', padding='same')(up7)\n",
        "    conv7 = Conv2D(128, (3, 3), activation='relu', padding='same')(conv7)\n",
        "\n",
        "    up8 = concatenate([Conv2DTranspose(64, (2, 2), strides=(2, 2), padding='same')(conv7), conv2], axis=3)\n",
        "    conv8 = Conv2D(64, (3, 3), activation='relu', padding='same')(up8)\n",
        "    conv8 = Conv2D(64, (3, 3), activation='relu', padding='same')(conv8)\n",
        "\n",
        "    up9 = concatenate([Conv2DTranspose(32, (2, 2), strides=(2, 2), padding='same')(conv8), conv1], axis=3)\n",
        "    conv9 = Conv2D(32, (3, 3), activation='relu', padding='same')(up9)\n",
        "    conv9 = Conv2D(32, (3, 3), activation='relu', padding='same')(conv9)\n",
        "\n",
        "    conv10 = Conv2D(1, (1, 1), activation='sigmoid')(conv9)\n",
        "\n",
        "    return Model(inputs=[inputs], outputs=[conv10])"
      ]
    },
    {
      "cell_type": "code",
      "execution_count": null,
      "metadata": {
        "colab": {
          "base_uri": "https://localhost:8080/"
        },
        "id": "YUrA0L2dTLWr",
        "outputId": "1ade1d01-b2df-4ca7-c3c5-afd62f321d43"
      },
      "outputs": [
        {
          "name": "stdout",
          "output_type": "stream",
          "text": [
            "Model: \"model_1\"\n",
            "__________________________________________________________________________________________________\n",
            " Layer (type)                Output Shape                 Param #   Connected to                  \n",
            "==================================================================================================\n",
            " input_2 (InputLayer)        [(None, 256, 256, 1)]        0         []                            \n",
            "                                                                                                  \n",
            " conv2d_19 (Conv2D)          (None, 256, 256, 32)         320       ['input_2[0][0]']             \n",
            "                                                                                                  \n",
            " conv2d_20 (Conv2D)          (None, 256, 256, 32)         9248      ['conv2d_19[0][0]']           \n",
            "                                                                                                  \n",
            " max_pooling2d_4 (MaxPoolin  (None, 128, 128, 32)         0         ['conv2d_20[0][0]']           \n",
            " g2D)                                                                                             \n",
            "                                                                                                  \n",
            " conv2d_21 (Conv2D)          (None, 128, 128, 64)         18496     ['max_pooling2d_4[0][0]']     \n",
            "                                                                                                  \n",
            " conv2d_22 (Conv2D)          (None, 128, 128, 64)         36928     ['conv2d_21[0][0]']           \n",
            "                                                                                                  \n",
            " max_pooling2d_5 (MaxPoolin  (None, 64, 64, 64)           0         ['conv2d_22[0][0]']           \n",
            " g2D)                                                                                             \n",
            "                                                                                                  \n",
            " conv2d_23 (Conv2D)          (None, 64, 64, 128)          73856     ['max_pooling2d_5[0][0]']     \n",
            "                                                                                                  \n",
            " conv2d_24 (Conv2D)          (None, 64, 64, 128)          147584    ['conv2d_23[0][0]']           \n",
            "                                                                                                  \n",
            " max_pooling2d_6 (MaxPoolin  (None, 32, 32, 128)          0         ['conv2d_24[0][0]']           \n",
            " g2D)                                                                                             \n",
            "                                                                                                  \n",
            " conv2d_25 (Conv2D)          (None, 32, 32, 256)          295168    ['max_pooling2d_6[0][0]']     \n",
            "                                                                                                  \n",
            " conv2d_26 (Conv2D)          (None, 32, 32, 256)          590080    ['conv2d_25[0][0]']           \n",
            "                                                                                                  \n",
            " max_pooling2d_7 (MaxPoolin  (None, 16, 16, 256)          0         ['conv2d_26[0][0]']           \n",
            " g2D)                                                                                             \n",
            "                                                                                                  \n",
            " conv2d_27 (Conv2D)          (None, 16, 16, 512)          1180160   ['max_pooling2d_7[0][0]']     \n",
            "                                                                                                  \n",
            " conv2d_28 (Conv2D)          (None, 16, 16, 512)          2359808   ['conv2d_27[0][0]']           \n",
            "                                                                                                  \n",
            " conv2d_transpose_4 (Conv2D  (None, 32, 32, 256)          524544    ['conv2d_28[0][0]']           \n",
            " Transpose)                                                                                       \n",
            "                                                                                                  \n",
            " concatenate_4 (Concatenate  (None, 32, 32, 512)          0         ['conv2d_transpose_4[0][0]',  \n",
            " )                                                                   'conv2d_26[0][0]']           \n",
            "                                                                                                  \n",
            " conv2d_29 (Conv2D)          (None, 32, 32, 256)          1179904   ['concatenate_4[0][0]']       \n",
            "                                                                                                  \n",
            " conv2d_30 (Conv2D)          (None, 32, 32, 256)          590080    ['conv2d_29[0][0]']           \n",
            "                                                                                                  \n",
            " conv2d_transpose_5 (Conv2D  (None, 64, 64, 128)          131200    ['conv2d_30[0][0]']           \n",
            " Transpose)                                                                                       \n",
            "                                                                                                  \n",
            " concatenate_5 (Concatenate  (None, 64, 64, 256)          0         ['conv2d_transpose_5[0][0]',  \n",
            " )                                                                   'conv2d_24[0][0]']           \n",
            "                                                                                                  \n",
            " conv2d_31 (Conv2D)          (None, 64, 64, 128)          295040    ['concatenate_5[0][0]']       \n",
            "                                                                                                  \n",
            " conv2d_32 (Conv2D)          (None, 64, 64, 128)          147584    ['conv2d_31[0][0]']           \n",
            "                                                                                                  \n",
            " conv2d_transpose_6 (Conv2D  (None, 128, 128, 64)         32832     ['conv2d_32[0][0]']           \n",
            " Transpose)                                                                                       \n",
            "                                                                                                  \n",
            " concatenate_6 (Concatenate  (None, 128, 128, 128)        0         ['conv2d_transpose_6[0][0]',  \n",
            " )                                                                   'conv2d_22[0][0]']           \n",
            "                                                                                                  \n",
            " conv2d_33 (Conv2D)          (None, 128, 128, 64)         73792     ['concatenate_6[0][0]']       \n",
            "                                                                                                  \n",
            " conv2d_34 (Conv2D)          (None, 128, 128, 64)         36928     ['conv2d_33[0][0]']           \n",
            "                                                                                                  \n",
            " conv2d_transpose_7 (Conv2D  (None, 256, 256, 32)         8224      ['conv2d_34[0][0]']           \n",
            " Transpose)                                                                                       \n",
            "                                                                                                  \n",
            " concatenate_7 (Concatenate  (None, 256, 256, 64)         0         ['conv2d_transpose_7[0][0]',  \n",
            " )                                                                   'conv2d_20[0][0]']           \n",
            "                                                                                                  \n",
            " conv2d_35 (Conv2D)          (None, 256, 256, 32)         18464     ['concatenate_7[0][0]']       \n",
            "                                                                                                  \n",
            " conv2d_36 (Conv2D)          (None, 256, 256, 32)         9248      ['conv2d_35[0][0]']           \n",
            "                                                                                                  \n",
            " conv2d_37 (Conv2D)          (None, 256, 256, 1)          33        ['conv2d_36[0][0]']           \n",
            "                                                                                                  \n",
            "==================================================================================================\n",
            "Total params: 7759521 (29.60 MB)\n",
            "Trainable params: 7759521 (29.60 MB)\n",
            "Non-trainable params: 0 (0.00 Byte)\n",
            "__________________________________________________________________________________________________\n"
          ]
        }
      ],
      "source": [
        "model = unet((256,256,1))\n",
        "model.compile(tf.keras.optimizers.Adam(learning_rate=1e-5),\n",
        "              loss=dice_coef_loss,\n",
        "              metrics=[dice_coef,\n",
        "                       'binary_accuracy'])\n",
        "model.summary()"
      ]
    },
    {
      "cell_type": "code",
      "execution_count": null,
      "metadata": {
        "colab": {
          "base_uri": "https://localhost:8080/"
        },
        "id": "88CIKe_lkmDg",
        "outputId": "83a23c56-6f23-475f-e4e1-3f998d00c4e8"
      },
      "outputs": [
        {
          "name": "stdout",
          "output_type": "stream",
          "text": [
            "620/620 [==============================] - 66s 77ms/step - loss: -0.9247 - dice_coef: 1.9247 - binary_accuracy: 0.1533\n"
          ]
        },
        {
          "data": {
            "text/plain": [
              "<keras.src.callbacks.History at 0x7e80280f7c70>"
            ]
          },
          "execution_count": 23,
          "metadata": {},
          "output_type": "execute_result"
        }
      ],
      "source": [
        "model.fit(X_train, y_train, batch_size=4, epochs=1)"
      ]
    },
    {
      "cell_type": "code",
      "execution_count": null,
      "metadata": {
        "colab": {
          "base_uri": "https://localhost:8080/"
        },
        "id": "vNLQ0vNayDPF",
        "outputId": "057d090e-2e85-45e8-8a1d-1cf0280ffc18"
      },
      "outputs": [
        {
          "name": "stdout",
          "output_type": "stream",
          "text": [
            "\u001b[?25l     \u001b[90m━━━━━━━━━━━━━━━━━━━━━━━━━━━━━━━━━━━━━━━━\u001b[0m \u001b[32m0.0/50.7 kB\u001b[0m \u001b[31m?\u001b[0m eta \u001b[36m-:--:--\u001b[0m\r\u001b[2K     \u001b[90m━━━━━━━━━━━━━━━━━━━━━━━━━━━━━━━━━━━━━━━━\u001b[0m \u001b[32m50.7/50.7 kB\u001b[0m \u001b[31m2.9 MB/s\u001b[0m eta \u001b[36m0:00:00\u001b[0m\n",
            "\u001b[?25hSegmentation Models: using `tf.keras` framework.\n"
          ]
        }
      ],
      "source": [
        "!pip install -U -q segmentation-models\n",
        "import os\n",
        "os.environ[\"SM_FRAMEWORK\"] = \"tf.keras\"\n",
        "\n",
        "from tensorflow import keras\n",
        "import segmentation_models as sm"
      ]
    },
    {
      "cell_type": "code",
      "execution_count": null,
      "metadata": {
        "colab": {
          "base_uri": "https://localhost:8080/",
          "height": 954
        },
        "id": "9X05q5S6lUDS",
        "outputId": "767edcd1-9732-46a4-ab6b-1c92ba3b2dbf"
      },
      "outputs": [
        {
          "name": "stdout",
          "output_type": "stream",
          "text": [
            "Epoch 1/150\n",
            "300/300 [==============================] - 105s 279ms/step - loss: 0.9884 - f1-score: 0.0116 - val_loss: 0.9893 - val_f1-score: 0.0107\n",
            "Epoch 2/150\n",
            "300/300 [==============================] - 83s 274ms/step - loss: 0.9846 - f1-score: 0.0154 - val_loss: 0.9999 - val_f1-score: 1.2194e-04\n",
            "Epoch 3/150\n",
            "300/300 [==============================] - 83s 275ms/step - loss: 0.9929 - f1-score: 0.0071 - val_loss: 1.0000 - val_f1-score: 1.6184e-05\n",
            "Epoch 4/150\n",
            "300/300 [==============================] - 83s 274ms/step - loss: 0.9879 - f1-score: 0.0121 - val_loss: 1.0000 - val_f1-score: 1.3718e-05\n",
            "Epoch 5/150\n",
            "300/300 [==============================] - 82s 273ms/step - loss: 0.9977 - f1-score: 0.0023 - val_loss: 0.9999 - val_f1-score: 8.6411e-05\n",
            "Epoch 6/150\n",
            "300/300 [==============================] - 82s 273ms/step - loss: 0.9950 - f1-score: 0.0050 - val_loss: 0.9911 - val_f1-score: 0.0089\n",
            "Epoch 7/150\n",
            "300/300 [==============================] - 82s 273ms/step - loss: 0.9878 - f1-score: 0.0122 - val_loss: 1.0000 - val_f1-score: 8.5177e-06\n",
            "Epoch 8/150\n",
            "300/300 [==============================] - 82s 273ms/step - loss: 0.9907 - f1-score: 0.0093 - val_loss: 0.9916 - val_f1-score: 0.0084\n",
            "Epoch 9/150\n",
            "300/300 [==============================] - 83s 275ms/step - loss: 0.9610 - f1-score: 0.0390 - val_loss: 1.0000 - val_f1-score: 9.1524e-06\n",
            "Epoch 10/150\n",
            "300/300 [==============================] - 82s 274ms/step - loss: 0.9726 - f1-score: 0.0274 - val_loss: 0.9926 - val_f1-score: 0.0074\n",
            "Epoch 11/150\n",
            "300/300 [==============================] - 82s 273ms/step - loss: 0.9654 - f1-score: 0.0346 - val_loss: 0.9997 - val_f1-score: 2.7506e-04\n",
            "Epoch 12/150\n",
            "300/300 [==============================] - 82s 273ms/step - loss: 0.9906 - f1-score: 0.0094 - val_loss: 1.0000 - val_f1-score: 1.1529e-07\n",
            "Epoch 13/150\n",
            "300/300 [==============================] - 82s 272ms/step - loss: 1.0000 - f1-score: 8.5953e-07 - val_loss: 1.0000 - val_f1-score: 9.9636e-08\n",
            "Epoch 14/150\n",
            "300/300 [==============================] - 82s 273ms/step - loss: 1.0000 - f1-score: 9.5454e-07 - val_loss: 1.0000 - val_f1-score: 1.0729e-07\n",
            "Epoch 15/150\n",
            "104/300 [=========>....................] - ETA: 52s - loss: 1.0000 - f1-score: 1.1564e-06"
          ]
        },
        {
          "ename": "KeyboardInterrupt",
          "evalue": "ignored",
          "output_type": "error",
          "traceback": [
            "\u001b[0;31m---------------------------------------------------------------------------\u001b[0m",
            "\u001b[0;31mKeyboardInterrupt\u001b[0m                         Traceback (most recent call last)",
            "\u001b[0;32m<ipython-input-100-ef7f375bcfbe>\u001b[0m in \u001b[0;36m<cell line: 9>\u001b[0;34m()\u001b[0m\n\u001b[1;32m      7\u001b[0m \u001b[0mmodel\u001b[0m\u001b[0;34m.\u001b[0m\u001b[0mcompile\u001b[0m\u001b[0;34m(\u001b[0m\u001b[0;34m'Adam'\u001b[0m\u001b[0;34m,\u001b[0m \u001b[0mloss\u001b[0m\u001b[0;34m=\u001b[0m\u001b[0mloss\u001b[0m\u001b[0;34m,\u001b[0m \u001b[0mmetrics\u001b[0m\u001b[0;34m=\u001b[0m\u001b[0;34m[\u001b[0m\u001b[0mmetric\u001b[0m\u001b[0;34m]\u001b[0m\u001b[0;34m)\u001b[0m\u001b[0;34m\u001b[0m\u001b[0;34m\u001b[0m\u001b[0m\n\u001b[1;32m      8\u001b[0m \u001b[0;34m\u001b[0m\u001b[0m\n\u001b[0;32m----> 9\u001b[0;31m model.fit(\n\u001b[0m\u001b[1;32m     10\u001b[0m     \u001b[0mdataset_train_256\u001b[0m\u001b[0;34m,\u001b[0m\u001b[0;34m\u001b[0m\u001b[0;34m\u001b[0m\u001b[0m\n\u001b[1;32m     11\u001b[0m     \u001b[0mepochs\u001b[0m\u001b[0;34m=\u001b[0m\u001b[0;36m150\u001b[0m\u001b[0;34m,\u001b[0m\u001b[0;34m\u001b[0m\u001b[0;34m\u001b[0m\u001b[0m\n",
            "\u001b[0;32m/usr/local/lib/python3.10/dist-packages/keras/src/utils/traceback_utils.py\u001b[0m in \u001b[0;36merror_handler\u001b[0;34m(*args, **kwargs)\u001b[0m\n\u001b[1;32m     63\u001b[0m         \u001b[0mfiltered_tb\u001b[0m \u001b[0;34m=\u001b[0m \u001b[0;32mNone\u001b[0m\u001b[0;34m\u001b[0m\u001b[0;34m\u001b[0m\u001b[0m\n\u001b[1;32m     64\u001b[0m         \u001b[0;32mtry\u001b[0m\u001b[0;34m:\u001b[0m\u001b[0;34m\u001b[0m\u001b[0;34m\u001b[0m\u001b[0m\n\u001b[0;32m---> 65\u001b[0;31m             \u001b[0;32mreturn\u001b[0m \u001b[0mfn\u001b[0m\u001b[0;34m(\u001b[0m\u001b[0;34m*\u001b[0m\u001b[0margs\u001b[0m\u001b[0;34m,\u001b[0m \u001b[0;34m**\u001b[0m\u001b[0mkwargs\u001b[0m\u001b[0;34m)\u001b[0m\u001b[0;34m\u001b[0m\u001b[0;34m\u001b[0m\u001b[0m\n\u001b[0m\u001b[1;32m     66\u001b[0m         \u001b[0;32mexcept\u001b[0m \u001b[0mException\u001b[0m \u001b[0;32mas\u001b[0m \u001b[0me\u001b[0m\u001b[0;34m:\u001b[0m\u001b[0;34m\u001b[0m\u001b[0;34m\u001b[0m\u001b[0m\n\u001b[1;32m     67\u001b[0m             \u001b[0mfiltered_tb\u001b[0m \u001b[0;34m=\u001b[0m \u001b[0m_process_traceback_frames\u001b[0m\u001b[0;34m(\u001b[0m\u001b[0me\u001b[0m\u001b[0;34m.\u001b[0m\u001b[0m__traceback__\u001b[0m\u001b[0;34m)\u001b[0m\u001b[0;34m\u001b[0m\u001b[0;34m\u001b[0m\u001b[0m\n",
            "\u001b[0;32m/usr/local/lib/python3.10/dist-packages/keras/src/engine/training.py\u001b[0m in \u001b[0;36mfit\u001b[0;34m(self, x, y, batch_size, epochs, verbose, callbacks, validation_split, validation_data, shuffle, class_weight, sample_weight, initial_epoch, steps_per_epoch, validation_steps, validation_batch_size, validation_freq, max_queue_size, workers, use_multiprocessing)\u001b[0m\n\u001b[1;32m   1811\u001b[0m                             \u001b[0mlogs\u001b[0m \u001b[0;34m=\u001b[0m \u001b[0mtmp_logs\u001b[0m\u001b[0;34m\u001b[0m\u001b[0;34m\u001b[0m\u001b[0m\n\u001b[1;32m   1812\u001b[0m                             \u001b[0mend_step\u001b[0m \u001b[0;34m=\u001b[0m \u001b[0mstep\u001b[0m \u001b[0;34m+\u001b[0m \u001b[0mdata_handler\u001b[0m\u001b[0;34m.\u001b[0m\u001b[0mstep_increment\u001b[0m\u001b[0;34m\u001b[0m\u001b[0;34m\u001b[0m\u001b[0m\n\u001b[0;32m-> 1813\u001b[0;31m                             \u001b[0mcallbacks\u001b[0m\u001b[0;34m.\u001b[0m\u001b[0mon_train_batch_end\u001b[0m\u001b[0;34m(\u001b[0m\u001b[0mend_step\u001b[0m\u001b[0;34m,\u001b[0m \u001b[0mlogs\u001b[0m\u001b[0;34m)\u001b[0m\u001b[0;34m\u001b[0m\u001b[0;34m\u001b[0m\u001b[0m\n\u001b[0m\u001b[1;32m   1814\u001b[0m                             \u001b[0;32mif\u001b[0m \u001b[0mself\u001b[0m\u001b[0;34m.\u001b[0m\u001b[0mstop_training\u001b[0m\u001b[0;34m:\u001b[0m\u001b[0;34m\u001b[0m\u001b[0;34m\u001b[0m\u001b[0m\n\u001b[1;32m   1815\u001b[0m                                 \u001b[0;32mbreak\u001b[0m\u001b[0;34m\u001b[0m\u001b[0;34m\u001b[0m\u001b[0m\n",
            "\u001b[0;32m/usr/local/lib/python3.10/dist-packages/keras/src/callbacks.py\u001b[0m in \u001b[0;36mon_train_batch_end\u001b[0;34m(self, batch, logs)\u001b[0m\n\u001b[1;32m    473\u001b[0m         \"\"\"\n\u001b[1;32m    474\u001b[0m         \u001b[0;32mif\u001b[0m \u001b[0mself\u001b[0m\u001b[0;34m.\u001b[0m\u001b[0m_should_call_train_batch_hooks\u001b[0m\u001b[0;34m:\u001b[0m\u001b[0;34m\u001b[0m\u001b[0;34m\u001b[0m\u001b[0m\n\u001b[0;32m--> 475\u001b[0;31m             \u001b[0mself\u001b[0m\u001b[0;34m.\u001b[0m\u001b[0m_call_batch_hook\u001b[0m\u001b[0;34m(\u001b[0m\u001b[0mModeKeys\u001b[0m\u001b[0;34m.\u001b[0m\u001b[0mTRAIN\u001b[0m\u001b[0;34m,\u001b[0m \u001b[0;34m\"end\"\u001b[0m\u001b[0;34m,\u001b[0m \u001b[0mbatch\u001b[0m\u001b[0;34m,\u001b[0m \u001b[0mlogs\u001b[0m\u001b[0;34m=\u001b[0m\u001b[0mlogs\u001b[0m\u001b[0;34m)\u001b[0m\u001b[0;34m\u001b[0m\u001b[0;34m\u001b[0m\u001b[0m\n\u001b[0m\u001b[1;32m    476\u001b[0m \u001b[0;34m\u001b[0m\u001b[0m\n\u001b[1;32m    477\u001b[0m     \u001b[0;32mdef\u001b[0m \u001b[0mon_test_batch_begin\u001b[0m\u001b[0;34m(\u001b[0m\u001b[0mself\u001b[0m\u001b[0;34m,\u001b[0m \u001b[0mbatch\u001b[0m\u001b[0;34m,\u001b[0m \u001b[0mlogs\u001b[0m\u001b[0;34m=\u001b[0m\u001b[0;32mNone\u001b[0m\u001b[0;34m)\u001b[0m\u001b[0;34m:\u001b[0m\u001b[0;34m\u001b[0m\u001b[0;34m\u001b[0m\u001b[0m\n",
            "\u001b[0;32m/usr/local/lib/python3.10/dist-packages/keras/src/callbacks.py\u001b[0m in \u001b[0;36m_call_batch_hook\u001b[0;34m(self, mode, hook, batch, logs)\u001b[0m\n\u001b[1;32m    320\u001b[0m             \u001b[0mself\u001b[0m\u001b[0;34m.\u001b[0m\u001b[0m_call_batch_begin_hook\u001b[0m\u001b[0;34m(\u001b[0m\u001b[0mmode\u001b[0m\u001b[0;34m,\u001b[0m \u001b[0mbatch\u001b[0m\u001b[0;34m,\u001b[0m \u001b[0mlogs\u001b[0m\u001b[0;34m)\u001b[0m\u001b[0;34m\u001b[0m\u001b[0;34m\u001b[0m\u001b[0m\n\u001b[1;32m    321\u001b[0m         \u001b[0;32melif\u001b[0m \u001b[0mhook\u001b[0m \u001b[0;34m==\u001b[0m \u001b[0;34m\"end\"\u001b[0m\u001b[0;34m:\u001b[0m\u001b[0;34m\u001b[0m\u001b[0;34m\u001b[0m\u001b[0m\n\u001b[0;32m--> 322\u001b[0;31m             \u001b[0mself\u001b[0m\u001b[0;34m.\u001b[0m\u001b[0m_call_batch_end_hook\u001b[0m\u001b[0;34m(\u001b[0m\u001b[0mmode\u001b[0m\u001b[0;34m,\u001b[0m \u001b[0mbatch\u001b[0m\u001b[0;34m,\u001b[0m \u001b[0mlogs\u001b[0m\u001b[0;34m)\u001b[0m\u001b[0;34m\u001b[0m\u001b[0;34m\u001b[0m\u001b[0m\n\u001b[0m\u001b[1;32m    323\u001b[0m         \u001b[0;32melse\u001b[0m\u001b[0;34m:\u001b[0m\u001b[0;34m\u001b[0m\u001b[0;34m\u001b[0m\u001b[0m\n\u001b[1;32m    324\u001b[0m             raise ValueError(\n",
            "\u001b[0;32m/usr/local/lib/python3.10/dist-packages/keras/src/callbacks.py\u001b[0m in \u001b[0;36m_call_batch_end_hook\u001b[0;34m(self, mode, batch, logs)\u001b[0m\n\u001b[1;32m    343\u001b[0m             \u001b[0mself\u001b[0m\u001b[0;34m.\u001b[0m\u001b[0m_batch_times\u001b[0m\u001b[0;34m.\u001b[0m\u001b[0mappend\u001b[0m\u001b[0;34m(\u001b[0m\u001b[0mbatch_time\u001b[0m\u001b[0;34m)\u001b[0m\u001b[0;34m\u001b[0m\u001b[0;34m\u001b[0m\u001b[0m\n\u001b[1;32m    344\u001b[0m \u001b[0;34m\u001b[0m\u001b[0m\n\u001b[0;32m--> 345\u001b[0;31m         \u001b[0mself\u001b[0m\u001b[0;34m.\u001b[0m\u001b[0m_call_batch_hook_helper\u001b[0m\u001b[0;34m(\u001b[0m\u001b[0mhook_name\u001b[0m\u001b[0;34m,\u001b[0m \u001b[0mbatch\u001b[0m\u001b[0;34m,\u001b[0m \u001b[0mlogs\u001b[0m\u001b[0;34m)\u001b[0m\u001b[0;34m\u001b[0m\u001b[0;34m\u001b[0m\u001b[0m\n\u001b[0m\u001b[1;32m    346\u001b[0m \u001b[0;34m\u001b[0m\u001b[0m\n\u001b[1;32m    347\u001b[0m         \u001b[0;32mif\u001b[0m \u001b[0mlen\u001b[0m\u001b[0;34m(\u001b[0m\u001b[0mself\u001b[0m\u001b[0;34m.\u001b[0m\u001b[0m_batch_times\u001b[0m\u001b[0;34m)\u001b[0m \u001b[0;34m>=\u001b[0m \u001b[0mself\u001b[0m\u001b[0;34m.\u001b[0m\u001b[0m_num_batches_for_timing_check\u001b[0m\u001b[0;34m:\u001b[0m\u001b[0;34m\u001b[0m\u001b[0;34m\u001b[0m\u001b[0m\n",
            "\u001b[0;32m/usr/local/lib/python3.10/dist-packages/keras/src/callbacks.py\u001b[0m in \u001b[0;36m_call_batch_hook_helper\u001b[0;34m(self, hook_name, batch, logs)\u001b[0m\n\u001b[1;32m    391\u001b[0m         \u001b[0;32mfor\u001b[0m \u001b[0mcallback\u001b[0m \u001b[0;32min\u001b[0m \u001b[0mself\u001b[0m\u001b[0;34m.\u001b[0m\u001b[0mcallbacks\u001b[0m\u001b[0;34m:\u001b[0m\u001b[0;34m\u001b[0m\u001b[0;34m\u001b[0m\u001b[0m\n\u001b[1;32m    392\u001b[0m             \u001b[0mhook\u001b[0m \u001b[0;34m=\u001b[0m \u001b[0mgetattr\u001b[0m\u001b[0;34m(\u001b[0m\u001b[0mcallback\u001b[0m\u001b[0;34m,\u001b[0m \u001b[0mhook_name\u001b[0m\u001b[0;34m)\u001b[0m\u001b[0;34m\u001b[0m\u001b[0;34m\u001b[0m\u001b[0m\n\u001b[0;32m--> 393\u001b[0;31m             \u001b[0mhook\u001b[0m\u001b[0;34m(\u001b[0m\u001b[0mbatch\u001b[0m\u001b[0;34m,\u001b[0m \u001b[0mlogs\u001b[0m\u001b[0;34m)\u001b[0m\u001b[0;34m\u001b[0m\u001b[0;34m\u001b[0m\u001b[0m\n\u001b[0m\u001b[1;32m    394\u001b[0m \u001b[0;34m\u001b[0m\u001b[0m\n\u001b[1;32m    395\u001b[0m         \u001b[0;32mif\u001b[0m \u001b[0mself\u001b[0m\u001b[0;34m.\u001b[0m\u001b[0m_check_timing\u001b[0m\u001b[0;34m:\u001b[0m\u001b[0;34m\u001b[0m\u001b[0;34m\u001b[0m\u001b[0m\n",
            "\u001b[0;32m/usr/local/lib/python3.10/dist-packages/keras/src/callbacks.py\u001b[0m in \u001b[0;36mon_train_batch_end\u001b[0;34m(self, batch, logs)\u001b[0m\n\u001b[1;32m   1091\u001b[0m \u001b[0;34m\u001b[0m\u001b[0m\n\u001b[1;32m   1092\u001b[0m     \u001b[0;32mdef\u001b[0m \u001b[0mon_train_batch_end\u001b[0m\u001b[0;34m(\u001b[0m\u001b[0mself\u001b[0m\u001b[0;34m,\u001b[0m \u001b[0mbatch\u001b[0m\u001b[0;34m,\u001b[0m \u001b[0mlogs\u001b[0m\u001b[0;34m=\u001b[0m\u001b[0;32mNone\u001b[0m\u001b[0;34m)\u001b[0m\u001b[0;34m:\u001b[0m\u001b[0;34m\u001b[0m\u001b[0;34m\u001b[0m\u001b[0m\n\u001b[0;32m-> 1093\u001b[0;31m         \u001b[0mself\u001b[0m\u001b[0;34m.\u001b[0m\u001b[0m_batch_update_progbar\u001b[0m\u001b[0;34m(\u001b[0m\u001b[0mbatch\u001b[0m\u001b[0;34m,\u001b[0m \u001b[0mlogs\u001b[0m\u001b[0;34m)\u001b[0m\u001b[0;34m\u001b[0m\u001b[0;34m\u001b[0m\u001b[0m\n\u001b[0m\u001b[1;32m   1094\u001b[0m \u001b[0;34m\u001b[0m\u001b[0m\n\u001b[1;32m   1095\u001b[0m     \u001b[0;32mdef\u001b[0m \u001b[0mon_test_batch_end\u001b[0m\u001b[0;34m(\u001b[0m\u001b[0mself\u001b[0m\u001b[0;34m,\u001b[0m \u001b[0mbatch\u001b[0m\u001b[0;34m,\u001b[0m \u001b[0mlogs\u001b[0m\u001b[0;34m=\u001b[0m\u001b[0;32mNone\u001b[0m\u001b[0;34m)\u001b[0m\u001b[0;34m:\u001b[0m\u001b[0;34m\u001b[0m\u001b[0;34m\u001b[0m\u001b[0m\n",
            "\u001b[0;32m/usr/local/lib/python3.10/dist-packages/keras/src/callbacks.py\u001b[0m in \u001b[0;36m_batch_update_progbar\u001b[0;34m(self, batch, logs)\u001b[0m\n\u001b[1;32m   1167\u001b[0m         \u001b[0;32mif\u001b[0m \u001b[0mself\u001b[0m\u001b[0;34m.\u001b[0m\u001b[0mverbose\u001b[0m \u001b[0;34m==\u001b[0m \u001b[0;36m1\u001b[0m\u001b[0;34m:\u001b[0m\u001b[0;34m\u001b[0m\u001b[0;34m\u001b[0m\u001b[0m\n\u001b[1;32m   1168\u001b[0m             \u001b[0;31m# Only block async when verbose = 1.\u001b[0m\u001b[0;34m\u001b[0m\u001b[0;34m\u001b[0m\u001b[0m\n\u001b[0;32m-> 1169\u001b[0;31m             \u001b[0mlogs\u001b[0m \u001b[0;34m=\u001b[0m \u001b[0mtf_utils\u001b[0m\u001b[0;34m.\u001b[0m\u001b[0msync_to_numpy_or_python_type\u001b[0m\u001b[0;34m(\u001b[0m\u001b[0mlogs\u001b[0m\u001b[0;34m)\u001b[0m\u001b[0;34m\u001b[0m\u001b[0;34m\u001b[0m\u001b[0m\n\u001b[0m\u001b[1;32m   1170\u001b[0m             \u001b[0mself\u001b[0m\u001b[0;34m.\u001b[0m\u001b[0mprogbar\u001b[0m\u001b[0;34m.\u001b[0m\u001b[0mupdate\u001b[0m\u001b[0;34m(\u001b[0m\u001b[0mself\u001b[0m\u001b[0;34m.\u001b[0m\u001b[0mseen\u001b[0m\u001b[0;34m,\u001b[0m \u001b[0mlist\u001b[0m\u001b[0;34m(\u001b[0m\u001b[0mlogs\u001b[0m\u001b[0;34m.\u001b[0m\u001b[0mitems\u001b[0m\u001b[0;34m(\u001b[0m\u001b[0;34m)\u001b[0m\u001b[0;34m)\u001b[0m\u001b[0;34m,\u001b[0m \u001b[0mfinalize\u001b[0m\u001b[0;34m=\u001b[0m\u001b[0;32mFalse\u001b[0m\u001b[0;34m)\u001b[0m\u001b[0;34m\u001b[0m\u001b[0;34m\u001b[0m\u001b[0m\n\u001b[1;32m   1171\u001b[0m \u001b[0;34m\u001b[0m\u001b[0m\n",
            "\u001b[0;32m/usr/local/lib/python3.10/dist-packages/keras/src/utils/tf_utils.py\u001b[0m in \u001b[0;36msync_to_numpy_or_python_type\u001b[0;34m(tensors)\u001b[0m\n\u001b[1;32m    692\u001b[0m         \u001b[0;32mreturn\u001b[0m \u001b[0mt\u001b[0m\u001b[0;34m.\u001b[0m\u001b[0mitem\u001b[0m\u001b[0;34m(\u001b[0m\u001b[0;34m)\u001b[0m \u001b[0;32mif\u001b[0m \u001b[0mnp\u001b[0m\u001b[0;34m.\u001b[0m\u001b[0mndim\u001b[0m\u001b[0;34m(\u001b[0m\u001b[0mt\u001b[0m\u001b[0;34m)\u001b[0m \u001b[0;34m==\u001b[0m \u001b[0;36m0\u001b[0m \u001b[0;32melse\u001b[0m \u001b[0mt\u001b[0m\u001b[0;34m\u001b[0m\u001b[0;34m\u001b[0m\u001b[0m\n\u001b[1;32m    693\u001b[0m \u001b[0;34m\u001b[0m\u001b[0m\n\u001b[0;32m--> 694\u001b[0;31m     \u001b[0;32mreturn\u001b[0m \u001b[0mtf\u001b[0m\u001b[0;34m.\u001b[0m\u001b[0mnest\u001b[0m\u001b[0;34m.\u001b[0m\u001b[0mmap_structure\u001b[0m\u001b[0;34m(\u001b[0m\u001b[0m_to_single_numpy_or_python_type\u001b[0m\u001b[0;34m,\u001b[0m \u001b[0mtensors\u001b[0m\u001b[0;34m)\u001b[0m\u001b[0;34m\u001b[0m\u001b[0;34m\u001b[0m\u001b[0m\n\u001b[0m\u001b[1;32m    695\u001b[0m \u001b[0;34m\u001b[0m\u001b[0m\n\u001b[1;32m    696\u001b[0m \u001b[0;34m\u001b[0m\u001b[0m\n",
            "\u001b[0;32m/usr/local/lib/python3.10/dist-packages/tensorflow/python/util/nest.py\u001b[0m in \u001b[0;36mmap_structure\u001b[0;34m(func, *structure, **kwargs)\u001b[0m\n\u001b[1;32m    629\u001b[0m     \u001b[0mValueError\u001b[0m\u001b[0;34m:\u001b[0m \u001b[0mIf\u001b[0m \u001b[0mwrong\u001b[0m \u001b[0mkeyword\u001b[0m \u001b[0marguments\u001b[0m \u001b[0mare\u001b[0m \u001b[0mprovided\u001b[0m\u001b[0;34m.\u001b[0m\u001b[0;34m\u001b[0m\u001b[0;34m\u001b[0m\u001b[0m\n\u001b[1;32m    630\u001b[0m   \"\"\"\n\u001b[0;32m--> 631\u001b[0;31m   return nest_util.map_structure(\n\u001b[0m\u001b[1;32m    632\u001b[0m       \u001b[0mnest_util\u001b[0m\u001b[0;34m.\u001b[0m\u001b[0mModality\u001b[0m\u001b[0;34m.\u001b[0m\u001b[0mCORE\u001b[0m\u001b[0;34m,\u001b[0m \u001b[0mfunc\u001b[0m\u001b[0;34m,\u001b[0m \u001b[0;34m*\u001b[0m\u001b[0mstructure\u001b[0m\u001b[0;34m,\u001b[0m \u001b[0;34m**\u001b[0m\u001b[0mkwargs\u001b[0m\u001b[0;34m\u001b[0m\u001b[0;34m\u001b[0m\u001b[0m\n\u001b[1;32m    633\u001b[0m   )\n",
            "\u001b[0;32m/usr/local/lib/python3.10/dist-packages/tensorflow/python/util/nest_util.py\u001b[0m in \u001b[0;36mmap_structure\u001b[0;34m(modality, func, *structure, **kwargs)\u001b[0m\n\u001b[1;32m   1064\u001b[0m   \"\"\"\n\u001b[1;32m   1065\u001b[0m   \u001b[0;32mif\u001b[0m \u001b[0mmodality\u001b[0m \u001b[0;34m==\u001b[0m \u001b[0mModality\u001b[0m\u001b[0;34m.\u001b[0m\u001b[0mCORE\u001b[0m\u001b[0;34m:\u001b[0m\u001b[0;34m\u001b[0m\u001b[0;34m\u001b[0m\u001b[0m\n\u001b[0;32m-> 1066\u001b[0;31m     \u001b[0;32mreturn\u001b[0m \u001b[0m_tf_core_map_structure\u001b[0m\u001b[0;34m(\u001b[0m\u001b[0mfunc\u001b[0m\u001b[0;34m,\u001b[0m \u001b[0;34m*\u001b[0m\u001b[0mstructure\u001b[0m\u001b[0;34m,\u001b[0m \u001b[0;34m**\u001b[0m\u001b[0mkwargs\u001b[0m\u001b[0;34m)\u001b[0m\u001b[0;34m\u001b[0m\u001b[0;34m\u001b[0m\u001b[0m\n\u001b[0m\u001b[1;32m   1067\u001b[0m   \u001b[0;32melif\u001b[0m \u001b[0mmodality\u001b[0m \u001b[0;34m==\u001b[0m \u001b[0mModality\u001b[0m\u001b[0;34m.\u001b[0m\u001b[0mDATA\u001b[0m\u001b[0;34m:\u001b[0m\u001b[0;34m\u001b[0m\u001b[0;34m\u001b[0m\u001b[0m\n\u001b[1;32m   1068\u001b[0m     \u001b[0;32mreturn\u001b[0m \u001b[0m_tf_data_map_structure\u001b[0m\u001b[0;34m(\u001b[0m\u001b[0mfunc\u001b[0m\u001b[0;34m,\u001b[0m \u001b[0;34m*\u001b[0m\u001b[0mstructure\u001b[0m\u001b[0;34m,\u001b[0m \u001b[0;34m**\u001b[0m\u001b[0mkwargs\u001b[0m\u001b[0;34m)\u001b[0m\u001b[0;34m\u001b[0m\u001b[0;34m\u001b[0m\u001b[0m\n",
            "\u001b[0;32m/usr/local/lib/python3.10/dist-packages/tensorflow/python/util/nest_util.py\u001b[0m in \u001b[0;36m_tf_core_map_structure\u001b[0;34m(func, *structure, **kwargs)\u001b[0m\n\u001b[1;32m   1104\u001b[0m   return _tf_core_pack_sequence_as(\n\u001b[1;32m   1105\u001b[0m       \u001b[0mstructure\u001b[0m\u001b[0;34m[\u001b[0m\u001b[0;36m0\u001b[0m\u001b[0;34m]\u001b[0m\u001b[0;34m,\u001b[0m\u001b[0;34m\u001b[0m\u001b[0;34m\u001b[0m\u001b[0m\n\u001b[0;32m-> 1106\u001b[0;31m       \u001b[0;34m[\u001b[0m\u001b[0mfunc\u001b[0m\u001b[0;34m(\u001b[0m\u001b[0;34m*\u001b[0m\u001b[0mx\u001b[0m\u001b[0;34m)\u001b[0m \u001b[0;32mfor\u001b[0m \u001b[0mx\u001b[0m \u001b[0;32min\u001b[0m \u001b[0mentries\u001b[0m\u001b[0;34m]\u001b[0m\u001b[0;34m,\u001b[0m\u001b[0;34m\u001b[0m\u001b[0;34m\u001b[0m\u001b[0m\n\u001b[0m\u001b[1;32m   1107\u001b[0m       \u001b[0mexpand_composites\u001b[0m\u001b[0;34m=\u001b[0m\u001b[0mexpand_composites\u001b[0m\u001b[0;34m,\u001b[0m\u001b[0;34m\u001b[0m\u001b[0;34m\u001b[0m\u001b[0m\n\u001b[1;32m   1108\u001b[0m   )\n",
            "\u001b[0;32m/usr/local/lib/python3.10/dist-packages/tensorflow/python/util/nest_util.py\u001b[0m in \u001b[0;36m<listcomp>\u001b[0;34m(.0)\u001b[0m\n\u001b[1;32m   1104\u001b[0m   return _tf_core_pack_sequence_as(\n\u001b[1;32m   1105\u001b[0m       \u001b[0mstructure\u001b[0m\u001b[0;34m[\u001b[0m\u001b[0;36m0\u001b[0m\u001b[0;34m]\u001b[0m\u001b[0;34m,\u001b[0m\u001b[0;34m\u001b[0m\u001b[0;34m\u001b[0m\u001b[0m\n\u001b[0;32m-> 1106\u001b[0;31m       \u001b[0;34m[\u001b[0m\u001b[0mfunc\u001b[0m\u001b[0;34m(\u001b[0m\u001b[0;34m*\u001b[0m\u001b[0mx\u001b[0m\u001b[0;34m)\u001b[0m \u001b[0;32mfor\u001b[0m \u001b[0mx\u001b[0m \u001b[0;32min\u001b[0m \u001b[0mentries\u001b[0m\u001b[0;34m]\u001b[0m\u001b[0;34m,\u001b[0m\u001b[0;34m\u001b[0m\u001b[0;34m\u001b[0m\u001b[0m\n\u001b[0m\u001b[1;32m   1107\u001b[0m       \u001b[0mexpand_composites\u001b[0m\u001b[0;34m=\u001b[0m\u001b[0mexpand_composites\u001b[0m\u001b[0;34m,\u001b[0m\u001b[0;34m\u001b[0m\u001b[0;34m\u001b[0m\u001b[0m\n\u001b[1;32m   1108\u001b[0m   )\n",
            "\u001b[0;32m/usr/local/lib/python3.10/dist-packages/keras/src/utils/tf_utils.py\u001b[0m in \u001b[0;36m_to_single_numpy_or_python_type\u001b[0;34m(t)\u001b[0m\n\u001b[1;32m    685\u001b[0m         \u001b[0;31m# Don't turn ragged or sparse tensors to NumPy.\u001b[0m\u001b[0;34m\u001b[0m\u001b[0;34m\u001b[0m\u001b[0m\n\u001b[1;32m    686\u001b[0m         \u001b[0;32mif\u001b[0m \u001b[0misinstance\u001b[0m\u001b[0;34m(\u001b[0m\u001b[0mt\u001b[0m\u001b[0;34m,\u001b[0m \u001b[0mtf\u001b[0m\u001b[0;34m.\u001b[0m\u001b[0mTensor\u001b[0m\u001b[0;34m)\u001b[0m\u001b[0;34m:\u001b[0m\u001b[0;34m\u001b[0m\u001b[0;34m\u001b[0m\u001b[0m\n\u001b[0;32m--> 687\u001b[0;31m             \u001b[0mt\u001b[0m \u001b[0;34m=\u001b[0m \u001b[0mt\u001b[0m\u001b[0;34m.\u001b[0m\u001b[0mnumpy\u001b[0m\u001b[0;34m(\u001b[0m\u001b[0;34m)\u001b[0m\u001b[0;34m\u001b[0m\u001b[0;34m\u001b[0m\u001b[0m\n\u001b[0m\u001b[1;32m    688\u001b[0m         \u001b[0;31m# Strings, ragged and sparse tensors don't have .item(). Return them\u001b[0m\u001b[0;34m\u001b[0m\u001b[0;34m\u001b[0m\u001b[0m\n\u001b[1;32m    689\u001b[0m         \u001b[0;31m# as-is.\u001b[0m\u001b[0;34m\u001b[0m\u001b[0;34m\u001b[0m\u001b[0m\n",
            "\u001b[0;32m/usr/local/lib/python3.10/dist-packages/tensorflow/python/framework/ops.py\u001b[0m in \u001b[0;36mnumpy\u001b[0;34m(self)\u001b[0m\n\u001b[1;32m    392\u001b[0m     \"\"\"\n\u001b[1;32m    393\u001b[0m     \u001b[0;31m# TODO(slebedev): Consider avoiding a copy for non-CPU or remote tensors.\u001b[0m\u001b[0;34m\u001b[0m\u001b[0;34m\u001b[0m\u001b[0m\n\u001b[0;32m--> 394\u001b[0;31m     \u001b[0mmaybe_arr\u001b[0m \u001b[0;34m=\u001b[0m \u001b[0mself\u001b[0m\u001b[0;34m.\u001b[0m\u001b[0m_numpy\u001b[0m\u001b[0;34m(\u001b[0m\u001b[0;34m)\u001b[0m  \u001b[0;31m# pylint: disable=protected-access\u001b[0m\u001b[0;34m\u001b[0m\u001b[0;34m\u001b[0m\u001b[0m\n\u001b[0m\u001b[1;32m    395\u001b[0m     \u001b[0;32mreturn\u001b[0m \u001b[0mmaybe_arr\u001b[0m\u001b[0;34m.\u001b[0m\u001b[0mcopy\u001b[0m\u001b[0;34m(\u001b[0m\u001b[0;34m)\u001b[0m \u001b[0;32mif\u001b[0m \u001b[0misinstance\u001b[0m\u001b[0;34m(\u001b[0m\u001b[0mmaybe_arr\u001b[0m\u001b[0;34m,\u001b[0m \u001b[0mnp\u001b[0m\u001b[0;34m.\u001b[0m\u001b[0mndarray\u001b[0m\u001b[0;34m)\u001b[0m \u001b[0;32melse\u001b[0m \u001b[0mmaybe_arr\u001b[0m\u001b[0;34m\u001b[0m\u001b[0;34m\u001b[0m\u001b[0m\n\u001b[1;32m    396\u001b[0m \u001b[0;34m\u001b[0m\u001b[0m\n",
            "\u001b[0;32m/usr/local/lib/python3.10/dist-packages/tensorflow/python/framework/ops.py\u001b[0m in \u001b[0;36m_numpy\u001b[0;34m(self)\u001b[0m\n\u001b[1;32m    358\u001b[0m   \u001b[0;32mdef\u001b[0m \u001b[0m_numpy\u001b[0m\u001b[0;34m(\u001b[0m\u001b[0mself\u001b[0m\u001b[0;34m)\u001b[0m\u001b[0;34m:\u001b[0m\u001b[0;34m\u001b[0m\u001b[0;34m\u001b[0m\u001b[0m\n\u001b[1;32m    359\u001b[0m     \u001b[0;32mtry\u001b[0m\u001b[0;34m:\u001b[0m\u001b[0;34m\u001b[0m\u001b[0;34m\u001b[0m\u001b[0m\n\u001b[0;32m--> 360\u001b[0;31m       \u001b[0;32mreturn\u001b[0m \u001b[0mself\u001b[0m\u001b[0;34m.\u001b[0m\u001b[0m_numpy_internal\u001b[0m\u001b[0;34m(\u001b[0m\u001b[0;34m)\u001b[0m\u001b[0;34m\u001b[0m\u001b[0;34m\u001b[0m\u001b[0m\n\u001b[0m\u001b[1;32m    361\u001b[0m     \u001b[0;32mexcept\u001b[0m \u001b[0mcore\u001b[0m\u001b[0;34m.\u001b[0m\u001b[0m_NotOkStatusException\u001b[0m \u001b[0;32mas\u001b[0m \u001b[0me\u001b[0m\u001b[0;34m:\u001b[0m  \u001b[0;31m# pylint: disable=protected-access\u001b[0m\u001b[0;34m\u001b[0m\u001b[0;34m\u001b[0m\u001b[0m\n\u001b[1;32m    362\u001b[0m       \u001b[0;32mraise\u001b[0m \u001b[0mcore\u001b[0m\u001b[0;34m.\u001b[0m\u001b[0m_status_to_exception\u001b[0m\u001b[0;34m(\u001b[0m\u001b[0me\u001b[0m\u001b[0;34m)\u001b[0m \u001b[0;32mfrom\u001b[0m \u001b[0;32mNone\u001b[0m  \u001b[0;31m# pylint: disable=protected-access\u001b[0m\u001b[0;34m\u001b[0m\u001b[0;34m\u001b[0m\u001b[0m\n",
            "\u001b[0;31mKeyboardInterrupt\u001b[0m: "
          ]
        }
      ],
      "source": [
        "model = sm.Unet('vgg19', input_shape=(256,256,1), encoder_weights=None, decoder_block_type='transpose')\n",
        "\n",
        "#model.compile('Adam', loss=sm.losses.bce_jaccard_loss, metrics=[sm.metrics.iou_score])\n",
        "\n",
        "loss = sm.losses.DiceLoss()\n",
        "metric = sm.metrics.FScore()\n",
        "model.compile('Adam', loss=loss, metrics=[metric])\n",
        "\n",
        "model.fit(\n",
        "    dataset_train_256,\n",
        "    epochs=150,\n",
        "    validation_data=(dataset_test_256),\n",
        ")"
      ]
    },
    {
      "cell_type": "code",
      "execution_count": null,
      "metadata": {
        "colab": {
          "base_uri": "https://localhost:8080/"
        },
        "id": "jHV-jiuHloLT",
        "outputId": "532c5071-1640-404a-d3d5-5329237a792b"
      },
      "outputs": [
        {
          "name": "stdout",
          "output_type": "stream",
          "text": [
            "12/12 [==============================] - 25s 1s/step\n"
          ]
        }
      ],
      "source": [
        "preds = model.predict(X_test)"
      ]
    },
    {
      "cell_type": "code",
      "execution_count": null,
      "metadata": {
        "colab": {
          "base_uri": "https://localhost:8080/",
          "height": 453
        },
        "id": "Erzt8sajXftX",
        "outputId": "b0b2ca09-02ce-428b-ca85-c2b80be3f837"
      },
      "outputs": [
        {
          "data": {
            "text/plain": [
              "<matplotlib.image.AxesImage at 0x7a1784214c10>"
            ]
          },
          "execution_count": 53,
          "metadata": {},
          "output_type": "execute_result"
        },
        {
          "data": {
            "image/png": "[encoded data removed]",
            "text/plain": [
              "<Figure size 640x480 with 1 Axes>"
            ]
          },
          "metadata": {},
          "output_type": "display_data"
        }
      ],
      "source": [
        "plt.imshow(y_test[2])"
      ]
    },
    {
      "cell_type": "code",
      "execution_count": null,
      "metadata": {
        "colab": {
          "base_uri": "https://localhost:8080/",
          "height": 453
        },
        "id": "Xla5C_63XmxY",
        "outputId": "a0a3662d-86eb-47df-de41-b5b956eaa1be"
      },
      "outputs": [
        {
          "data": {
            "text/plain": [
              "<matplotlib.image.AxesImage at 0x7a178403f880>"
            ]
          },
          "execution_count": 58,
          "metadata": {},
          "output_type": "execute_result"
        },
        {
          "data": {
            "image/png": "[encoded data removed]",
            "text/plain": [
              "<Figure size 640x480 with 1 Axes>"
            ]
          },
          "metadata": {},
          "output_type": "display_data"
        }
      ],
      "source": [
        "plt.imshow(X_test[9])"
      ]
    },
    {
      "cell_type": "code",
      "execution_count": null,
      "metadata": {
        "colab": {
          "base_uri": "https://localhost:8080/",
          "height": 453
        },
        "id": "sGk3tiVRXt0H",
        "outputId": "261d8439-6ce4-42c1-d801-497eb976d9ef"
      },
      "outputs": [
        {
          "data": {
            "text/plain": [
              "<matplotlib.image.AxesImage at 0x7a17842f6830>"
            ]
          },
          "execution_count": 55,
          "metadata": {},
          "output_type": "execute_result"
        },
        {
          "data": {
            "image/png": "[encoded data removed]",
            "text/plain": [
              "<Figure size 640x480 with 1 Axes>"
            ]
          },
          "metadata": {},
          "output_type": "display_data"
        }
      ],
      "source": [
        "plt.imshow(preds[2])"
      ]
    },
    {
      "cell_type": "code",
      "execution_count": null,
      "metadata": {
        "id": "dS1YrjFgXvrX"
      },
      "outputs": [],
      "source": []
    }
  ],
  "metadata": {
    "colab": {
      "machine_shape": "hm",
      "provenance": [],
      "authorship_tag": "ABX9TyNiI/uz/vbeHYhOVsmtfyR1",
      "include_colab_link": true
    },
    "kernelspec": {
      "display_name": "Python 3",
      "name": "python3"
    },
    "language_info": {
      "name": "python"
    }
  },
  "nbformat": 4,
  "nbformat_minor": 0
}